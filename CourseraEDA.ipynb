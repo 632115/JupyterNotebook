{
 "cells": [
  {
   "cell_type": "markdown",
   "metadata": {},
   "source": [
    "# Coursera Courses Dataset Analysis\n",
    "\n",
    "**Goal of this Analysis**  \n",
    "This notebook explores and analyzes Coursera course data, focusing on:\n",
    "1. Data cleaning (duplicates, missing values, outliers)\n",
    "2. Exploratory Data Analysis (EDA) using **Pandas**, **Matplotlib**, **Seaborn**, and **Plotly**\n",
    "3. Insights and possible recommendations for further study\n",
    "\n",
    "**Dataset**: [Coursera Course Dataset](https://www.kaggle.com/datasets/siddharthm1698/coursera-course-dataset).  \n",
    "\n",
    "We'll look at features such as:\n",
    "- Course rating\n",
    "- Number of students enrolled\n",
    "- Difficulty level\n",
    "- Organization or University providing the course\n",
    "- And more...\n",
    "\n",
    "By the end, we hope to uncover patterns in course popularity, ratings, and potential relationships between different features.\n"
   ]
  },
  {
   "cell_type": "markdown",
   "metadata": {},
   "source": [
    "## Imports and Libraries"
   ]
  },
  {
   "cell_type": "code",
   "execution_count": 1,
   "metadata": {},
   "outputs": [],
   "source": [
    "import pandas as pd\n",
    "import numpy as np\n",
    "import matplotlib.pyplot as plt\n",
    "import seaborn as sns\n",
    "import plotly.express as px\n",
    "import plotly.graph_objects as go\n",
    "\n",
    "# Display plots inline\n",
    "%matplotlib inline\n",
    "\n",
    "# Seaborn style\n",
    "sns.set_style(\"whitegrid\")\n"
   ]
  },
  {
   "cell_type": "markdown",
   "metadata": {},
   "source": [
    "## Data Loading"
   ]
  },
  {
   "cell_type": "markdown",
   "metadata": {},
   "source": [
    "### Overview of the Datasets Feature description\n",
    "| **Column**                     | **Description**                                                         |\n",
    "|-------------------------------|-------------------------------------------------------------------------|\n",
    "| Unnamed | A unique identifier for each course entry in the dataset.               |\n",
    "| course_title                  | Contains the course title.                                               |\n",
    "| course_organization           | Tells which organization is conducting the courses.                      |\n",
    "| course_Certificate_type       | Details about the different certifications available in the courses.     |\n",
    "| course_rating                 | The course rating (numeric or categorical rating).                       |\n",
    "| course_difficulty             | The difficulty level or learning level of the course.                    |\n",
    "| course_students_enrolled      | Number of students that are enrolled in the course.                      |\n"
   ]
  },
  {
   "cell_type": "code",
   "execution_count": 2,
   "metadata": {},
   "outputs": [
    {
     "data": {
      "text/html": [
       "<div>\n",
       "<style scoped>\n",
       "    .dataframe tbody tr th:only-of-type {\n",
       "        vertical-align: middle;\n",
       "    }\n",
       "\n",
       "    .dataframe tbody tr th {\n",
       "        vertical-align: top;\n",
       "    }\n",
       "\n",
       "    .dataframe thead th {\n",
       "        text-align: right;\n",
       "    }\n",
       "</style>\n",
       "<table border=\"1\" class=\"dataframe\">\n",
       "  <thead>\n",
       "    <tr style=\"text-align: right;\">\n",
       "      <th></th>\n",
       "      <th>Unnamed: 0</th>\n",
       "      <th>course_title</th>\n",
       "      <th>course_organization</th>\n",
       "      <th>course_Certificate_type</th>\n",
       "      <th>course_rating</th>\n",
       "      <th>course_difficulty</th>\n",
       "      <th>course_students_enrolled</th>\n",
       "    </tr>\n",
       "  </thead>\n",
       "  <tbody>\n",
       "    <tr>\n",
       "      <th>0</th>\n",
       "      <td>134</td>\n",
       "      <td>(ISC)² Systems Security Certified Practitioner...</td>\n",
       "      <td>(ISC)²</td>\n",
       "      <td>SPECIALIZATION</td>\n",
       "      <td>4.7</td>\n",
       "      <td>Beginner</td>\n",
       "      <td>5.3k</td>\n",
       "    </tr>\n",
       "    <tr>\n",
       "      <th>1</th>\n",
       "      <td>743</td>\n",
       "      <td>A Crash Course in Causality:  Inferring Causal...</td>\n",
       "      <td>University of Pennsylvania</td>\n",
       "      <td>COURSE</td>\n",
       "      <td>4.7</td>\n",
       "      <td>Intermediate</td>\n",
       "      <td>17k</td>\n",
       "    </tr>\n",
       "    <tr>\n",
       "      <th>2</th>\n",
       "      <td>874</td>\n",
       "      <td>A Crash Course in Data Science</td>\n",
       "      <td>Johns Hopkins University</td>\n",
       "      <td>COURSE</td>\n",
       "      <td>4.5</td>\n",
       "      <td>Mixed</td>\n",
       "      <td>130k</td>\n",
       "    </tr>\n",
       "    <tr>\n",
       "      <th>3</th>\n",
       "      <td>413</td>\n",
       "      <td>A Law Student's Toolkit</td>\n",
       "      <td>Yale University</td>\n",
       "      <td>COURSE</td>\n",
       "      <td>4.7</td>\n",
       "      <td>Mixed</td>\n",
       "      <td>91k</td>\n",
       "    </tr>\n",
       "    <tr>\n",
       "      <th>4</th>\n",
       "      <td>635</td>\n",
       "      <td>A Life of Happiness and Fulfillment</td>\n",
       "      <td>Indian School of Business</td>\n",
       "      <td>COURSE</td>\n",
       "      <td>4.8</td>\n",
       "      <td>Mixed</td>\n",
       "      <td>320k</td>\n",
       "    </tr>\n",
       "  </tbody>\n",
       "</table>\n",
       "</div>"
      ],
      "text/plain": [
       "   Unnamed: 0                                       course_title  \\\n",
       "0         134  (ISC)² Systems Security Certified Practitioner...   \n",
       "1         743  A Crash Course in Causality:  Inferring Causal...   \n",
       "2         874                     A Crash Course in Data Science   \n",
       "3         413                            A Law Student's Toolkit   \n",
       "4         635                A Life of Happiness and Fulfillment   \n",
       "\n",
       "          course_organization course_Certificate_type  course_rating  \\\n",
       "0                      (ISC)²          SPECIALIZATION            4.7   \n",
       "1  University of Pennsylvania                  COURSE            4.7   \n",
       "2    Johns Hopkins University                  COURSE            4.5   \n",
       "3             Yale University                  COURSE            4.7   \n",
       "4   Indian School of Business                  COURSE            4.8   \n",
       "\n",
       "  course_difficulty course_students_enrolled  \n",
       "0          Beginner                     5.3k  \n",
       "1      Intermediate                      17k  \n",
       "2             Mixed                     130k  \n",
       "3             Mixed                      91k  \n",
       "4             Mixed                     320k  "
      ]
     },
     "execution_count": 2,
     "metadata": {},
     "output_type": "execute_result"
    }
   ],
   "source": [
    "df = pd.read_csv(\"C:/JupyterNotebooks/datasets/coursea_data.csv\")\n",
    "df.head()"
   ]
  },
  {
   "cell_type": "markdown",
   "metadata": {},
   "source": [
    "## Basic Exploration, Data Cleaning and Transformation\n",
    "### Here we take a look at the dataset and the statistics of it and notice a few problems:\n",
    "- The First problem we have is that the Feature: **\"course_students_enrolled\"** is an Object and not an int64 data type. Since it represents integer values as an String, we will convert it into int64 data type, so we could easier analyse the numeric values of the feature\n",
    "- The dataset contains a **\"Unnamed: 0\"** column which has various integer values in it, Since it doesnt give us any Information it will be removed"
   ]
  },
  {
   "cell_type": "code",
   "execution_count": 3,
   "metadata": {},
   "outputs": [
    {
     "data": {
      "text/plain": [
       "Unnamed: 0                    int64\n",
       "course_title                 object\n",
       "course_organization          object\n",
       "course_Certificate_type      object\n",
       "course_rating               float64\n",
       "course_difficulty            object\n",
       "course_students_enrolled     object\n",
       "dtype: object"
      ]
     },
     "execution_count": 3,
     "metadata": {},
     "output_type": "execute_result"
    }
   ],
   "source": [
    "df.dtypes"
   ]
  },
  {
   "cell_type": "code",
   "execution_count": 4,
   "metadata": {},
   "outputs": [
    {
     "name": "stdout",
     "output_type": "stream",
     "text": [
      "Number of rows: 891\n",
      "Number of columns: 7\n"
     ]
    },
    {
     "data": {
      "text/html": [
       "<div>\n",
       "<style scoped>\n",
       "    .dataframe tbody tr th:only-of-type {\n",
       "        vertical-align: middle;\n",
       "    }\n",
       "\n",
       "    .dataframe tbody tr th {\n",
       "        vertical-align: top;\n",
       "    }\n",
       "\n",
       "    .dataframe thead th {\n",
       "        text-align: right;\n",
       "    }\n",
       "</style>\n",
       "<table border=\"1\" class=\"dataframe\">\n",
       "  <thead>\n",
       "    <tr style=\"text-align: right;\">\n",
       "      <th></th>\n",
       "      <th>Unnamed: 0</th>\n",
       "      <th>course_rating</th>\n",
       "    </tr>\n",
       "  </thead>\n",
       "  <tbody>\n",
       "    <tr>\n",
       "      <th>count</th>\n",
       "      <td>891.000000</td>\n",
       "      <td>891.000000</td>\n",
       "    </tr>\n",
       "    <tr>\n",
       "      <th>mean</th>\n",
       "      <td>445.000000</td>\n",
       "      <td>4.677329</td>\n",
       "    </tr>\n",
       "    <tr>\n",
       "      <th>std</th>\n",
       "      <td>257.353842</td>\n",
       "      <td>0.162225</td>\n",
       "    </tr>\n",
       "    <tr>\n",
       "      <th>min</th>\n",
       "      <td>0.000000</td>\n",
       "      <td>3.300000</td>\n",
       "    </tr>\n",
       "    <tr>\n",
       "      <th>25%</th>\n",
       "      <td>222.500000</td>\n",
       "      <td>4.600000</td>\n",
       "    </tr>\n",
       "    <tr>\n",
       "      <th>50%</th>\n",
       "      <td>445.000000</td>\n",
       "      <td>4.700000</td>\n",
       "    </tr>\n",
       "    <tr>\n",
       "      <th>75%</th>\n",
       "      <td>667.500000</td>\n",
       "      <td>4.800000</td>\n",
       "    </tr>\n",
       "    <tr>\n",
       "      <th>max</th>\n",
       "      <td>890.000000</td>\n",
       "      <td>5.000000</td>\n",
       "    </tr>\n",
       "  </tbody>\n",
       "</table>\n",
       "</div>"
      ],
      "text/plain": [
       "       Unnamed: 0  course_rating\n",
       "count  891.000000     891.000000\n",
       "mean   445.000000       4.677329\n",
       "std    257.353842       0.162225\n",
       "min      0.000000       3.300000\n",
       "25%    222.500000       4.600000\n",
       "50%    445.000000       4.700000\n",
       "75%    667.500000       4.800000\n",
       "max    890.000000       5.000000"
      ]
     },
     "execution_count": 4,
     "metadata": {},
     "output_type": "execute_result"
    }
   ],
   "source": [
    "print(f\"Number of rows: {df.shape[0]}\")\n",
    "print(f\"Number of columns: {df.shape[1]}\")\n",
    "\n",
    "df.describe()"
   ]
  },
  {
   "cell_type": "markdown",
   "metadata": {},
   "source": [
    "### Removing the \"Unnamed: 0\" Column from the Dataset"
   ]
  },
  {
   "cell_type": "code",
   "execution_count": 5,
   "metadata": {},
   "outputs": [
    {
     "data": {
      "text/html": [
       "<div>\n",
       "<style scoped>\n",
       "    .dataframe tbody tr th:only-of-type {\n",
       "        vertical-align: middle;\n",
       "    }\n",
       "\n",
       "    .dataframe tbody tr th {\n",
       "        vertical-align: top;\n",
       "    }\n",
       "\n",
       "    .dataframe thead th {\n",
       "        text-align: right;\n",
       "    }\n",
       "</style>\n",
       "<table border=\"1\" class=\"dataframe\">\n",
       "  <thead>\n",
       "    <tr style=\"text-align: right;\">\n",
       "      <th></th>\n",
       "      <th>course_title</th>\n",
       "      <th>course_organization</th>\n",
       "      <th>course_Certificate_type</th>\n",
       "      <th>course_rating</th>\n",
       "      <th>course_difficulty</th>\n",
       "      <th>course_students_enrolled</th>\n",
       "    </tr>\n",
       "  </thead>\n",
       "  <tbody>\n",
       "    <tr>\n",
       "      <th>0</th>\n",
       "      <td>(ISC)² Systems Security Certified Practitioner...</td>\n",
       "      <td>(ISC)²</td>\n",
       "      <td>SPECIALIZATION</td>\n",
       "      <td>4.7</td>\n",
       "      <td>Beginner</td>\n",
       "      <td>5.3k</td>\n",
       "    </tr>\n",
       "    <tr>\n",
       "      <th>1</th>\n",
       "      <td>A Crash Course in Causality:  Inferring Causal...</td>\n",
       "      <td>University of Pennsylvania</td>\n",
       "      <td>COURSE</td>\n",
       "      <td>4.7</td>\n",
       "      <td>Intermediate</td>\n",
       "      <td>17k</td>\n",
       "    </tr>\n",
       "    <tr>\n",
       "      <th>2</th>\n",
       "      <td>A Crash Course in Data Science</td>\n",
       "      <td>Johns Hopkins University</td>\n",
       "      <td>COURSE</td>\n",
       "      <td>4.5</td>\n",
       "      <td>Mixed</td>\n",
       "      <td>130k</td>\n",
       "    </tr>\n",
       "    <tr>\n",
       "      <th>3</th>\n",
       "      <td>A Law Student's Toolkit</td>\n",
       "      <td>Yale University</td>\n",
       "      <td>COURSE</td>\n",
       "      <td>4.7</td>\n",
       "      <td>Mixed</td>\n",
       "      <td>91k</td>\n",
       "    </tr>\n",
       "    <tr>\n",
       "      <th>4</th>\n",
       "      <td>A Life of Happiness and Fulfillment</td>\n",
       "      <td>Indian School of Business</td>\n",
       "      <td>COURSE</td>\n",
       "      <td>4.8</td>\n",
       "      <td>Mixed</td>\n",
       "      <td>320k</td>\n",
       "    </tr>\n",
       "  </tbody>\n",
       "</table>\n",
       "</div>"
      ],
      "text/plain": [
       "                                        course_title  \\\n",
       "0  (ISC)² Systems Security Certified Practitioner...   \n",
       "1  A Crash Course in Causality:  Inferring Causal...   \n",
       "2                     A Crash Course in Data Science   \n",
       "3                            A Law Student's Toolkit   \n",
       "4                A Life of Happiness and Fulfillment   \n",
       "\n",
       "          course_organization course_Certificate_type  course_rating  \\\n",
       "0                      (ISC)²          SPECIALIZATION            4.7   \n",
       "1  University of Pennsylvania                  COURSE            4.7   \n",
       "2    Johns Hopkins University                  COURSE            4.5   \n",
       "3             Yale University                  COURSE            4.7   \n",
       "4   Indian School of Business                  COURSE            4.8   \n",
       "\n",
       "  course_difficulty course_students_enrolled  \n",
       "0          Beginner                     5.3k  \n",
       "1      Intermediate                      17k  \n",
       "2             Mixed                     130k  \n",
       "3             Mixed                      91k  \n",
       "4             Mixed                     320k  "
      ]
     },
     "execution_count": 5,
     "metadata": {},
     "output_type": "execute_result"
    }
   ],
   "source": [
    "if \"Unnamed: 0\" in df.columns:\n",
    "    df.drop(columns=[\"Unnamed: 0\"], inplace=True)\n",
    "    \n",
    "df.head()"
   ]
  },
  {
   "cell_type": "markdown",
   "metadata": {},
   "source": [
    "### Converting \"course_students_enrolled\" String into an Integer data type"
   ]
  },
  {
   "cell_type": "code",
   "execution_count": 6,
   "metadata": {},
   "outputs": [],
   "source": [
    "def parse_enrollment(value: str) -> int:\n",
    "    val = value.strip().lower()\n",
    "    if val.endswith('k'):\n",
    "        num = float(val.replace('k', ''))\n",
    "        return int(num * 1000)\n",
    "    elif val.endswith('m'):\n",
    "        num = float(val.replace('m', ''))\n",
    "        return int(num * 1000000)\n",
    "    else:\n",
    "        return int(float(val))\n",
    "df[\"course_students_enrolled\"] = df[\"course_students_enrolled\"].apply(parse_enrollment)"
   ]
  },
  {
   "cell_type": "code",
   "execution_count": 7,
   "metadata": {},
   "outputs": [
    {
     "data": {
      "text/html": [
       "<div>\n",
       "<style scoped>\n",
       "    .dataframe tbody tr th:only-of-type {\n",
       "        vertical-align: middle;\n",
       "    }\n",
       "\n",
       "    .dataframe tbody tr th {\n",
       "        vertical-align: top;\n",
       "    }\n",
       "\n",
       "    .dataframe thead th {\n",
       "        text-align: right;\n",
       "    }\n",
       "</style>\n",
       "<table border=\"1\" class=\"dataframe\">\n",
       "  <thead>\n",
       "    <tr style=\"text-align: right;\">\n",
       "      <th></th>\n",
       "      <th>course_title</th>\n",
       "      <th>course_organization</th>\n",
       "      <th>course_Certificate_type</th>\n",
       "      <th>course_rating</th>\n",
       "      <th>course_difficulty</th>\n",
       "      <th>course_students_enrolled</th>\n",
       "    </tr>\n",
       "  </thead>\n",
       "  <tbody>\n",
       "    <tr>\n",
       "      <th>0</th>\n",
       "      <td>(ISC)² Systems Security Certified Practitioner...</td>\n",
       "      <td>(ISC)²</td>\n",
       "      <td>SPECIALIZATION</td>\n",
       "      <td>4.7</td>\n",
       "      <td>Beginner</td>\n",
       "      <td>5300</td>\n",
       "    </tr>\n",
       "    <tr>\n",
       "      <th>1</th>\n",
       "      <td>A Crash Course in Causality:  Inferring Causal...</td>\n",
       "      <td>University of Pennsylvania</td>\n",
       "      <td>COURSE</td>\n",
       "      <td>4.7</td>\n",
       "      <td>Intermediate</td>\n",
       "      <td>17000</td>\n",
       "    </tr>\n",
       "    <tr>\n",
       "      <th>2</th>\n",
       "      <td>A Crash Course in Data Science</td>\n",
       "      <td>Johns Hopkins University</td>\n",
       "      <td>COURSE</td>\n",
       "      <td>4.5</td>\n",
       "      <td>Mixed</td>\n",
       "      <td>130000</td>\n",
       "    </tr>\n",
       "    <tr>\n",
       "      <th>3</th>\n",
       "      <td>A Law Student's Toolkit</td>\n",
       "      <td>Yale University</td>\n",
       "      <td>COURSE</td>\n",
       "      <td>4.7</td>\n",
       "      <td>Mixed</td>\n",
       "      <td>91000</td>\n",
       "    </tr>\n",
       "    <tr>\n",
       "      <th>4</th>\n",
       "      <td>A Life of Happiness and Fulfillment</td>\n",
       "      <td>Indian School of Business</td>\n",
       "      <td>COURSE</td>\n",
       "      <td>4.8</td>\n",
       "      <td>Mixed</td>\n",
       "      <td>320000</td>\n",
       "    </tr>\n",
       "  </tbody>\n",
       "</table>\n",
       "</div>"
      ],
      "text/plain": [
       "                                        course_title  \\\n",
       "0  (ISC)² Systems Security Certified Practitioner...   \n",
       "1  A Crash Course in Causality:  Inferring Causal...   \n",
       "2                     A Crash Course in Data Science   \n",
       "3                            A Law Student's Toolkit   \n",
       "4                A Life of Happiness and Fulfillment   \n",
       "\n",
       "          course_organization course_Certificate_type  course_rating  \\\n",
       "0                      (ISC)²          SPECIALIZATION            4.7   \n",
       "1  University of Pennsylvania                  COURSE            4.7   \n",
       "2    Johns Hopkins University                  COURSE            4.5   \n",
       "3             Yale University                  COURSE            4.7   \n",
       "4   Indian School of Business                  COURSE            4.8   \n",
       "\n",
       "  course_difficulty  course_students_enrolled  \n",
       "0          Beginner                      5300  \n",
       "1      Intermediate                     17000  \n",
       "2             Mixed                    130000  \n",
       "3             Mixed                     91000  \n",
       "4             Mixed                    320000  "
      ]
     },
     "execution_count": 7,
     "metadata": {},
     "output_type": "execute_result"
    }
   ],
   "source": [
    "df.head()"
   ]
  },
  {
   "cell_type": "markdown",
   "metadata": {},
   "source": [
    "### Checking again the Statistics of 2 Numeric Features\n",
    "- **Course rating** has a a min value of **\"3.3\"**, the max value is **\"5\"**, this tells us that there arent any 1 and 2 star ratings, so there were absolutely no students that were completely unsatisfied with the courses. The mean value of the ratings is **~4.7** which indicates that most of the students give a high rating for the courses, thats a pretty good considering 5 is the max rating.\n",
    "- **Students Enrolled** The average number of enrollments per course is about 90.552k, but it can go as high as 3.2 million. This large range and high standard deviation (~181.937k) suggest there are some courses with extremely high enrollments and many that are more modest."
   ]
  },
  {
   "cell_type": "code",
   "execution_count": 8,
   "metadata": {},
   "outputs": [
    {
     "data": {
      "text/html": [
       "<div>\n",
       "<style scoped>\n",
       "    .dataframe tbody tr th:only-of-type {\n",
       "        vertical-align: middle;\n",
       "    }\n",
       "\n",
       "    .dataframe tbody tr th {\n",
       "        vertical-align: top;\n",
       "    }\n",
       "\n",
       "    .dataframe thead th {\n",
       "        text-align: right;\n",
       "    }\n",
       "</style>\n",
       "<table border=\"1\" class=\"dataframe\">\n",
       "  <thead>\n",
       "    <tr style=\"text-align: right;\">\n",
       "      <th></th>\n",
       "      <th>course_rating</th>\n",
       "      <th>course_students_enrolled</th>\n",
       "    </tr>\n",
       "  </thead>\n",
       "  <tbody>\n",
       "    <tr>\n",
       "      <th>count</th>\n",
       "      <td>891.000000</td>\n",
       "      <td>8.910000e+02</td>\n",
       "    </tr>\n",
       "    <tr>\n",
       "      <th>mean</th>\n",
       "      <td>4.677329</td>\n",
       "      <td>9.055208e+04</td>\n",
       "    </tr>\n",
       "    <tr>\n",
       "      <th>std</th>\n",
       "      <td>0.162225</td>\n",
       "      <td>1.819365e+05</td>\n",
       "    </tr>\n",
       "    <tr>\n",
       "      <th>min</th>\n",
       "      <td>3.300000</td>\n",
       "      <td>1.500000e+03</td>\n",
       "    </tr>\n",
       "    <tr>\n",
       "      <th>25%</th>\n",
       "      <td>4.600000</td>\n",
       "      <td>1.750000e+04</td>\n",
       "    </tr>\n",
       "    <tr>\n",
       "      <th>50%</th>\n",
       "      <td>4.700000</td>\n",
       "      <td>4.200000e+04</td>\n",
       "    </tr>\n",
       "    <tr>\n",
       "      <th>75%</th>\n",
       "      <td>4.800000</td>\n",
       "      <td>9.950000e+04</td>\n",
       "    </tr>\n",
       "    <tr>\n",
       "      <th>max</th>\n",
       "      <td>5.000000</td>\n",
       "      <td>3.200000e+06</td>\n",
       "    </tr>\n",
       "  </tbody>\n",
       "</table>\n",
       "</div>"
      ],
      "text/plain": [
       "       course_rating  course_students_enrolled\n",
       "count     891.000000              8.910000e+02\n",
       "mean        4.677329              9.055208e+04\n",
       "std         0.162225              1.819365e+05\n",
       "min         3.300000              1.500000e+03\n",
       "25%         4.600000              1.750000e+04\n",
       "50%         4.700000              4.200000e+04\n",
       "75%         4.800000              9.950000e+04\n",
       "max         5.000000              3.200000e+06"
      ]
     },
     "execution_count": 8,
     "metadata": {},
     "output_type": "execute_result"
    }
   ],
   "source": [
    "df.describe()"
   ]
  },
  {
   "cell_type": "markdown",
   "metadata": {},
   "source": [
    "### Dataset Features\n",
    "- The Dataset contains **4 Categorical Features** and **2 Numeric Features** after the convertion of \"course_students_enrolled\""
   ]
  },
  {
   "cell_type": "code",
   "execution_count": 9,
   "metadata": {},
   "outputs": [
    {
     "data": {
      "text/plain": [
       "course_title                 object\n",
       "course_organization          object\n",
       "course_Certificate_type      object\n",
       "course_rating               float64\n",
       "course_difficulty            object\n",
       "course_students_enrolled      int64\n",
       "dtype: object"
      ]
     },
     "execution_count": 9,
     "metadata": {},
     "output_type": "execute_result"
    }
   ],
   "source": [
    "df.dtypes"
   ]
  },
  {
   "cell_type": "markdown",
   "metadata": {},
   "source": [
    "## Checking Duplicates, Missing Values and Outliers"
   ]
  },
  {
   "cell_type": "markdown",
   "metadata": {},
   "source": [
    "- Checking for Duplicates and droping them if any found. None was found."
   ]
  },
  {
   "cell_type": "code",
   "execution_count": 10,
   "metadata": {},
   "outputs": [
    {
     "name": "stdout",
     "output_type": "stream",
     "text": [
      "Number of duplicate rows: 0\n",
      "No duplicates found.\n"
     ]
    }
   ],
   "source": [
    "duplicate_count = df.duplicated().sum()\n",
    "print(f\"Number of duplicate rows: {duplicate_count}\")\n",
    "\n",
    "if duplicate_count > 0:\n",
    "    # If duplicates found, will drop them:\n",
    "    df.drop_duplicates(inplace=True)\n",
    "    print(\"Duplicates dropped.\")\n",
    "else:\n",
    "    print(\"No duplicates found.\")"
   ]
  },
  {
   "cell_type": "markdown",
   "metadata": {},
   "source": [
    "- Checking for missing values. None found"
   ]
  },
  {
   "cell_type": "code",
   "execution_count": 11,
   "metadata": {},
   "outputs": [
    {
     "name": "stdout",
     "output_type": "stream",
     "text": [
      "\n",
      "Missing values in each column:\n",
      "course_title                0\n",
      "course_organization         0\n",
      "course_Certificate_type     0\n",
      "course_rating               0\n",
      "course_difficulty           0\n",
      "course_students_enrolled    0\n",
      "dtype: int64\n"
     ]
    }
   ],
   "source": [
    "missing_values = df.isnull().sum()\n",
    "print(\"\\nMissing values in each column:\")\n",
    "print(missing_values)"
   ]
  },
  {
   "cell_type": "markdown",
   "metadata": {},
   "source": [
    "### Checking Outliers\n",
    "- There are **17** Outliers in **\"course_rating\"** but the all tend to be in the lower end of the ratings, where the minimum is 3.3. The whole rating distribution once again confirms that students tend to rate all the courses very good between 4.25 and 5 rating.\n",
    "- **\"course_students_enrolled\"** has **78** Outliers where the **highest Outlier** has the value of **3.2 Million**, this pretty impressive for a course to have so many enrolled students. because of such high Outliers the Boxplot chart is compressed and not as pleasing to look at, but still shows important distribution in the dataset."
   ]
  },
  {
   "cell_type": "code",
   "execution_count": 13,
   "metadata": {},
   "outputs": [
    {
     "name": "stdout",
     "output_type": "stream",
     "text": [
      "Outliers detected in course_rating: 17\n",
      "Outliers detected in course_students_enrolled: 78\n"
     ]
    },
    {
     "data": {
      "application/vnd.plotly.v1+json": {
       "config": {
        "plotlyServerURL": "https://plot.ly"
       },
       "data": [
        {
         "alignmentgroup": "True",
         "hovertemplate": "course_rating=%{y}<extra></extra>",
         "legendgroup": "",
         "marker": {
          "color": "#636efa"
         },
         "name": "",
         "notched": false,
         "offsetgroup": "",
         "orientation": "v",
         "showlegend": false,
         "type": "box",
         "x0": " ",
         "xaxis": "x",
         "y": [
          4.7,
          4.7,
          4.5,
          4.7,
          4.8,
          4.7,
          4.8,
          4.8,
          4.7,
          4.7,
          4.6,
          4.7,
          4.6,
          4.3,
          4.7,
          4.7,
          4.5,
          4.7,
          4.7,
          4.7,
          4.6,
          4.5,
          4.8,
          4.7,
          4.8,
          4.8,
          4.5,
          4.4,
          4.5,
          4.5,
          4.7,
          4.8,
          4.7,
          4.7,
          4.7,
          4.7,
          4.9,
          4.7,
          4.8,
          4.8,
          4.9,
          4.8,
          4.7,
          4.6,
          4.6,
          4.8,
          4.8,
          4.8,
          4.8,
          4.5,
          4.8,
          4.5,
          4.8,
          4.6,
          4.6,
          4.7,
          4.5,
          4.6,
          4.6,
          4.2,
          4.8,
          4.9,
          4.5,
          4.7,
          4.5,
          4.9,
          4.8,
          4.8,
          4.6,
          4.8,
          4.9,
          4.7,
          4.8,
          4.6,
          4.8,
          4.8,
          4.7,
          4.7,
          4.6,
          4.6,
          4.8,
          4.8,
          4.9,
          4.7,
          4.7,
          4.7,
          4.8,
          4.4,
          4.6,
          4.5,
          4.6,
          4.4,
          4.8,
          4.8,
          4.6,
          4.7,
          4.6,
          4.7,
          4.9,
          4.9,
          4.6,
          4.7,
          4.9,
          4.9,
          4.5,
          4.5,
          4.6,
          4.3,
          4.5,
          4.6,
          4.7,
          4.7,
          4.7,
          4.7,
          4.7,
          4.7,
          4.7,
          4.7,
          4.5,
          4.7,
          4.8,
          4.5,
          4.5,
          4.7,
          4.9,
          4.8,
          4.7,
          4.7,
          4.6,
          4.4,
          4.8,
          4.7,
          4.7,
          4.7,
          4.8,
          4.7,
          4.8,
          4.8,
          4.6,
          4.8,
          4.4,
          4.5,
          4.7,
          4.7,
          4.7,
          4.7,
          4.8,
          4.9,
          4.7,
          4.7,
          4.6,
          4.8,
          4.6,
          4.3,
          4.7,
          4.7,
          4.8,
          4.8,
          4.7,
          4.5,
          4.6,
          4.8,
          4.9,
          4.7,
          4.8,
          4.8,
          4.8,
          4.6,
          4.6,
          4.8,
          4.8,
          4.8,
          4.3,
          4.6,
          4.7,
          4.7,
          4.8,
          4.8,
          4.6,
          4.6,
          4.7,
          4.5,
          4.2,
          4.6,
          4.8,
          4.8,
          4.4,
          4.6,
          4.7,
          4.8,
          4.7,
          4.4,
          4.6,
          4.6,
          4.7,
          4.4,
          4.5,
          4.5,
          4.6,
          4.6,
          4.4,
          4.7,
          4.8,
          4.6,
          4.5,
          4.5,
          4.7,
          4.6,
          4.7,
          4.8,
          4.6,
          4.8,
          4.8,
          4.7,
          4.4,
          4.6,
          4.6,
          4.7,
          4.7,
          4.6,
          4.6,
          4.7,
          4.8,
          4.6,
          4.8,
          4.8,
          4.7,
          4.4,
          4.5,
          4.6,
          4.6,
          4.4,
          4.7,
          4.7,
          4.5,
          4.9,
          4.6,
          4.9,
          4.8,
          4.6,
          4.8,
          4.7,
          4.6,
          4.7,
          4.8,
          4.8,
          4.7,
          4.9,
          4.7,
          4.9,
          4.9,
          5,
          4.7,
          4.8,
          4.8,
          4.6,
          4.7,
          4.8,
          4.7,
          4.6,
          4.8,
          4.8,
          4.8,
          4.6,
          4.8,
          4.4,
          4.5,
          4.8,
          4.8,
          4.8,
          4.7,
          4.8,
          4.6,
          4.8,
          4.7,
          4.7,
          4.7,
          4.6,
          4.8,
          4.8,
          4.5,
          4.7,
          4.7,
          4.7,
          4.8,
          4.6,
          4.8,
          4.7,
          4.8,
          4.8,
          4.9,
          4.9,
          4.7,
          4.9,
          4.9,
          4.8,
          4.6,
          4.8,
          4.8,
          4.5,
          4.8,
          4.8,
          4.8,
          4.8,
          4.6,
          4.7,
          4.5,
          4.8,
          4.4,
          4.8,
          4.5,
          4.6,
          4.7,
          4.8,
          4.5,
          4.8,
          4.7,
          4.8,
          4.6,
          4.8,
          4.7,
          4.6,
          4.9,
          4.8,
          4.7,
          4.9,
          4.8,
          4.8,
          4.8,
          4.7,
          4.8,
          4.2,
          4.8,
          4.8,
          4.6,
          4.8,
          4.7,
          4.8,
          4.7,
          4.7,
          4.8,
          4.7,
          4.6,
          4.6,
          4.8,
          4.7,
          4.8,
          4.8,
          4.7,
          4.7,
          4.6,
          4.7,
          4.6,
          4.8,
          4.5,
          4.6,
          4.6,
          4.7,
          4.8,
          4.6,
          4.6,
          4.8,
          4.7,
          4.8,
          4.7,
          4.6,
          4.8,
          4.7,
          4.4,
          4.8,
          4.3,
          4.8,
          4.7,
          4.7,
          4.5,
          4.5,
          4.6,
          4.5,
          4.6,
          4.9,
          4.6,
          4.7,
          4.5,
          4.6,
          4.6,
          4.6,
          4.8,
          4.8,
          4.6,
          4.6,
          4.7,
          4.7,
          4.8,
          4.7,
          4.7,
          4.8,
          4.6,
          4.8,
          4.7,
          4.8,
          4.7,
          4.8,
          4.2,
          4.6,
          4.5,
          4.5,
          4.7,
          4.4,
          4.6,
          4.8,
          4.7,
          4.6,
          4.8,
          3.3,
          4.1,
          4.7,
          4.6,
          4.4,
          4.6,
          4.8,
          4.6,
          4.5,
          4.8,
          4.9,
          4.7,
          4.6,
          4.7,
          4.9,
          4.4,
          4.9,
          4.8,
          4.5,
          5,
          4.4,
          4.8,
          4.6,
          4.6,
          4.7,
          4.7,
          4.6,
          4.8,
          4.8,
          4.5,
          4.7,
          4.8,
          4.2,
          4.6,
          4.8,
          4.8,
          4.5,
          4.6,
          4.5,
          4.4,
          4.8,
          4.8,
          4.8,
          4.8,
          4.6,
          4.8,
          4.5,
          4.9,
          4.6,
          4.7,
          4.8,
          4.6,
          4.7,
          4.4,
          4.8,
          4.8,
          4.7,
          4.6,
          4.7,
          4.9,
          4.7,
          4.8,
          4.8,
          4.8,
          4.9,
          4.6,
          4.3,
          4.3,
          4.6,
          4.7,
          4.7,
          4.5,
          4.7,
          4.6,
          4.5,
          4.8,
          4.4,
          4.7,
          4.5,
          4.7,
          4.8,
          4.7,
          4.9,
          4.8,
          4.8,
          4.6,
          4.7,
          4.5,
          4.8,
          4.8,
          4.8,
          4.8,
          4.5,
          4.4,
          4.6,
          4.8,
          4.7,
          4.7,
          4.8,
          4.9,
          4.7,
          4.8,
          4.2,
          4.7,
          4.8,
          4.8,
          4.7,
          4.7,
          4.8,
          4,
          4.8,
          4.5,
          4.8,
          4.7,
          4.8,
          4.7,
          4.9,
          4.9,
          4.7,
          4.6,
          4.5,
          4.6,
          4.6,
          4.6,
          4.5,
          4.7,
          4.7,
          4.6,
          4.7,
          4.7,
          4.8,
          4.7,
          4.7,
          4.8,
          4.8,
          4.3,
          4.5,
          4.8,
          4.7,
          4.8,
          4.6,
          4.6,
          4.8,
          4.9,
          4.7,
          4.5,
          4.7,
          4.8,
          4.6,
          4.7,
          4.6,
          4.9,
          4.6,
          3.7,
          4.6,
          4.6,
          3.9,
          4.7,
          4.5,
          4.6,
          4.7,
          4.7,
          4.9,
          4.7,
          4.7,
          4.7,
          4.5,
          4.6,
          4.5,
          4.8,
          4.7,
          4.7,
          4.6,
          4.4,
          4.8,
          4.4,
          4.7,
          4.2,
          4.6,
          4.3,
          4.7,
          4.5,
          4.6,
          4.7,
          4.7,
          4,
          4.8,
          4.9,
          4.3,
          4.6,
          4.9,
          4.7,
          4.8,
          4.7,
          4.8,
          4.6,
          4.7,
          4.8,
          4.7,
          4.7,
          4.8,
          4.9,
          4.9,
          4.8,
          4.8,
          4.9,
          4.8,
          4.8,
          4.6,
          4.8,
          4.7,
          4.8,
          4.7,
          4.9,
          4.7,
          4.7,
          4.8,
          4.8,
          4.8,
          4.7,
          4.6,
          4.7,
          4.7,
          4.8,
          4.4,
          4.6,
          4.7,
          4.2,
          4.7,
          4.7,
          4.8,
          4.6,
          4.5,
          4.5,
          4.8,
          4.6,
          4.5,
          4.7,
          4.9,
          4.7,
          4.7,
          4.7,
          4.8,
          4.7,
          4.8,
          4.8,
          4.6,
          4.8,
          4.7,
          4.6,
          4.7,
          4.8,
          4.6,
          4.8,
          4.8,
          4.8,
          4.7,
          4.6,
          4.8,
          4.6,
          4.7,
          4.8,
          4.6,
          4.2,
          4.7,
          4.6,
          4.7,
          4.8,
          4.6,
          4.8,
          4.7,
          4.9,
          4.8,
          4.4,
          4.6,
          4.8,
          4.7,
          4.9,
          4.6,
          4.8,
          4.3,
          4.7,
          4.7,
          4.7,
          4.7,
          4.6,
          4.6,
          4.8,
          4.5,
          4.9,
          4.9,
          4.4,
          4.9,
          4.7,
          4.7,
          4.5,
          4.8,
          4.6,
          4.6,
          4.4,
          4.7,
          4.8,
          4.5,
          4.8,
          4.8,
          4.7,
          4.4,
          4.7,
          4.7,
          4.7,
          4.8,
          4.8,
          4.7,
          4.5,
          4.7,
          4.7,
          4.8,
          4.6,
          4.6,
          4.6,
          4.6,
          4.8,
          4.7,
          4.8,
          4.6,
          4.6,
          4.7,
          4.6,
          4.8,
          4.8,
          4.9,
          4.8,
          4.6,
          4.6,
          4.7,
          4.8,
          4.7,
          4.7,
          4.7,
          4.6,
          4.7,
          4.9,
          4.3,
          4.7,
          4.7,
          4.7,
          4.7,
          4.5,
          4.8,
          4.6,
          4.8,
          4.8,
          4.8,
          4.8,
          4.7,
          4.6,
          4.7,
          4.7,
          4.8,
          4.6,
          4.8,
          4.3,
          4.6,
          4.5,
          4.7,
          4.4,
          4.9,
          4.9,
          4.9,
          4.9,
          4.4,
          4.8,
          4.8,
          4.8,
          4.7,
          4.5,
          4.8,
          4.6,
          4.8,
          4.7,
          4.5,
          4.7,
          4.6,
          4.8,
          4.7,
          4.8,
          4.8,
          4.6,
          4.8,
          4.8,
          4.9,
          4.6,
          4.8,
          4.8,
          4.9,
          4.6,
          4.7,
          4.6,
          4.6,
          4.7,
          4.8,
          4.9,
          4.9,
          4.8,
          4.6,
          4.5,
          4.8,
          4.7,
          4.8,
          4.7,
          4.7,
          4.6,
          4.6,
          4.3,
          4.8,
          4.7,
          4.9,
          4.8,
          4.6,
          4.7,
          4.8,
          4.8,
          4.8,
          4.9,
          4.8,
          4.4,
          4.8,
          4.5,
          4.7,
          4.9,
          4.5,
          4.2,
          4.8,
          4.9,
          4.8,
          4.6,
          4.8,
          4.8,
          4.7,
          4.7,
          4.8,
          4.7,
          4.7,
          4.3,
          4.8,
          4.8,
          4.7,
          4.7,
          4.7,
          4.7,
          4.8,
          4.7,
          4.6,
          4.7,
          4.8,
          4.9,
          4.7,
          4.4,
          4.9,
          4.5,
          3.9,
          4.7,
          4.8,
          4.5,
          4.6,
          4.9,
          4.5,
          4.8,
          4.7,
          4.5,
          4.6,
          4.9,
          4.7,
          4.5,
          4.8,
          4.5,
          4.6,
          4.7
         ],
         "y0": " ",
         "yaxis": "y"
        }
       ],
       "layout": {
        "boxmode": "group",
        "height": 600,
        "legend": {
         "tracegroupgap": 0
        },
        "template": {
         "data": {
          "bar": [
           {
            "error_x": {
             "color": "#2a3f5f"
            },
            "error_y": {
             "color": "#2a3f5f"
            },
            "marker": {
             "line": {
              "color": "white",
              "width": 0.5
             },
             "pattern": {
              "fillmode": "overlay",
              "size": 10,
              "solidity": 0.2
             }
            },
            "type": "bar"
           }
          ],
          "barpolar": [
           {
            "marker": {
             "line": {
              "color": "white",
              "width": 0.5
             },
             "pattern": {
              "fillmode": "overlay",
              "size": 10,
              "solidity": 0.2
             }
            },
            "type": "barpolar"
           }
          ],
          "carpet": [
           {
            "aaxis": {
             "endlinecolor": "#2a3f5f",
             "gridcolor": "#C8D4E3",
             "linecolor": "#C8D4E3",
             "minorgridcolor": "#C8D4E3",
             "startlinecolor": "#2a3f5f"
            },
            "baxis": {
             "endlinecolor": "#2a3f5f",
             "gridcolor": "#C8D4E3",
             "linecolor": "#C8D4E3",
             "minorgridcolor": "#C8D4E3",
             "startlinecolor": "#2a3f5f"
            },
            "type": "carpet"
           }
          ],
          "choropleth": [
           {
            "colorbar": {
             "outlinewidth": 0,
             "ticks": ""
            },
            "type": "choropleth"
           }
          ],
          "contour": [
           {
            "colorbar": {
             "outlinewidth": 0,
             "ticks": ""
            },
            "colorscale": [
             [
              0,
              "#0d0887"
             ],
             [
              0.1111111111111111,
              "#46039f"
             ],
             [
              0.2222222222222222,
              "#7201a8"
             ],
             [
              0.3333333333333333,
              "#9c179e"
             ],
             [
              0.4444444444444444,
              "#bd3786"
             ],
             [
              0.5555555555555556,
              "#d8576b"
             ],
             [
              0.6666666666666666,
              "#ed7953"
             ],
             [
              0.7777777777777778,
              "#fb9f3a"
             ],
             [
              0.8888888888888888,
              "#fdca26"
             ],
             [
              1,
              "#f0f921"
             ]
            ],
            "type": "contour"
           }
          ],
          "contourcarpet": [
           {
            "colorbar": {
             "outlinewidth": 0,
             "ticks": ""
            },
            "type": "contourcarpet"
           }
          ],
          "heatmap": [
           {
            "colorbar": {
             "outlinewidth": 0,
             "ticks": ""
            },
            "colorscale": [
             [
              0,
              "#0d0887"
             ],
             [
              0.1111111111111111,
              "#46039f"
             ],
             [
              0.2222222222222222,
              "#7201a8"
             ],
             [
              0.3333333333333333,
              "#9c179e"
             ],
             [
              0.4444444444444444,
              "#bd3786"
             ],
             [
              0.5555555555555556,
              "#d8576b"
             ],
             [
              0.6666666666666666,
              "#ed7953"
             ],
             [
              0.7777777777777778,
              "#fb9f3a"
             ],
             [
              0.8888888888888888,
              "#fdca26"
             ],
             [
              1,
              "#f0f921"
             ]
            ],
            "type": "heatmap"
           }
          ],
          "heatmapgl": [
           {
            "colorbar": {
             "outlinewidth": 0,
             "ticks": ""
            },
            "colorscale": [
             [
              0,
              "#0d0887"
             ],
             [
              0.1111111111111111,
              "#46039f"
             ],
             [
              0.2222222222222222,
              "#7201a8"
             ],
             [
              0.3333333333333333,
              "#9c179e"
             ],
             [
              0.4444444444444444,
              "#bd3786"
             ],
             [
              0.5555555555555556,
              "#d8576b"
             ],
             [
              0.6666666666666666,
              "#ed7953"
             ],
             [
              0.7777777777777778,
              "#fb9f3a"
             ],
             [
              0.8888888888888888,
              "#fdca26"
             ],
             [
              1,
              "#f0f921"
             ]
            ],
            "type": "heatmapgl"
           }
          ],
          "histogram": [
           {
            "marker": {
             "pattern": {
              "fillmode": "overlay",
              "size": 10,
              "solidity": 0.2
             }
            },
            "type": "histogram"
           }
          ],
          "histogram2d": [
           {
            "colorbar": {
             "outlinewidth": 0,
             "ticks": ""
            },
            "colorscale": [
             [
              0,
              "#0d0887"
             ],
             [
              0.1111111111111111,
              "#46039f"
             ],
             [
              0.2222222222222222,
              "#7201a8"
             ],
             [
              0.3333333333333333,
              "#9c179e"
             ],
             [
              0.4444444444444444,
              "#bd3786"
             ],
             [
              0.5555555555555556,
              "#d8576b"
             ],
             [
              0.6666666666666666,
              "#ed7953"
             ],
             [
              0.7777777777777778,
              "#fb9f3a"
             ],
             [
              0.8888888888888888,
              "#fdca26"
             ],
             [
              1,
              "#f0f921"
             ]
            ],
            "type": "histogram2d"
           }
          ],
          "histogram2dcontour": [
           {
            "colorbar": {
             "outlinewidth": 0,
             "ticks": ""
            },
            "colorscale": [
             [
              0,
              "#0d0887"
             ],
             [
              0.1111111111111111,
              "#46039f"
             ],
             [
              0.2222222222222222,
              "#7201a8"
             ],
             [
              0.3333333333333333,
              "#9c179e"
             ],
             [
              0.4444444444444444,
              "#bd3786"
             ],
             [
              0.5555555555555556,
              "#d8576b"
             ],
             [
              0.6666666666666666,
              "#ed7953"
             ],
             [
              0.7777777777777778,
              "#fb9f3a"
             ],
             [
              0.8888888888888888,
              "#fdca26"
             ],
             [
              1,
              "#f0f921"
             ]
            ],
            "type": "histogram2dcontour"
           }
          ],
          "mesh3d": [
           {
            "colorbar": {
             "outlinewidth": 0,
             "ticks": ""
            },
            "type": "mesh3d"
           }
          ],
          "parcoords": [
           {
            "line": {
             "colorbar": {
              "outlinewidth": 0,
              "ticks": ""
             }
            },
            "type": "parcoords"
           }
          ],
          "pie": [
           {
            "automargin": true,
            "type": "pie"
           }
          ],
          "scatter": [
           {
            "fillpattern": {
             "fillmode": "overlay",
             "size": 10,
             "solidity": 0.2
            },
            "type": "scatter"
           }
          ],
          "scatter3d": [
           {
            "line": {
             "colorbar": {
              "outlinewidth": 0,
              "ticks": ""
             }
            },
            "marker": {
             "colorbar": {
              "outlinewidth": 0,
              "ticks": ""
             }
            },
            "type": "scatter3d"
           }
          ],
          "scattercarpet": [
           {
            "marker": {
             "colorbar": {
              "outlinewidth": 0,
              "ticks": ""
             }
            },
            "type": "scattercarpet"
           }
          ],
          "scattergeo": [
           {
            "marker": {
             "colorbar": {
              "outlinewidth": 0,
              "ticks": ""
             }
            },
            "type": "scattergeo"
           }
          ],
          "scattergl": [
           {
            "marker": {
             "colorbar": {
              "outlinewidth": 0,
              "ticks": ""
             }
            },
            "type": "scattergl"
           }
          ],
          "scattermapbox": [
           {
            "marker": {
             "colorbar": {
              "outlinewidth": 0,
              "ticks": ""
             }
            },
            "type": "scattermapbox"
           }
          ],
          "scatterpolar": [
           {
            "marker": {
             "colorbar": {
              "outlinewidth": 0,
              "ticks": ""
             }
            },
            "type": "scatterpolar"
           }
          ],
          "scatterpolargl": [
           {
            "marker": {
             "colorbar": {
              "outlinewidth": 0,
              "ticks": ""
             }
            },
            "type": "scatterpolargl"
           }
          ],
          "scatterternary": [
           {
            "marker": {
             "colorbar": {
              "outlinewidth": 0,
              "ticks": ""
             }
            },
            "type": "scatterternary"
           }
          ],
          "surface": [
           {
            "colorbar": {
             "outlinewidth": 0,
             "ticks": ""
            },
            "colorscale": [
             [
              0,
              "#0d0887"
             ],
             [
              0.1111111111111111,
              "#46039f"
             ],
             [
              0.2222222222222222,
              "#7201a8"
             ],
             [
              0.3333333333333333,
              "#9c179e"
             ],
             [
              0.4444444444444444,
              "#bd3786"
             ],
             [
              0.5555555555555556,
              "#d8576b"
             ],
             [
              0.6666666666666666,
              "#ed7953"
             ],
             [
              0.7777777777777778,
              "#fb9f3a"
             ],
             [
              0.8888888888888888,
              "#fdca26"
             ],
             [
              1,
              "#f0f921"
             ]
            ],
            "type": "surface"
           }
          ],
          "table": [
           {
            "cells": {
             "fill": {
              "color": "#EBF0F8"
             },
             "line": {
              "color": "white"
             }
            },
            "header": {
             "fill": {
              "color": "#C8D4E3"
             },
             "line": {
              "color": "white"
             }
            },
            "type": "table"
           }
          ]
         },
         "layout": {
          "annotationdefaults": {
           "arrowcolor": "#2a3f5f",
           "arrowhead": 0,
           "arrowwidth": 1
          },
          "autotypenumbers": "strict",
          "coloraxis": {
           "colorbar": {
            "outlinewidth": 0,
            "ticks": ""
           }
          },
          "colorscale": {
           "diverging": [
            [
             0,
             "#8e0152"
            ],
            [
             0.1,
             "#c51b7d"
            ],
            [
             0.2,
             "#de77ae"
            ],
            [
             0.3,
             "#f1b6da"
            ],
            [
             0.4,
             "#fde0ef"
            ],
            [
             0.5,
             "#f7f7f7"
            ],
            [
             0.6,
             "#e6f5d0"
            ],
            [
             0.7,
             "#b8e186"
            ],
            [
             0.8,
             "#7fbc41"
            ],
            [
             0.9,
             "#4d9221"
            ],
            [
             1,
             "#276419"
            ]
           ],
           "sequential": [
            [
             0,
             "#0d0887"
            ],
            [
             0.1111111111111111,
             "#46039f"
            ],
            [
             0.2222222222222222,
             "#7201a8"
            ],
            [
             0.3333333333333333,
             "#9c179e"
            ],
            [
             0.4444444444444444,
             "#bd3786"
            ],
            [
             0.5555555555555556,
             "#d8576b"
            ],
            [
             0.6666666666666666,
             "#ed7953"
            ],
            [
             0.7777777777777778,
             "#fb9f3a"
            ],
            [
             0.8888888888888888,
             "#fdca26"
            ],
            [
             1,
             "#f0f921"
            ]
           ],
           "sequentialminus": [
            [
             0,
             "#0d0887"
            ],
            [
             0.1111111111111111,
             "#46039f"
            ],
            [
             0.2222222222222222,
             "#7201a8"
            ],
            [
             0.3333333333333333,
             "#9c179e"
            ],
            [
             0.4444444444444444,
             "#bd3786"
            ],
            [
             0.5555555555555556,
             "#d8576b"
            ],
            [
             0.6666666666666666,
             "#ed7953"
            ],
            [
             0.7777777777777778,
             "#fb9f3a"
            ],
            [
             0.8888888888888888,
             "#fdca26"
            ],
            [
             1,
             "#f0f921"
            ]
           ]
          },
          "colorway": [
           "#636efa",
           "#EF553B",
           "#00cc96",
           "#ab63fa",
           "#FFA15A",
           "#19d3f3",
           "#FF6692",
           "#B6E880",
           "#FF97FF",
           "#FECB52"
          ],
          "font": {
           "color": "#2a3f5f"
          },
          "geo": {
           "bgcolor": "white",
           "lakecolor": "white",
           "landcolor": "white",
           "showlakes": true,
           "showland": true,
           "subunitcolor": "#C8D4E3"
          },
          "hoverlabel": {
           "align": "left"
          },
          "hovermode": "closest",
          "mapbox": {
           "style": "light"
          },
          "paper_bgcolor": "white",
          "plot_bgcolor": "white",
          "polar": {
           "angularaxis": {
            "gridcolor": "#EBF0F8",
            "linecolor": "#EBF0F8",
            "ticks": ""
           },
           "bgcolor": "white",
           "radialaxis": {
            "gridcolor": "#EBF0F8",
            "linecolor": "#EBF0F8",
            "ticks": ""
           }
          },
          "scene": {
           "xaxis": {
            "backgroundcolor": "white",
            "gridcolor": "#DFE8F3",
            "gridwidth": 2,
            "linecolor": "#EBF0F8",
            "showbackground": true,
            "ticks": "",
            "zerolinecolor": "#EBF0F8"
           },
           "yaxis": {
            "backgroundcolor": "white",
            "gridcolor": "#DFE8F3",
            "gridwidth": 2,
            "linecolor": "#EBF0F8",
            "showbackground": true,
            "ticks": "",
            "zerolinecolor": "#EBF0F8"
           },
           "zaxis": {
            "backgroundcolor": "white",
            "gridcolor": "#DFE8F3",
            "gridwidth": 2,
            "linecolor": "#EBF0F8",
            "showbackground": true,
            "ticks": "",
            "zerolinecolor": "#EBF0F8"
           }
          },
          "shapedefaults": {
           "line": {
            "color": "#2a3f5f"
           }
          },
          "ternary": {
           "aaxis": {
            "gridcolor": "#DFE8F3",
            "linecolor": "#A2B1C6",
            "ticks": ""
           },
           "baxis": {
            "gridcolor": "#DFE8F3",
            "linecolor": "#A2B1C6",
            "ticks": ""
           },
           "bgcolor": "white",
           "caxis": {
            "gridcolor": "#DFE8F3",
            "linecolor": "#A2B1C6",
            "ticks": ""
           }
          },
          "title": {
           "x": 0.05
          },
          "xaxis": {
           "automargin": true,
           "gridcolor": "#EBF0F8",
           "linecolor": "#EBF0F8",
           "ticks": "",
           "title": {
            "standoff": 15
           },
           "zerolinecolor": "#EBF0F8",
           "zerolinewidth": 2
          },
          "yaxis": {
           "automargin": true,
           "gridcolor": "#EBF0F8",
           "linecolor": "#EBF0F8",
           "ticks": "",
           "title": {
            "standoff": 15
           },
           "zerolinecolor": "#EBF0F8",
           "zerolinewidth": 2
          }
         }
        },
        "title": {
         "text": "Boxplot of course_rating"
        },
        "width": 600,
        "xaxis": {
         "anchor": "y",
         "domain": [
          0,
          1
         ]
        },
        "yaxis": {
         "anchor": "x",
         "domain": [
          0,
          1
         ],
         "title": {
          "text": "course_rating"
         }
        }
       }
      }
     },
     "metadata": {},
     "output_type": "display_data"
    },
    {
     "data": {
      "application/vnd.plotly.v1+json": {
       "config": {
        "plotlyServerURL": "https://plot.ly"
       },
       "data": [
        {
         "alignmentgroup": "True",
         "hovertemplate": "course_students_enrolled=%{y}<extra></extra>",
         "legendgroup": "",
         "marker": {
          "color": "#636efa"
         },
         "name": "",
         "notched": false,
         "offsetgroup": "",
         "orientation": "v",
         "showlegend": false,
         "type": "box",
         "x0": " ",
         "xaxis": "x",
         "y": [
          5300,
          17000,
          130000,
          91000,
          320000,
          39000,
          350000,
          2400,
          61000,
          12000,
          4000,
          13000,
          130000,
          11000,
          27000,
          110000,
          13000,
          6600,
          540000,
          22000,
          2900,
          80000,
          9900,
          110000,
          23000,
          9200,
          78000,
          320000,
          190000,
          35000,
          29000,
          14000,
          21000,
          94000,
          69000,
          40000,
          12000,
          220000,
          150000,
          14000,
          18000,
          23000,
          69000,
          270000,
          7900,
          30000,
          36000,
          20000,
          8100,
          120000,
          71000,
          11000,
          11000,
          63000,
          220000,
          42000,
          480000,
          150000,
          97000,
          6600,
          200000,
          180000,
          4200,
          310000,
          3900,
          150000,
          79000,
          31000,
          15000,
          15000,
          10000,
          66000,
          33000,
          56000,
          7300,
          9200,
          22000,
          9700,
          13000,
          180000,
          91000,
          29000,
          210000,
          28000,
          4200,
          6500,
          61000,
          55000,
          2300,
          8800,
          35000,
          88000,
          14000,
          1900,
          68000,
          21000,
          1600,
          31000,
          9500,
          57000,
          26000,
          84000,
          15000,
          95000,
          7300,
          22000,
          5800,
          24000,
          67000,
          280000,
          38000,
          120000,
          77000,
          510000,
          13000,
          110000,
          24000,
          89000,
          67000,
          10000,
          48000,
          160000,
          31000,
          36000,
          220000,
          32000,
          130000,
          340000,
          82000,
          790000,
          31000,
          23000,
          19000,
          30000,
          22000,
          57000,
          51000,
          51000,
          4800,
          32000,
          110000,
          37000,
          310000,
          37000,
          120000,
          15000,
          43000,
          6400,
          43000,
          350000,
          5800,
          33000,
          27000,
          66000,
          19000,
          61000,
          43000,
          15000,
          220000,
          27000,
          26000,
          49000,
          240000,
          46000,
          10000,
          56000,
          7800,
          10000,
          75000,
          15000,
          43000,
          81000,
          140000,
          140000,
          120000,
          150000,
          26000,
          22000,
          17000,
          5500,
          18000,
          99000,
          140000,
          23000,
          55000,
          23000,
          100000,
          220000,
          110000,
          24000,
          19000,
          3000,
          120000,
          120000,
          42000,
          140000,
          830000,
          140000,
          89000,
          740000,
          210000,
          130000,
          60000,
          66000,
          96000,
          140000,
          18000,
          120000,
          110000,
          150000,
          31000,
          690000,
          44000,
          4500,
          8200,
          240000,
          17000,
          67000,
          97000,
          19000,
          16000,
          300000,
          4000,
          8000,
          41000,
          54000,
          54000,
          9000,
          21000,
          37000,
          380000,
          57000,
          140000,
          58000,
          35000,
          40000,
          4000,
          21000,
          130000,
          150000,
          5600,
          17000,
          39000,
          110000,
          7100,
          18000,
          110000,
          83000,
          16000,
          3400,
          46000,
          1500,
          57000,
          12000,
          110000,
          17000,
          37000,
          14000,
          23000,
          200000,
          230000,
          760000,
          130000,
          42000,
          110000,
          2400,
          7900,
          110000,
          86000,
          38000,
          31000,
          20000,
          69000,
          45000,
          23000,
          6400,
          31000,
          130000,
          35000,
          7200,
          1800,
          14000,
          68000,
          83000,
          4100,
          54000,
          31000,
          27000,
          13000,
          11000,
          86000,
          240000,
          39000,
          200000,
          76000,
          39000,
          490000,
          56000,
          54000,
          170000,
          28000,
          180000,
          18000,
          9700,
          13000,
          12000,
          260000,
          69000,
          12000,
          65000,
          10000,
          100000,
          76000,
          470000,
          60000,
          12000,
          6500,
          24000,
          30000,
          310000,
          36000,
          20000,
          400000,
          57000,
          42000,
          4400,
          14000,
          63000,
          62000,
          31000,
          64000,
          27000,
          89000,
          3200,
          26000,
          52000,
          45000,
          89000,
          150000,
          140000,
          170000,
          220000,
          30000,
          39000,
          200000,
          49000,
          86000,
          290000,
          20000,
          18000,
          180000,
          120000,
          110000,
          22000,
          81000,
          25000,
          56000,
          150000,
          110000,
          47000,
          4900,
          9400,
          10000,
          140000,
          100000,
          260000,
          110000,
          14000,
          80000,
          97000,
          19000,
          34000,
          47000,
          14000,
          59000,
          73000,
          59000,
          75000,
          18000,
          22000,
          79000,
          29000,
          10000,
          22000,
          37000,
          3600,
          7600,
          44000,
          3800,
          120000,
          36000,
          93000,
          350000,
          430000,
          10000,
          260000,
          56000,
          210000,
          62000,
          240000,
          43000,
          62000,
          7400,
          39000,
          8100,
          5400,
          1700,
          36000,
          5500,
          46000,
          5500,
          28000,
          170000,
          140000,
          34000,
          98000,
          140000,
          3500,
          220000,
          3300,
          480000,
          35000,
          62000,
          1700,
          23000,
          2200,
          610000,
          270000,
          18000,
          79000,
          51000,
          34000,
          1600,
          12000,
          22000,
          32000,
          10000,
          16000,
          180000,
          40000,
          10000,
          25000,
          72000,
          97000,
          85000,
          12000,
          9700,
          14000,
          8700,
          150000,
          6500,
          22000,
          25000,
          22000,
          36000,
          19000,
          41000,
          26000,
          20000,
          2200,
          35000,
          11000,
          36000,
          38000,
          66000,
          140000,
          100000,
          46000,
          60000,
          44000,
          160000,
          16000,
          27000,
          14000,
          84000,
          53000,
          46000,
          150000,
          2600,
          20000,
          32000,
          130000,
          27000,
          32000,
          30000,
          99000,
          310000,
          390000,
          25000,
          75000,
          110000,
          41000,
          150000,
          34000,
          200000,
          47000,
          79000,
          74000,
          42000,
          220000,
          54000,
          6000,
          82000,
          220000,
          270000,
          87000,
          140000,
          370000,
          11000,
          160000,
          82000,
          270000,
          270000,
          49000,
          39000,
          76000,
          12000,
          69000,
          67000,
          33000,
          150000,
          4100,
          13000,
          72000,
          87000,
          16000,
          76000,
          110000,
          270000,
          4500,
          120000,
          99000,
          14000,
          49000,
          4400,
          380000,
          160000,
          22000,
          37000,
          8000,
          6300,
          17000,
          34000,
          16000,
          220000,
          5900,
          16000,
          43000,
          22000,
          78000,
          52000,
          120000,
          39000,
          160000,
          80000,
          180000,
          120000,
          68000,
          7200,
          10000,
          23000,
          29000,
          14000,
          290000,
          3200000,
          240000,
          29000,
          19000,
          58000,
          15000,
          120000,
          72000,
          78000,
          43000,
          120000,
          11000,
          55000,
          23000,
          71000,
          27000,
          47000,
          22000,
          81000,
          39000,
          49000,
          93000,
          57000,
          58000,
          60000,
          310000,
          280000,
          8400,
          52000,
          48000,
          12000,
          150000,
          140000,
          51000,
          33000,
          4800,
          170000,
          13000,
          260000,
          73000,
          34000,
          230000,
          120000,
          130000,
          36000,
          310000,
          14000,
          21000,
          9100,
          100000,
          40000,
          44000,
          59000,
          42000,
          34000,
          70000,
          21000,
          40000,
          95000,
          22000,
          17000,
          290000,
          630000,
          41000,
          12000,
          5300,
          100000,
          35000,
          250000,
          330000,
          21000,
          33000,
          57000,
          13000,
          76000,
          80000,
          6200,
          92000,
          22000,
          3200,
          9100,
          30000,
          42000,
          8800,
          12000,
          84000,
          79000,
          8900,
          160000,
          83000,
          34000,
          72000,
          180000,
          23000,
          50000,
          40000,
          67000,
          10000,
          39000,
          22000,
          68000,
          47000,
          20000,
          280000,
          79000,
          68000,
          36000,
          39000,
          250000,
          19000,
          1300000,
          18000,
          70000,
          190000,
          440000,
          230000,
          190000,
          52000,
          110000,
          21000,
          420000,
          26000,
          41000,
          170000,
          1500000,
          69000,
          3000,
          480000,
          7700,
          29000,
          35000,
          23000,
          24000,
          5200,
          7200,
          16000,
          15000,
          170000,
          36000,
          17000,
          120000,
          30000,
          3200,
          7000,
          33000,
          370000,
          2600,
          160000,
          5600,
          16000,
          6800,
          12000,
          9100,
          140000,
          47000,
          6400,
          14000,
          300000,
          39000,
          14000,
          110000,
          61000,
          16000,
          18000,
          15000,
          20000,
          22000,
          13000,
          130000,
          78000,
          4200,
          220000,
          42000,
          60000,
          34000,
          60000,
          110000,
          17000,
          68000,
          8800,
          12000,
          71000,
          430000,
          12000,
          16000,
          370000,
          17000,
          16000,
          34000,
          220000,
          28000,
          60000,
          9500,
          100000,
          58000,
          68000,
          9200,
          30000,
          11000,
          220000,
          38000,
          750000,
          11000,
          7900,
          4900,
          66000,
          82000,
          24000,
          29000,
          50000,
          45000,
          9400,
          3900,
          62000,
          48000,
          33000,
          100000,
          62000,
          81000,
          8500,
          53000,
          49000,
          280000,
          170000,
          12000,
          90000,
          130000,
          47000,
          23000,
          73000,
          130000,
          22000,
          84000,
          23000,
          11000,
          120000,
          420000,
          7200,
          84000,
          29000,
          47000,
          130000,
          47000,
          9400,
          180000,
          120000,
          1700,
          50000,
          12000,
          59000,
          13000,
          2500000,
          320000,
          19000,
          100000,
          26000,
          5200,
          28000,
          33000,
          14000,
          200000,
          120000,
          68000,
          45000,
          110000,
          5400,
          12000,
          44000,
          68000,
          25000,
          29000,
          78000,
          89000,
          24000,
          11000,
          49000,
          120000,
          30000,
          130000,
          6100,
          12000,
          9500,
          3900,
          23000,
          43000,
          220000,
          310000,
          19000,
          63000,
          40000,
          150000,
          37000,
          23000,
          190000,
          120000,
          280000,
          34000,
          120000,
          35000,
          6200,
          260000,
          94000,
          32000,
          17000,
          12000,
          270000,
          18000,
          140000,
          17000,
          76000,
          25000,
          190000,
          69000,
          14000,
          68000,
          16000,
          67000,
          77000,
          19000,
          83000,
          41000,
          45000,
          52000,
          21000,
          30000,
          9800,
          38000
         ],
         "y0": " ",
         "yaxis": "y"
        }
       ],
       "layout": {
        "boxmode": "group",
        "height": 600,
        "legend": {
         "tracegroupgap": 0
        },
        "template": {
         "data": {
          "bar": [
           {
            "error_x": {
             "color": "#2a3f5f"
            },
            "error_y": {
             "color": "#2a3f5f"
            },
            "marker": {
             "line": {
              "color": "white",
              "width": 0.5
             },
             "pattern": {
              "fillmode": "overlay",
              "size": 10,
              "solidity": 0.2
             }
            },
            "type": "bar"
           }
          ],
          "barpolar": [
           {
            "marker": {
             "line": {
              "color": "white",
              "width": 0.5
             },
             "pattern": {
              "fillmode": "overlay",
              "size": 10,
              "solidity": 0.2
             }
            },
            "type": "barpolar"
           }
          ],
          "carpet": [
           {
            "aaxis": {
             "endlinecolor": "#2a3f5f",
             "gridcolor": "#C8D4E3",
             "linecolor": "#C8D4E3",
             "minorgridcolor": "#C8D4E3",
             "startlinecolor": "#2a3f5f"
            },
            "baxis": {
             "endlinecolor": "#2a3f5f",
             "gridcolor": "#C8D4E3",
             "linecolor": "#C8D4E3",
             "minorgridcolor": "#C8D4E3",
             "startlinecolor": "#2a3f5f"
            },
            "type": "carpet"
           }
          ],
          "choropleth": [
           {
            "colorbar": {
             "outlinewidth": 0,
             "ticks": ""
            },
            "type": "choropleth"
           }
          ],
          "contour": [
           {
            "colorbar": {
             "outlinewidth": 0,
             "ticks": ""
            },
            "colorscale": [
             [
              0,
              "#0d0887"
             ],
             [
              0.1111111111111111,
              "#46039f"
             ],
             [
              0.2222222222222222,
              "#7201a8"
             ],
             [
              0.3333333333333333,
              "#9c179e"
             ],
             [
              0.4444444444444444,
              "#bd3786"
             ],
             [
              0.5555555555555556,
              "#d8576b"
             ],
             [
              0.6666666666666666,
              "#ed7953"
             ],
             [
              0.7777777777777778,
              "#fb9f3a"
             ],
             [
              0.8888888888888888,
              "#fdca26"
             ],
             [
              1,
              "#f0f921"
             ]
            ],
            "type": "contour"
           }
          ],
          "contourcarpet": [
           {
            "colorbar": {
             "outlinewidth": 0,
             "ticks": ""
            },
            "type": "contourcarpet"
           }
          ],
          "heatmap": [
           {
            "colorbar": {
             "outlinewidth": 0,
             "ticks": ""
            },
            "colorscale": [
             [
              0,
              "#0d0887"
             ],
             [
              0.1111111111111111,
              "#46039f"
             ],
             [
              0.2222222222222222,
              "#7201a8"
             ],
             [
              0.3333333333333333,
              "#9c179e"
             ],
             [
              0.4444444444444444,
              "#bd3786"
             ],
             [
              0.5555555555555556,
              "#d8576b"
             ],
             [
              0.6666666666666666,
              "#ed7953"
             ],
             [
              0.7777777777777778,
              "#fb9f3a"
             ],
             [
              0.8888888888888888,
              "#fdca26"
             ],
             [
              1,
              "#f0f921"
             ]
            ],
            "type": "heatmap"
           }
          ],
          "heatmapgl": [
           {
            "colorbar": {
             "outlinewidth": 0,
             "ticks": ""
            },
            "colorscale": [
             [
              0,
              "#0d0887"
             ],
             [
              0.1111111111111111,
              "#46039f"
             ],
             [
              0.2222222222222222,
              "#7201a8"
             ],
             [
              0.3333333333333333,
              "#9c179e"
             ],
             [
              0.4444444444444444,
              "#bd3786"
             ],
             [
              0.5555555555555556,
              "#d8576b"
             ],
             [
              0.6666666666666666,
              "#ed7953"
             ],
             [
              0.7777777777777778,
              "#fb9f3a"
             ],
             [
              0.8888888888888888,
              "#fdca26"
             ],
             [
              1,
              "#f0f921"
             ]
            ],
            "type": "heatmapgl"
           }
          ],
          "histogram": [
           {
            "marker": {
             "pattern": {
              "fillmode": "overlay",
              "size": 10,
              "solidity": 0.2
             }
            },
            "type": "histogram"
           }
          ],
          "histogram2d": [
           {
            "colorbar": {
             "outlinewidth": 0,
             "ticks": ""
            },
            "colorscale": [
             [
              0,
              "#0d0887"
             ],
             [
              0.1111111111111111,
              "#46039f"
             ],
             [
              0.2222222222222222,
              "#7201a8"
             ],
             [
              0.3333333333333333,
              "#9c179e"
             ],
             [
              0.4444444444444444,
              "#bd3786"
             ],
             [
              0.5555555555555556,
              "#d8576b"
             ],
             [
              0.6666666666666666,
              "#ed7953"
             ],
             [
              0.7777777777777778,
              "#fb9f3a"
             ],
             [
              0.8888888888888888,
              "#fdca26"
             ],
             [
              1,
              "#f0f921"
             ]
            ],
            "type": "histogram2d"
           }
          ],
          "histogram2dcontour": [
           {
            "colorbar": {
             "outlinewidth": 0,
             "ticks": ""
            },
            "colorscale": [
             [
              0,
              "#0d0887"
             ],
             [
              0.1111111111111111,
              "#46039f"
             ],
             [
              0.2222222222222222,
              "#7201a8"
             ],
             [
              0.3333333333333333,
              "#9c179e"
             ],
             [
              0.4444444444444444,
              "#bd3786"
             ],
             [
              0.5555555555555556,
              "#d8576b"
             ],
             [
              0.6666666666666666,
              "#ed7953"
             ],
             [
              0.7777777777777778,
              "#fb9f3a"
             ],
             [
              0.8888888888888888,
              "#fdca26"
             ],
             [
              1,
              "#f0f921"
             ]
            ],
            "type": "histogram2dcontour"
           }
          ],
          "mesh3d": [
           {
            "colorbar": {
             "outlinewidth": 0,
             "ticks": ""
            },
            "type": "mesh3d"
           }
          ],
          "parcoords": [
           {
            "line": {
             "colorbar": {
              "outlinewidth": 0,
              "ticks": ""
             }
            },
            "type": "parcoords"
           }
          ],
          "pie": [
           {
            "automargin": true,
            "type": "pie"
           }
          ],
          "scatter": [
           {
            "fillpattern": {
             "fillmode": "overlay",
             "size": 10,
             "solidity": 0.2
            },
            "type": "scatter"
           }
          ],
          "scatter3d": [
           {
            "line": {
             "colorbar": {
              "outlinewidth": 0,
              "ticks": ""
             }
            },
            "marker": {
             "colorbar": {
              "outlinewidth": 0,
              "ticks": ""
             }
            },
            "type": "scatter3d"
           }
          ],
          "scattercarpet": [
           {
            "marker": {
             "colorbar": {
              "outlinewidth": 0,
              "ticks": ""
             }
            },
            "type": "scattercarpet"
           }
          ],
          "scattergeo": [
           {
            "marker": {
             "colorbar": {
              "outlinewidth": 0,
              "ticks": ""
             }
            },
            "type": "scattergeo"
           }
          ],
          "scattergl": [
           {
            "marker": {
             "colorbar": {
              "outlinewidth": 0,
              "ticks": ""
             }
            },
            "type": "scattergl"
           }
          ],
          "scattermapbox": [
           {
            "marker": {
             "colorbar": {
              "outlinewidth": 0,
              "ticks": ""
             }
            },
            "type": "scattermapbox"
           }
          ],
          "scatterpolar": [
           {
            "marker": {
             "colorbar": {
              "outlinewidth": 0,
              "ticks": ""
             }
            },
            "type": "scatterpolar"
           }
          ],
          "scatterpolargl": [
           {
            "marker": {
             "colorbar": {
              "outlinewidth": 0,
              "ticks": ""
             }
            },
            "type": "scatterpolargl"
           }
          ],
          "scatterternary": [
           {
            "marker": {
             "colorbar": {
              "outlinewidth": 0,
              "ticks": ""
             }
            },
            "type": "scatterternary"
           }
          ],
          "surface": [
           {
            "colorbar": {
             "outlinewidth": 0,
             "ticks": ""
            },
            "colorscale": [
             [
              0,
              "#0d0887"
             ],
             [
              0.1111111111111111,
              "#46039f"
             ],
             [
              0.2222222222222222,
              "#7201a8"
             ],
             [
              0.3333333333333333,
              "#9c179e"
             ],
             [
              0.4444444444444444,
              "#bd3786"
             ],
             [
              0.5555555555555556,
              "#d8576b"
             ],
             [
              0.6666666666666666,
              "#ed7953"
             ],
             [
              0.7777777777777778,
              "#fb9f3a"
             ],
             [
              0.8888888888888888,
              "#fdca26"
             ],
             [
              1,
              "#f0f921"
             ]
            ],
            "type": "surface"
           }
          ],
          "table": [
           {
            "cells": {
             "fill": {
              "color": "#EBF0F8"
             },
             "line": {
              "color": "white"
             }
            },
            "header": {
             "fill": {
              "color": "#C8D4E3"
             },
             "line": {
              "color": "white"
             }
            },
            "type": "table"
           }
          ]
         },
         "layout": {
          "annotationdefaults": {
           "arrowcolor": "#2a3f5f",
           "arrowhead": 0,
           "arrowwidth": 1
          },
          "autotypenumbers": "strict",
          "coloraxis": {
           "colorbar": {
            "outlinewidth": 0,
            "ticks": ""
           }
          },
          "colorscale": {
           "diverging": [
            [
             0,
             "#8e0152"
            ],
            [
             0.1,
             "#c51b7d"
            ],
            [
             0.2,
             "#de77ae"
            ],
            [
             0.3,
             "#f1b6da"
            ],
            [
             0.4,
             "#fde0ef"
            ],
            [
             0.5,
             "#f7f7f7"
            ],
            [
             0.6,
             "#e6f5d0"
            ],
            [
             0.7,
             "#b8e186"
            ],
            [
             0.8,
             "#7fbc41"
            ],
            [
             0.9,
             "#4d9221"
            ],
            [
             1,
             "#276419"
            ]
           ],
           "sequential": [
            [
             0,
             "#0d0887"
            ],
            [
             0.1111111111111111,
             "#46039f"
            ],
            [
             0.2222222222222222,
             "#7201a8"
            ],
            [
             0.3333333333333333,
             "#9c179e"
            ],
            [
             0.4444444444444444,
             "#bd3786"
            ],
            [
             0.5555555555555556,
             "#d8576b"
            ],
            [
             0.6666666666666666,
             "#ed7953"
            ],
            [
             0.7777777777777778,
             "#fb9f3a"
            ],
            [
             0.8888888888888888,
             "#fdca26"
            ],
            [
             1,
             "#f0f921"
            ]
           ],
           "sequentialminus": [
            [
             0,
             "#0d0887"
            ],
            [
             0.1111111111111111,
             "#46039f"
            ],
            [
             0.2222222222222222,
             "#7201a8"
            ],
            [
             0.3333333333333333,
             "#9c179e"
            ],
            [
             0.4444444444444444,
             "#bd3786"
            ],
            [
             0.5555555555555556,
             "#d8576b"
            ],
            [
             0.6666666666666666,
             "#ed7953"
            ],
            [
             0.7777777777777778,
             "#fb9f3a"
            ],
            [
             0.8888888888888888,
             "#fdca26"
            ],
            [
             1,
             "#f0f921"
            ]
           ]
          },
          "colorway": [
           "#636efa",
           "#EF553B",
           "#00cc96",
           "#ab63fa",
           "#FFA15A",
           "#19d3f3",
           "#FF6692",
           "#B6E880",
           "#FF97FF",
           "#FECB52"
          ],
          "font": {
           "color": "#2a3f5f"
          },
          "geo": {
           "bgcolor": "white",
           "lakecolor": "white",
           "landcolor": "white",
           "showlakes": true,
           "showland": true,
           "subunitcolor": "#C8D4E3"
          },
          "hoverlabel": {
           "align": "left"
          },
          "hovermode": "closest",
          "mapbox": {
           "style": "light"
          },
          "paper_bgcolor": "white",
          "plot_bgcolor": "white",
          "polar": {
           "angularaxis": {
            "gridcolor": "#EBF0F8",
            "linecolor": "#EBF0F8",
            "ticks": ""
           },
           "bgcolor": "white",
           "radialaxis": {
            "gridcolor": "#EBF0F8",
            "linecolor": "#EBF0F8",
            "ticks": ""
           }
          },
          "scene": {
           "xaxis": {
            "backgroundcolor": "white",
            "gridcolor": "#DFE8F3",
            "gridwidth": 2,
            "linecolor": "#EBF0F8",
            "showbackground": true,
            "ticks": "",
            "zerolinecolor": "#EBF0F8"
           },
           "yaxis": {
            "backgroundcolor": "white",
            "gridcolor": "#DFE8F3",
            "gridwidth": 2,
            "linecolor": "#EBF0F8",
            "showbackground": true,
            "ticks": "",
            "zerolinecolor": "#EBF0F8"
           },
           "zaxis": {
            "backgroundcolor": "white",
            "gridcolor": "#DFE8F3",
            "gridwidth": 2,
            "linecolor": "#EBF0F8",
            "showbackground": true,
            "ticks": "",
            "zerolinecolor": "#EBF0F8"
           }
          },
          "shapedefaults": {
           "line": {
            "color": "#2a3f5f"
           }
          },
          "ternary": {
           "aaxis": {
            "gridcolor": "#DFE8F3",
            "linecolor": "#A2B1C6",
            "ticks": ""
           },
           "baxis": {
            "gridcolor": "#DFE8F3",
            "linecolor": "#A2B1C6",
            "ticks": ""
           },
           "bgcolor": "white",
           "caxis": {
            "gridcolor": "#DFE8F3",
            "linecolor": "#A2B1C6",
            "ticks": ""
           }
          },
          "title": {
           "x": 0.05
          },
          "xaxis": {
           "automargin": true,
           "gridcolor": "#EBF0F8",
           "linecolor": "#EBF0F8",
           "ticks": "",
           "title": {
            "standoff": 15
           },
           "zerolinecolor": "#EBF0F8",
           "zerolinewidth": 2
          },
          "yaxis": {
           "automargin": true,
           "gridcolor": "#EBF0F8",
           "linecolor": "#EBF0F8",
           "ticks": "",
           "title": {
            "standoff": 15
           },
           "zerolinecolor": "#EBF0F8",
           "zerolinewidth": 2
          }
         }
        },
        "title": {
         "text": "Boxplot of course_students_enrolled"
        },
        "width": 600,
        "xaxis": {
         "anchor": "y",
         "domain": [
          0,
          1
         ]
        },
        "yaxis": {
         "anchor": "x",
         "domain": [
          0,
          1
         ],
         "title": {
          "text": "course_students_enrolled"
         }
        }
       }
      }
     },
     "metadata": {},
     "output_type": "display_data"
    }
   ],
   "source": [
    "numeric_cols = df.select_dtypes(include=[np.number]).columns\n",
    "\n",
    "# 1. Outlier Detection (IQR Method)\n",
    "for col in numeric_cols:\n",
    "    Q1 = df[col].quantile(0.25)\n",
    "    Q3 = df[col].quantile(0.75)\n",
    "    IQR = Q3 - Q1\n",
    "    lower_bound = Q1 - 1.5 * IQR\n",
    "    upper_bound = Q3 + 1.5 * IQR\n",
    "    \n",
    "    outliers = df[(df[col] < lower_bound) | (df[col] > upper_bound)]\n",
    "    print(f\"Outliers detected in {col}: {len(outliers)}\")\n",
    "\n",
    "# 2. Individual Boxplots for Each Numeric Column (Plotly)\n",
    "for col in numeric_cols:\n",
    "    fig = px.box(\n",
    "        df,\n",
    "        y=col,\n",
    "        title=f\"Boxplot of {col}\",\n",
    "        template=\"plotly_white\"\n",
    "    )\n",
    "    fig.update_layout(\n",
    "        width=600,\n",
    "        height=600\n",
    "    )\n",
    "    fig.show()"
   ]
  },
  {
   "cell_type": "markdown",
   "metadata": {},
   "source": [
    "## Exploratory Data Analysis\n",
    "- Now we dive into analyzing the data using visualizations from Matplotlib, Seaborn, and Plotly."
   ]
  },
  {
   "cell_type": "markdown",
   "metadata": {},
   "source": [
    "## "
   ]
  },
  {
   "cell_type": "markdown",
   "metadata": {},
   "source": [
    "### Distribution of Ratings"
   ]
  },
  {
   "cell_type": "code",
   "execution_count": 14,
   "metadata": {},
   "outputs": [
    {
     "data": {
      "image/png": "[encoded data removed]",
      "text/plain": [
       "<Figure size 800x500 with 1 Axes>"
      ]
     },
     "metadata": {},
     "output_type": "display_data"
    }
   ],
   "source": [
    "plt.figure(figsize=(8,5))\n",
    "sns.histplot(df['course_rating'], bins=20, kde=True, color='blue')\n",
    "plt.title(\"Distribution of Course Ratings\")\n",
    "plt.xlabel(\"Rating\")\n",
    "plt.ylabel(\"Frequency\")\n",
    "plt.show()"
   ]
  },
  {
   "cell_type": "markdown",
   "metadata": {},
   "source": []
  },
  {
   "cell_type": "markdown",
   "metadata": {},
   "source": [
    "### Top 10 Organizations with the Most Courses"
   ]
  },
  {
   "cell_type": "code",
   "execution_count": 19,
   "metadata": {},
   "outputs": [
    {
     "data": {
      "application/vnd.plotly.v1+json": {
       "config": {
        "plotlyServerURL": "https://plot.ly"
       },
       "data": [
        {
         "marker": {
          "color": "steelblue"
         },
         "name": "Number of Courses",
         "offsetgroup": "1",
         "type": "bar",
         "x": [
          "University of Pennsylvania",
          "University of Michigan",
          "Google Cloud",
          "Duke University",
          "Johns Hopkins University",
          "University of California, Irvine",
          "University of Illinois at Urbana-Champaign",
          "IBM",
          "University of California, Davis",
          "University of Colorado Boulder"
         ],
         "y": [
          59,
          41,
          34,
          28,
          28,
          27,
          22,
          22,
          21,
          19
         ]
        },
        {
         "marker": {
          "color": "seagreen"
         },
         "name": "Total Enrolled",
         "offsetgroup": "2",
         "type": "bar",
         "x": [
          "University of Pennsylvania",
          "University of Michigan",
          "Google Cloud",
          "Duke University",
          "Johns Hopkins University",
          "University of California, Irvine",
          "University of Illinois at Urbana-Champaign",
          "IBM",
          "University of California, Davis",
          "University of Colorado Boulder"
         ],
         "y": [
          5501300,
          7437700,
          2604300,
          3967600,
          4298900,
          4326000,
          1679000,
          2956400,
          1278700,
          614900
         ],
         "yaxis": "y2"
        }
       ],
       "layout": {
        "barmode": "group",
        "height": 600,
        "legend": {
         "orientation": "v",
         "x": 1.02,
         "xanchor": "left",
         "y": 1,
         "yanchor": "top"
        },
        "margin": {
         "b": 100
        },
        "template": {
         "data": {
          "bar": [
           {
            "error_x": {
             "color": "#2a3f5f"
            },
            "error_y": {
             "color": "#2a3f5f"
            },
            "marker": {
             "line": {
              "color": "white",
              "width": 0.5
             },
             "pattern": {
              "fillmode": "overlay",
              "size": 10,
              "solidity": 0.2
             }
            },
            "type": "bar"
           }
          ],
          "barpolar": [
           {
            "marker": {
             "line": {
              "color": "white",
              "width": 0.5
             },
             "pattern": {
              "fillmode": "overlay",
              "size": 10,
              "solidity": 0.2
             }
            },
            "type": "barpolar"
           }
          ],
          "carpet": [
           {
            "aaxis": {
             "endlinecolor": "#2a3f5f",
             "gridcolor": "#C8D4E3",
             "linecolor": "#C8D4E3",
             "minorgridcolor": "#C8D4E3",
             "startlinecolor": "#2a3f5f"
            },
            "baxis": {
             "endlinecolor": "#2a3f5f",
             "gridcolor": "#C8D4E3",
             "linecolor": "#C8D4E3",
             "minorgridcolor": "#C8D4E3",
             "startlinecolor": "#2a3f5f"
            },
            "type": "carpet"
           }
          ],
          "choropleth": [
           {
            "colorbar": {
             "outlinewidth": 0,
             "ticks": ""
            },
            "type": "choropleth"
           }
          ],
          "contour": [
           {
            "colorbar": {
             "outlinewidth": 0,
             "ticks": ""
            },
            "colorscale": [
             [
              0,
              "#0d0887"
             ],
             [
              0.1111111111111111,
              "#46039f"
             ],
             [
              0.2222222222222222,
              "#7201a8"
             ],
             [
              0.3333333333333333,
              "#9c179e"
             ],
             [
              0.4444444444444444,
              "#bd3786"
             ],
             [
              0.5555555555555556,
              "#d8576b"
             ],
             [
              0.6666666666666666,
              "#ed7953"
             ],
             [
              0.7777777777777778,
              "#fb9f3a"
             ],
             [
              0.8888888888888888,
              "#fdca26"
             ],
             [
              1,
              "#f0f921"
             ]
            ],
            "type": "contour"
           }
          ],
          "contourcarpet": [
           {
            "colorbar": {
             "outlinewidth": 0,
             "ticks": ""
            },
            "type": "contourcarpet"
           }
          ],
          "heatmap": [
           {
            "colorbar": {
             "outlinewidth": 0,
             "ticks": ""
            },
            "colorscale": [
             [
              0,
              "#0d0887"
             ],
             [
              0.1111111111111111,
              "#46039f"
             ],
             [
              0.2222222222222222,
              "#7201a8"
             ],
             [
              0.3333333333333333,
              "#9c179e"
             ],
             [
              0.4444444444444444,
              "#bd3786"
             ],
             [
              0.5555555555555556,
              "#d8576b"
             ],
             [
              0.6666666666666666,
              "#ed7953"
             ],
             [
              0.7777777777777778,
              "#fb9f3a"
             ],
             [
              0.8888888888888888,
              "#fdca26"
             ],
             [
              1,
              "#f0f921"
             ]
            ],
            "type": "heatmap"
           }
          ],
          "heatmapgl": [
           {
            "colorbar": {
             "outlinewidth": 0,
             "ticks": ""
            },
            "colorscale": [
             [
              0,
              "#0d0887"
             ],
             [
              0.1111111111111111,
              "#46039f"
             ],
             [
              0.2222222222222222,
              "#7201a8"
             ],
             [
              0.3333333333333333,
              "#9c179e"
             ],
             [
              0.4444444444444444,
              "#bd3786"
             ],
             [
              0.5555555555555556,
              "#d8576b"
             ],
             [
              0.6666666666666666,
              "#ed7953"
             ],
             [
              0.7777777777777778,
              "#fb9f3a"
             ],
             [
              0.8888888888888888,
              "#fdca26"
             ],
             [
              1,
              "#f0f921"
             ]
            ],
            "type": "heatmapgl"
           }
          ],
          "histogram": [
           {
            "marker": {
             "pattern": {
              "fillmode": "overlay",
              "size": 10,
              "solidity": 0.2
             }
            },
            "type": "histogram"
           }
          ],
          "histogram2d": [
           {
            "colorbar": {
             "outlinewidth": 0,
             "ticks": ""
            },
            "colorscale": [
             [
              0,
              "#0d0887"
             ],
             [
              0.1111111111111111,
              "#46039f"
             ],
             [
              0.2222222222222222,
              "#7201a8"
             ],
             [
              0.3333333333333333,
              "#9c179e"
             ],
             [
              0.4444444444444444,
              "#bd3786"
             ],
             [
              0.5555555555555556,
              "#d8576b"
             ],
             [
              0.6666666666666666,
              "#ed7953"
             ],
             [
              0.7777777777777778,
              "#fb9f3a"
             ],
             [
              0.8888888888888888,
              "#fdca26"
             ],
             [
              1,
              "#f0f921"
             ]
            ],
            "type": "histogram2d"
           }
          ],
          "histogram2dcontour": [
           {
            "colorbar": {
             "outlinewidth": 0,
             "ticks": ""
            },
            "colorscale": [
             [
              0,
              "#0d0887"
             ],
             [
              0.1111111111111111,
              "#46039f"
             ],
             [
              0.2222222222222222,
              "#7201a8"
             ],
             [
              0.3333333333333333,
              "#9c179e"
             ],
             [
              0.4444444444444444,
              "#bd3786"
             ],
             [
              0.5555555555555556,
              "#d8576b"
             ],
             [
              0.6666666666666666,
              "#ed7953"
             ],
             [
              0.7777777777777778,
              "#fb9f3a"
             ],
             [
              0.8888888888888888,
              "#fdca26"
             ],
             [
              1,
              "#f0f921"
             ]
            ],
            "type": "histogram2dcontour"
           }
          ],
          "mesh3d": [
           {
            "colorbar": {
             "outlinewidth": 0,
             "ticks": ""
            },
            "type": "mesh3d"
           }
          ],
          "parcoords": [
           {
            "line": {
             "colorbar": {
              "outlinewidth": 0,
              "ticks": ""
             }
            },
            "type": "parcoords"
           }
          ],
          "pie": [
           {
            "automargin": true,
            "type": "pie"
           }
          ],
          "scatter": [
           {
            "fillpattern": {
             "fillmode": "overlay",
             "size": 10,
             "solidity": 0.2
            },
            "type": "scatter"
           }
          ],
          "scatter3d": [
           {
            "line": {
             "colorbar": {
              "outlinewidth": 0,
              "ticks": ""
             }
            },
            "marker": {
             "colorbar": {
              "outlinewidth": 0,
              "ticks": ""
             }
            },
            "type": "scatter3d"
           }
          ],
          "scattercarpet": [
           {
            "marker": {
             "colorbar": {
              "outlinewidth": 0,
              "ticks": ""
             }
            },
            "type": "scattercarpet"
           }
          ],
          "scattergeo": [
           {
            "marker": {
             "colorbar": {
              "outlinewidth": 0,
              "ticks": ""
             }
            },
            "type": "scattergeo"
           }
          ],
          "scattergl": [
           {
            "marker": {
             "colorbar": {
              "outlinewidth": 0,
              "ticks": ""
             }
            },
            "type": "scattergl"
           }
          ],
          "scattermapbox": [
           {
            "marker": {
             "colorbar": {
              "outlinewidth": 0,
              "ticks": ""
             }
            },
            "type": "scattermapbox"
           }
          ],
          "scatterpolar": [
           {
            "marker": {
             "colorbar": {
              "outlinewidth": 0,
              "ticks": ""
             }
            },
            "type": "scatterpolar"
           }
          ],
          "scatterpolargl": [
           {
            "marker": {
             "colorbar": {
              "outlinewidth": 0,
              "ticks": ""
             }
            },
            "type": "scatterpolargl"
           }
          ],
          "scatterternary": [
           {
            "marker": {
             "colorbar": {
              "outlinewidth": 0,
              "ticks": ""
             }
            },
            "type": "scatterternary"
           }
          ],
          "surface": [
           {
            "colorbar": {
             "outlinewidth": 0,
             "ticks": ""
            },
            "colorscale": [
             [
              0,
              "#0d0887"
             ],
             [
              0.1111111111111111,
              "#46039f"
             ],
             [
              0.2222222222222222,
              "#7201a8"
             ],
             [
              0.3333333333333333,
              "#9c179e"
             ],
             [
              0.4444444444444444,
              "#bd3786"
             ],
             [
              0.5555555555555556,
              "#d8576b"
             ],
             [
              0.6666666666666666,
              "#ed7953"
             ],
             [
              0.7777777777777778,
              "#fb9f3a"
             ],
             [
              0.8888888888888888,
              "#fdca26"
             ],
             [
              1,
              "#f0f921"
             ]
            ],
            "type": "surface"
           }
          ],
          "table": [
           {
            "cells": {
             "fill": {
              "color": "#EBF0F8"
             },
             "line": {
              "color": "white"
             }
            },
            "header": {
             "fill": {
              "color": "#C8D4E3"
             },
             "line": {
              "color": "white"
             }
            },
            "type": "table"
           }
          ]
         },
         "layout": {
          "annotationdefaults": {
           "arrowcolor": "#2a3f5f",
           "arrowhead": 0,
           "arrowwidth": 1
          },
          "autotypenumbers": "strict",
          "coloraxis": {
           "colorbar": {
            "outlinewidth": 0,
            "ticks": ""
           }
          },
          "colorscale": {
           "diverging": [
            [
             0,
             "#8e0152"
            ],
            [
             0.1,
             "#c51b7d"
            ],
            [
             0.2,
             "#de77ae"
            ],
            [
             0.3,
             "#f1b6da"
            ],
            [
             0.4,
             "#fde0ef"
            ],
            [
             0.5,
             "#f7f7f7"
            ],
            [
             0.6,
             "#e6f5d0"
            ],
            [
             0.7,
             "#b8e186"
            ],
            [
             0.8,
             "#7fbc41"
            ],
            [
             0.9,
             "#4d9221"
            ],
            [
             1,
             "#276419"
            ]
           ],
           "sequential": [
            [
             0,
             "#0d0887"
            ],
            [
             0.1111111111111111,
             "#46039f"
            ],
            [
             0.2222222222222222,
             "#7201a8"
            ],
            [
             0.3333333333333333,
             "#9c179e"
            ],
            [
             0.4444444444444444,
             "#bd3786"
            ],
            [
             0.5555555555555556,
             "#d8576b"
            ],
            [
             0.6666666666666666,
             "#ed7953"
            ],
            [
             0.7777777777777778,
             "#fb9f3a"
            ],
            [
             0.8888888888888888,
             "#fdca26"
            ],
            [
             1,
             "#f0f921"
            ]
           ],
           "sequentialminus": [
            [
             0,
             "#0d0887"
            ],
            [
             0.1111111111111111,
             "#46039f"
            ],
            [
             0.2222222222222222,
             "#7201a8"
            ],
            [
             0.3333333333333333,
             "#9c179e"
            ],
            [
             0.4444444444444444,
             "#bd3786"
            ],
            [
             0.5555555555555556,
             "#d8576b"
            ],
            [
             0.6666666666666666,
             "#ed7953"
            ],
            [
             0.7777777777777778,
             "#fb9f3a"
            ],
            [
             0.8888888888888888,
             "#fdca26"
            ],
            [
             1,
             "#f0f921"
            ]
           ]
          },
          "colorway": [
           "#636efa",
           "#EF553B",
           "#00cc96",
           "#ab63fa",
           "#FFA15A",
           "#19d3f3",
           "#FF6692",
           "#B6E880",
           "#FF97FF",
           "#FECB52"
          ],
          "font": {
           "color": "#2a3f5f"
          },
          "geo": {
           "bgcolor": "white",
           "lakecolor": "white",
           "landcolor": "white",
           "showlakes": true,
           "showland": true,
           "subunitcolor": "#C8D4E3"
          },
          "hoverlabel": {
           "align": "left"
          },
          "hovermode": "closest",
          "mapbox": {
           "style": "light"
          },
          "paper_bgcolor": "white",
          "plot_bgcolor": "white",
          "polar": {
           "angularaxis": {
            "gridcolor": "#EBF0F8",
            "linecolor": "#EBF0F8",
            "ticks": ""
           },
           "bgcolor": "white",
           "radialaxis": {
            "gridcolor": "#EBF0F8",
            "linecolor": "#EBF0F8",
            "ticks": ""
           }
          },
          "scene": {
           "xaxis": {
            "backgroundcolor": "white",
            "gridcolor": "#DFE8F3",
            "gridwidth": 2,
            "linecolor": "#EBF0F8",
            "showbackground": true,
            "ticks": "",
            "zerolinecolor": "#EBF0F8"
           },
           "yaxis": {
            "backgroundcolor": "white",
            "gridcolor": "#DFE8F3",
            "gridwidth": 2,
            "linecolor": "#EBF0F8",
            "showbackground": true,
            "ticks": "",
            "zerolinecolor": "#EBF0F8"
           },
           "zaxis": {
            "backgroundcolor": "white",
            "gridcolor": "#DFE8F3",
            "gridwidth": 2,
            "linecolor": "#EBF0F8",
            "showbackground": true,
            "ticks": "",
            "zerolinecolor": "#EBF0F8"
           }
          },
          "shapedefaults": {
           "line": {
            "color": "#2a3f5f"
           }
          },
          "ternary": {
           "aaxis": {
            "gridcolor": "#DFE8F3",
            "linecolor": "#A2B1C6",
            "ticks": ""
           },
           "baxis": {
            "gridcolor": "#DFE8F3",
            "linecolor": "#A2B1C6",
            "ticks": ""
           },
           "bgcolor": "white",
           "caxis": {
            "gridcolor": "#DFE8F3",
            "linecolor": "#A2B1C6",
            "ticks": ""
           }
          },
          "title": {
           "x": 0.05
          },
          "xaxis": {
           "automargin": true,
           "gridcolor": "#EBF0F8",
           "linecolor": "#EBF0F8",
           "ticks": "",
           "title": {
            "standoff": 15
           },
           "zerolinecolor": "#EBF0F8",
           "zerolinewidth": 2
          },
          "yaxis": {
           "automargin": true,
           "gridcolor": "#EBF0F8",
           "linecolor": "#EBF0F8",
           "ticks": "",
           "title": {
            "standoff": 15
           },
           "zerolinecolor": "#EBF0F8",
           "zerolinewidth": 2
          }
         }
        },
        "title": {
         "text": "Top 10 Organizations by Number of Courses & Enrollment"
        },
        "width": 950,
        "xaxis": {
         "domain": [
          0.15,
          0.85
         ],
         "tickangle": -45,
         "title": {
          "text": "Organization"
         }
        },
        "yaxis": {
         "tickfont": {
          "color": "steelblue"
         },
         "title": {
          "font": {
           "color": "steelblue"
          },
          "text": "Number of Courses"
         }
        },
        "yaxis2": {
         "anchor": "free",
         "overlaying": "y",
         "position": 0.85,
         "side": "right",
         "tickfont": {
          "color": "seagreen"
         },
         "title": {
          "font": {
           "color": "seagreen"
          },
          "text": "Total Enrolled"
         }
        }
       }
      }
     },
     "metadata": {},
     "output_type": "display_data"
    }
   ],
   "source": [
    "org_grouped = (\n",
    "    df.groupby(\"course_organization\")\n",
    "      .agg(\n",
    "          num_courses=(\"course_title\", \"count\"),\n",
    "          total_enrolled=(\"course_students_enrolled\", \"sum\")\n",
    "      )\n",
    "      .reset_index()\n",
    "      .sort_values(\"num_courses\", ascending=False)\n",
    "      .head(10)  # top 10 organizations by course count\n",
    ")\n",
    "\n",
    "# 2) Build the figure\n",
    "fig_org = go.Figure()\n",
    "\n",
    "# Bar for number of courses (left y-axis)\n",
    "fig_org.add_trace(\n",
    "    go.Bar(\n",
    "        name='Number of Courses',\n",
    "        x=org_grouped['course_organization'],\n",
    "        y=org_grouped['num_courses'],\n",
    "        offsetgroup=1,\n",
    "        marker_color='steelblue'\n",
    "    )\n",
    ")\n",
    "\n",
    "# Bar for total enrolled (right y-axis)\n",
    "fig_org.add_trace(\n",
    "    go.Bar(\n",
    "        name='Total Enrolled',\n",
    "        x=org_grouped['course_organization'],\n",
    "        y=org_grouped['total_enrolled'],\n",
    "        offsetgroup=2,\n",
    "        yaxis='y2',\n",
    "        marker_color='seagreen'\n",
    "    )\n",
    ")\n",
    "\n",
    "# 3) Configure Layout\n",
    "fig_org.update_layout(\n",
    "    template='plotly_white',\n",
    "    title='Top 10 Organizations by Number of Courses & Enrollment',\n",
    "    barmode='group',\n",
    "    width=950,\n",
    "    height=600,\n",
    "    \n",
    "    # Rotate x-axis labels to handle long names\n",
    "    xaxis=dict(\n",
    "        domain=[0.15, 0.85],\n",
    "        title='Organization',\n",
    "        tickangle=-45   # tilt labels 45 degrees to avoid overlap\n",
    "    ),\n",
    "    \n",
    "    # Left y-axis: number of courses\n",
    "    yaxis=dict(\n",
    "        title='Number of Courses',\n",
    "        titlefont=dict(color='steelblue'),\n",
    "        tickfont=dict(color='steelblue')\n",
    "    ),\n",
    "    \n",
    "    # Right y-axis: total enrolled\n",
    "    yaxis2=dict(\n",
    "        title='Total Enrolled',\n",
    "        titlefont=dict(color='seagreen'),\n",
    "        tickfont=dict(color='seagreen'),\n",
    "        overlaying='y',\n",
    "        side='right',\n",
    "        anchor='free',\n",
    "        position=0.85\n",
    "    ),\n",
    "    \n",
    "    # Place the legend on the right side\n",
    "    legend=dict(\n",
    "        orientation='v',      # vertical legend\n",
    "        x=1.02,               # push legend slightly to the right\n",
    "        y=1,                  # top-align the legend\n",
    "        xanchor='left',\n",
    "        yanchor='top'\n",
    "    ),\n",
    "    \n",
    "    # Add extra bottom margin so the rotated labels don't get cut off\n",
    "    margin=dict(b=100)\n",
    ")\n",
    "\n",
    "fig_org.show()"
   ]
  },
  {
   "cell_type": "markdown",
   "metadata": {},
   "source": [
    "### Courses vs Enrollments"
   ]
  },
  {
   "cell_type": "code",
   "execution_count": null,
   "metadata": {},
   "outputs": [
    {
     "data": {
      "application/vnd.plotly.v1+json": {
       "config": {
        "plotlyServerURL": "https://plot.ly"
       },
       "data": [
        {
         "marker": {
          "color": "steelblue"
         },
         "name": "Number of Courses",
         "offsetgroup": "1",
         "type": "bar",
         "x": [
          "Advanced",
          "Beginner",
          "Intermediate",
          "Mixed"
         ],
         "y": [
          19,
          487,
          198,
          187
         ]
        },
        {
         "marker": {
          "color": "seagreen"
         },
         "name": "Total Enrolled",
         "offsetgroup": "2",
         "type": "bar",
         "x": [
          "Advanced",
          "Beginner",
          "Intermediate",
          "Mixed"
         ],
         "y": [
          1264400,
          39921800,
          14506300,
          24989400
         ],
         "yaxis": "y2"
        }
       ],
       "layout": {
        "barmode": "group",
        "height": 600,
        "legend": {
         "orientation": "h",
         "x": 0.5,
         "xanchor": "center",
         "y": -0.2
        },
        "template": {
         "data": {
          "bar": [
           {
            "error_x": {
             "color": "#2a3f5f"
            },
            "error_y": {
             "color": "#2a3f5f"
            },
            "marker": {
             "line": {
              "color": "white",
              "width": 0.5
             },
             "pattern": {
              "fillmode": "overlay",
              "size": 10,
              "solidity": 0.2
             }
            },
            "type": "bar"
           }
          ],
          "barpolar": [
           {
            "marker": {
             "line": {
              "color": "white",
              "width": 0.5
             },
             "pattern": {
              "fillmode": "overlay",
              "size": 10,
              "solidity": 0.2
             }
            },
            "type": "barpolar"
           }
          ],
          "carpet": [
           {
            "aaxis": {
             "endlinecolor": "#2a3f5f",
             "gridcolor": "#C8D4E3",
             "linecolor": "#C8D4E3",
             "minorgridcolor": "#C8D4E3",
             "startlinecolor": "#2a3f5f"
            },
            "baxis": {
             "endlinecolor": "#2a3f5f",
             "gridcolor": "#C8D4E3",
             "linecolor": "#C8D4E3",
             "minorgridcolor": "#C8D4E3",
             "startlinecolor": "#2a3f5f"
            },
            "type": "carpet"
           }
          ],
          "choropleth": [
           {
            "colorbar": {
             "outlinewidth": 0,
             "ticks": ""
            },
            "type": "choropleth"
           }
          ],
          "contour": [
           {
            "colorbar": {
             "outlinewidth": 0,
             "ticks": ""
            },
            "colorscale": [
             [
              0,
              "#0d0887"
             ],
             [
              0.1111111111111111,
              "#46039f"
             ],
             [
              0.2222222222222222,
              "#7201a8"
             ],
             [
              0.3333333333333333,
              "#9c179e"
             ],
             [
              0.4444444444444444,
              "#bd3786"
             ],
             [
              0.5555555555555556,
              "#d8576b"
             ],
             [
              0.6666666666666666,
              "#ed7953"
             ],
             [
              0.7777777777777778,
              "#fb9f3a"
             ],
             [
              0.8888888888888888,
              "#fdca26"
             ],
             [
              1,
              "#f0f921"
             ]
            ],
            "type": "contour"
           }
          ],
          "contourcarpet": [
           {
            "colorbar": {
             "outlinewidth": 0,
             "ticks": ""
            },
            "type": "contourcarpet"
           }
          ],
          "heatmap": [
           {
            "colorbar": {
             "outlinewidth": 0,
             "ticks": ""
            },
            "colorscale": [
             [
              0,
              "#0d0887"
             ],
             [
              0.1111111111111111,
              "#46039f"
             ],
             [
              0.2222222222222222,
              "#7201a8"
             ],
             [
              0.3333333333333333,
              "#9c179e"
             ],
             [
              0.4444444444444444,
              "#bd3786"
             ],
             [
              0.5555555555555556,
              "#d8576b"
             ],
             [
              0.6666666666666666,
              "#ed7953"
             ],
             [
              0.7777777777777778,
              "#fb9f3a"
             ],
             [
              0.8888888888888888,
              "#fdca26"
             ],
             [
              1,
              "#f0f921"
             ]
            ],
            "type": "heatmap"
           }
          ],
          "heatmapgl": [
           {
            "colorbar": {
             "outlinewidth": 0,
             "ticks": ""
            },
            "colorscale": [
             [
              0,
              "#0d0887"
             ],
             [
              0.1111111111111111,
              "#46039f"
             ],
             [
              0.2222222222222222,
              "#7201a8"
             ],
             [
              0.3333333333333333,
              "#9c179e"
             ],
             [
              0.4444444444444444,
              "#bd3786"
             ],
             [
              0.5555555555555556,
              "#d8576b"
             ],
             [
              0.6666666666666666,
              "#ed7953"
             ],
             [
              0.7777777777777778,
              "#fb9f3a"
             ],
             [
              0.8888888888888888,
              "#fdca26"
             ],
             [
              1,
              "#f0f921"
             ]
            ],
            "type": "heatmapgl"
           }
          ],
          "histogram": [
           {
            "marker": {
             "pattern": {
              "fillmode": "overlay",
              "size": 10,
              "solidity": 0.2
             }
            },
            "type": "histogram"
           }
          ],
          "histogram2d": [
           {
            "colorbar": {
             "outlinewidth": 0,
             "ticks": ""
            },
            "colorscale": [
             [
              0,
              "#0d0887"
             ],
             [
              0.1111111111111111,
              "#46039f"
             ],
             [
              0.2222222222222222,
              "#7201a8"
             ],
             [
              0.3333333333333333,
              "#9c179e"
             ],
             [
              0.4444444444444444,
              "#bd3786"
             ],
             [
              0.5555555555555556,
              "#d8576b"
             ],
             [
              0.6666666666666666,
              "#ed7953"
             ],
             [
              0.7777777777777778,
              "#fb9f3a"
             ],
             [
              0.8888888888888888,
              "#fdca26"
             ],
             [
              1,
              "#f0f921"
             ]
            ],
            "type": "histogram2d"
           }
          ],
          "histogram2dcontour": [
           {
            "colorbar": {
             "outlinewidth": 0,
             "ticks": ""
            },
            "colorscale": [
             [
              0,
              "#0d0887"
             ],
             [
              0.1111111111111111,
              "#46039f"
             ],
             [
              0.2222222222222222,
              "#7201a8"
             ],
             [
              0.3333333333333333,
              "#9c179e"
             ],
             [
              0.4444444444444444,
              "#bd3786"
             ],
             [
              0.5555555555555556,
              "#d8576b"
             ],
             [
              0.6666666666666666,
              "#ed7953"
             ],
             [
              0.7777777777777778,
              "#fb9f3a"
             ],
             [
              0.8888888888888888,
              "#fdca26"
             ],
             [
              1,
              "#f0f921"
             ]
            ],
            "type": "histogram2dcontour"
           }
          ],
          "mesh3d": [
           {
            "colorbar": {
             "outlinewidth": 0,
             "ticks": ""
            },
            "type": "mesh3d"
           }
          ],
          "parcoords": [
           {
            "line": {
             "colorbar": {
              "outlinewidth": 0,
              "ticks": ""
             }
            },
            "type": "parcoords"
           }
          ],
          "pie": [
           {
            "automargin": true,
            "type": "pie"
           }
          ],
          "scatter": [
           {
            "fillpattern": {
             "fillmode": "overlay",
             "size": 10,
             "solidity": 0.2
            },
            "type": "scatter"
           }
          ],
          "scatter3d": [
           {
            "line": {
             "colorbar": {
              "outlinewidth": 0,
              "ticks": ""
             }
            },
            "marker": {
             "colorbar": {
              "outlinewidth": 0,
              "ticks": ""
             }
            },
            "type": "scatter3d"
           }
          ],
          "scattercarpet": [
           {
            "marker": {
             "colorbar": {
              "outlinewidth": 0,
              "ticks": ""
             }
            },
            "type": "scattercarpet"
           }
          ],
          "scattergeo": [
           {
            "marker": {
             "colorbar": {
              "outlinewidth": 0,
              "ticks": ""
             }
            },
            "type": "scattergeo"
           }
          ],
          "scattergl": [
           {
            "marker": {
             "colorbar": {
              "outlinewidth": 0,
              "ticks": ""
             }
            },
            "type": "scattergl"
           }
          ],
          "scattermapbox": [
           {
            "marker": {
             "colorbar": {
              "outlinewidth": 0,
              "ticks": ""
             }
            },
            "type": "scattermapbox"
           }
          ],
          "scatterpolar": [
           {
            "marker": {
             "colorbar": {
              "outlinewidth": 0,
              "ticks": ""
             }
            },
            "type": "scatterpolar"
           }
          ],
          "scatterpolargl": [
           {
            "marker": {
             "colorbar": {
              "outlinewidth": 0,
              "ticks": ""
             }
            },
            "type": "scatterpolargl"
           }
          ],
          "scatterternary": [
           {
            "marker": {
             "colorbar": {
              "outlinewidth": 0,
              "ticks": ""
             }
            },
            "type": "scatterternary"
           }
          ],
          "surface": [
           {
            "colorbar": {
             "outlinewidth": 0,
             "ticks": ""
            },
            "colorscale": [
             [
              0,
              "#0d0887"
             ],
             [
              0.1111111111111111,
              "#46039f"
             ],
             [
              0.2222222222222222,
              "#7201a8"
             ],
             [
              0.3333333333333333,
              "#9c179e"
             ],
             [
              0.4444444444444444,
              "#bd3786"
             ],
             [
              0.5555555555555556,
              "#d8576b"
             ],
             [
              0.6666666666666666,
              "#ed7953"
             ],
             [
              0.7777777777777778,
              "#fb9f3a"
             ],
             [
              0.8888888888888888,
              "#fdca26"
             ],
             [
              1,
              "#f0f921"
             ]
            ],
            "type": "surface"
           }
          ],
          "table": [
           {
            "cells": {
             "fill": {
              "color": "#EBF0F8"
             },
             "line": {
              "color": "white"
             }
            },
            "header": {
             "fill": {
              "color": "#C8D4E3"
             },
             "line": {
              "color": "white"
             }
            },
            "type": "table"
           }
          ]
         },
         "layout": {
          "annotationdefaults": {
           "arrowcolor": "#2a3f5f",
           "arrowhead": 0,
           "arrowwidth": 1
          },
          "autotypenumbers": "strict",
          "coloraxis": {
           "colorbar": {
            "outlinewidth": 0,
            "ticks": ""
           }
          },
          "colorscale": {
           "diverging": [
            [
             0,
             "#8e0152"
            ],
            [
             0.1,
             "#c51b7d"
            ],
            [
             0.2,
             "#de77ae"
            ],
            [
             0.3,
             "#f1b6da"
            ],
            [
             0.4,
             "#fde0ef"
            ],
            [
             0.5,
             "#f7f7f7"
            ],
            [
             0.6,
             "#e6f5d0"
            ],
            [
             0.7,
             "#b8e186"
            ],
            [
             0.8,
             "#7fbc41"
            ],
            [
             0.9,
             "#4d9221"
            ],
            [
             1,
             "#276419"
            ]
           ],
           "sequential": [
            [
             0,
             "#0d0887"
            ],
            [
             0.1111111111111111,
             "#46039f"
            ],
            [
             0.2222222222222222,
             "#7201a8"
            ],
            [
             0.3333333333333333,
             "#9c179e"
            ],
            [
             0.4444444444444444,
             "#bd3786"
            ],
            [
             0.5555555555555556,
             "#d8576b"
            ],
            [
             0.6666666666666666,
             "#ed7953"
            ],
            [
             0.7777777777777778,
             "#fb9f3a"
            ],
            [
             0.8888888888888888,
             "#fdca26"
            ],
            [
             1,
             "#f0f921"
            ]
           ],
           "sequentialminus": [
            [
             0,
             "#0d0887"
            ],
            [
             0.1111111111111111,
             "#46039f"
            ],
            [
             0.2222222222222222,
             "#7201a8"
            ],
            [
             0.3333333333333333,
             "#9c179e"
            ],
            [
             0.4444444444444444,
             "#bd3786"
            ],
            [
             0.5555555555555556,
             "#d8576b"
            ],
            [
             0.6666666666666666,
             "#ed7953"
            ],
            [
             0.7777777777777778,
             "#fb9f3a"
            ],
            [
             0.8888888888888888,
             "#fdca26"
            ],
            [
             1,
             "#f0f921"
            ]
           ]
          },
          "colorway": [
           "#636efa",
           "#EF553B",
           "#00cc96",
           "#ab63fa",
           "#FFA15A",
           "#19d3f3",
           "#FF6692",
           "#B6E880",
           "#FF97FF",
           "#FECB52"
          ],
          "font": {
           "color": "#2a3f5f"
          },
          "geo": {
           "bgcolor": "white",
           "lakecolor": "white",
           "landcolor": "white",
           "showlakes": true,
           "showland": true,
           "subunitcolor": "#C8D4E3"
          },
          "hoverlabel": {
           "align": "left"
          },
          "hovermode": "closest",
          "mapbox": {
           "style": "light"
          },
          "paper_bgcolor": "white",
          "plot_bgcolor": "white",
          "polar": {
           "angularaxis": {
            "gridcolor": "#EBF0F8",
            "linecolor": "#EBF0F8",
            "ticks": ""
           },
           "bgcolor": "white",
           "radialaxis": {
            "gridcolor": "#EBF0F8",
            "linecolor": "#EBF0F8",
            "ticks": ""
           }
          },
          "scene": {
           "xaxis": {
            "backgroundcolor": "white",
            "gridcolor": "#DFE8F3",
            "gridwidth": 2,
            "linecolor": "#EBF0F8",
            "showbackground": true,
            "ticks": "",
            "zerolinecolor": "#EBF0F8"
           },
           "yaxis": {
            "backgroundcolor": "white",
            "gridcolor": "#DFE8F3",
            "gridwidth": 2,
            "linecolor": "#EBF0F8",
            "showbackground": true,
            "ticks": "",
            "zerolinecolor": "#EBF0F8"
           },
           "zaxis": {
            "backgroundcolor": "white",
            "gridcolor": "#DFE8F3",
            "gridwidth": 2,
            "linecolor": "#EBF0F8",
            "showbackground": true,
            "ticks": "",
            "zerolinecolor": "#EBF0F8"
           }
          },
          "shapedefaults": {
           "line": {
            "color": "#2a3f5f"
           }
          },
          "ternary": {
           "aaxis": {
            "gridcolor": "#DFE8F3",
            "linecolor": "#A2B1C6",
            "ticks": ""
           },
           "baxis": {
            "gridcolor": "#DFE8F3",
            "linecolor": "#A2B1C6",
            "ticks": ""
           },
           "bgcolor": "white",
           "caxis": {
            "gridcolor": "#DFE8F3",
            "linecolor": "#A2B1C6",
            "ticks": ""
           }
          },
          "title": {
           "x": 0.05
          },
          "xaxis": {
           "automargin": true,
           "gridcolor": "#EBF0F8",
           "linecolor": "#EBF0F8",
           "ticks": "",
           "title": {
            "standoff": 15
           },
           "zerolinecolor": "#EBF0F8",
           "zerolinewidth": 2
          },
          "yaxis": {
           "automargin": true,
           "gridcolor": "#EBF0F8",
           "linecolor": "#EBF0F8",
           "ticks": "",
           "title": {
            "standoff": 15
           },
           "zerolinecolor": "#EBF0F8",
           "zerolinewidth": 2
          }
         }
        },
        "title": {
         "text": "Courses vs. Enrollments by Difficulty"
        },
        "width": 950,
        "xaxis": {
         "domain": [
          0.15,
          0.85
         ],
         "title": {
          "text": "Difficulty"
         }
        },
        "yaxis": {
         "tickfont": {
          "color": "steelblue"
         },
         "title": {
          "font": {
           "color": "steelblue"
          },
          "text": "Number of Courses"
         }
        },
        "yaxis2": {
         "anchor": "free",
         "overlaying": "y",
         "position": 0.85,
         "side": "right",
         "tickfont": {
          "color": "seagreen"
         },
         "title": {
          "font": {
           "color": "seagreen"
          },
          "text": "Total Enrolled"
         }
        }
       }
      }
     },
     "metadata": {},
     "output_type": "display_data"
    }
   ],
   "source": [
    "\n",
    "grouped = (\n",
    "    df.groupby(\"course_difficulty\")\n",
    "      .agg(\n",
    "          num_courses=(\"course_title\", \"count\"),\n",
    "          total_enrolled=(\"course_students_enrolled\", \"sum\")\n",
    "      )\n",
    "      .reset_index()\n",
    ")\n",
    "\n",
    "fig = go.Figure()\n",
    "\n",
    "fig.add_trace(\n",
    "    go.Bar(\n",
    "        name='Number of Courses',\n",
    "        x=grouped['course_difficulty'],\n",
    "        y=grouped['num_courses'],\n",
    "        offsetgroup=1,          # Ensure it sits side by side, not overlapping\n",
    "        marker_color='steelblue'\n",
    "    )\n",
    ")\n",
    "\n",
    "fig.add_trace(\n",
    "    go.Bar(\n",
    "        name='Total Enrolled',\n",
    "        x=grouped['course_difficulty'],\n",
    "        y=grouped['total_enrolled'],\n",
    "        offsetgroup=2,          # Different offset group, so it aligns side by side\n",
    "        yaxis='y2',             # Ties this bar to the second y-axis\n",
    "        marker_color='seagreen'\n",
    "    )\n",
    ")\n",
    "\n",
    "fig.update_layout(\n",
    "    template='plotly_white',\n",
    "    title='Courses vs. Enrollments by Difficulty',\n",
    "    barmode='group',             # Grouped bars (not stacked)\n",
    "    width=950,\n",
    "    height=600,\n",
    "    \n",
    "    # The x-axis domain goes from 0.15 to 0.85 so there's room on the right\n",
    "    # for the second y-axis. Adjust if needed.\n",
    "    xaxis=dict(\n",
    "        domain=[0.15, 0.85],\n",
    "        title='Difficulty'\n",
    "    ),\n",
    "    \n",
    "    # Left y-axis: number of courses\n",
    "    yaxis=dict(\n",
    "        title='Number of Courses',\n",
    "        titlefont=dict(color='steelblue'),\n",
    "        tickfont=dict(color='steelblue')\n",
    "    ),\n",
    "    \n",
    "    # Right y-axis: total enrolled\n",
    "    yaxis2=dict(\n",
    "        title='Total Enrolled',\n",
    "        titlefont=dict(color='seagreen'),\n",
    "        tickfont=dict(color='seagreen'),\n",
    "        overlaying='y',         # Overlay on the same plot area\n",
    "        side='right',           # Place ticks on the right\n",
    "        anchor='free',          # \"Free\" axis positioning\n",
    "        position=0.85           # Position it near the right edge\n",
    "    ),\n",
    "    \n",
    "    legend=dict(\n",
    "        orientation='h',\n",
    "        y=-0.2,\n",
    "        x=0.5,\n",
    "        xanchor='center'\n",
    "    )\n",
    ")\n",
    "\n",
    "fig.show()\n"
   ]
  },
  {
   "cell_type": "markdown",
   "metadata": {},
   "source": [
    "### Top 10 Courses"
   ]
  },
  {
   "cell_type": "code",
   "execution_count": null,
   "metadata": {},
   "outputs": [
    {
     "data": {
      "application/vnd.plotly.v1+json": {
       "config": {
        "plotlyServerURL": "https://plot.ly"
       },
       "data": [
        {
         "alignmentgroup": "True",
         "hovertemplate": "course_students_enrolled=%{marker.color}<br>course_title=%{y}<extra></extra>",
         "legendgroup": "",
         "marker": {
          "color": [
           3200000,
           2500000,
           1500000,
           1300000,
           830000,
           790000,
           760000,
           750000,
           740000,
           690000
          ],
          "coloraxis": "coloraxis",
          "pattern": {
           "shape": ""
          }
         },
         "name": "",
         "offsetgroup": "",
         "orientation": "h",
         "showlegend": false,
         "text": [
          3200000,
          2500000,
          1500000,
          1300000,
          830000,
          790000,
          760000,
          750000,
          740000,
          690000
         ],
         "textposition": "outside",
         "texttemplate": "%{x:,.0f}",
         "type": "bar",
         "x": [
          3200000,
          2500000,
          1500000,
          1300000,
          830000,
          790000,
          760000,
          750000,
          740000,
          690000
         ],
         "xaxis": "x",
         "y": [
          "Machine Learning",
          "The Science of Well-Being",
          "Python for Everybody",
          "Programming for Everybody (Getting Started with Python)",
          "Data Science",
          "Career Success",
          "English for Career Development",
          "Successful Negotiation: Essential Strategies and Skills",
          "Data Science: Foundations using R",
          "Deep Learning"
         ],
         "yaxis": "y"
        }
       ],
       "layout": {
        "barmode": "relative",
        "coloraxis": {
         "colorbar": {
          "title": {
           "text": "course_students_enrolled"
          }
         },
         "colorscale": [
          [
           0,
           "#440154"
          ],
          [
           0.1111111111111111,
           "#482878"
          ],
          [
           0.2222222222222222,
           "#3e4989"
          ],
          [
           0.3333333333333333,
           "#31688e"
          ],
          [
           0.4444444444444444,
           "#26828e"
          ],
          [
           0.5555555555555556,
           "#1f9e89"
          ],
          [
           0.6666666666666666,
           "#35b779"
          ],
          [
           0.7777777777777778,
           "#6ece58"
          ],
          [
           0.8888888888888888,
           "#b5de2b"
          ],
          [
           1,
           "#fde725"
          ]
         ],
         "showscale": false
        },
        "height": 700,
        "legend": {
         "tracegroupgap": 0
        },
        "margin": {
         "b": 50,
         "l": 150,
         "r": 50,
         "t": 80
        },
        "template": {
         "data": {
          "bar": [
           {
            "error_x": {
             "color": "#2a3f5f"
            },
            "error_y": {
             "color": "#2a3f5f"
            },
            "marker": {
             "line": {
              "color": "white",
              "width": 0.5
             },
             "pattern": {
              "fillmode": "overlay",
              "size": 10,
              "solidity": 0.2
             }
            },
            "type": "bar"
           }
          ],
          "barpolar": [
           {
            "marker": {
             "line": {
              "color": "white",
              "width": 0.5
             },
             "pattern": {
              "fillmode": "overlay",
              "size": 10,
              "solidity": 0.2
             }
            },
            "type": "barpolar"
           }
          ],
          "carpet": [
           {
            "aaxis": {
             "endlinecolor": "#2a3f5f",
             "gridcolor": "#C8D4E3",
             "linecolor": "#C8D4E3",
             "minorgridcolor": "#C8D4E3",
             "startlinecolor": "#2a3f5f"
            },
            "baxis": {
             "endlinecolor": "#2a3f5f",
             "gridcolor": "#C8D4E3",
             "linecolor": "#C8D4E3",
             "minorgridcolor": "#C8D4E3",
             "startlinecolor": "#2a3f5f"
            },
            "type": "carpet"
           }
          ],
          "choropleth": [
           {
            "colorbar": {
             "outlinewidth": 0,
             "ticks": ""
            },
            "type": "choropleth"
           }
          ],
          "contour": [
           {
            "colorbar": {
             "outlinewidth": 0,
             "ticks": ""
            },
            "colorscale": [
             [
              0,
              "#0d0887"
             ],
             [
              0.1111111111111111,
              "#46039f"
             ],
             [
              0.2222222222222222,
              "#7201a8"
             ],
             [
              0.3333333333333333,
              "#9c179e"
             ],
             [
              0.4444444444444444,
              "#bd3786"
             ],
             [
              0.5555555555555556,
              "#d8576b"
             ],
             [
              0.6666666666666666,
              "#ed7953"
             ],
             [
              0.7777777777777778,
              "#fb9f3a"
             ],
             [
              0.8888888888888888,
              "#fdca26"
             ],
             [
              1,
              "#f0f921"
             ]
            ],
            "type": "contour"
           }
          ],
          "contourcarpet": [
           {
            "colorbar": {
             "outlinewidth": 0,
             "ticks": ""
            },
            "type": "contourcarpet"
           }
          ],
          "heatmap": [
           {
            "colorbar": {
             "outlinewidth": 0,
             "ticks": ""
            },
            "colorscale": [
             [
              0,
              "#0d0887"
             ],
             [
              0.1111111111111111,
              "#46039f"
             ],
             [
              0.2222222222222222,
              "#7201a8"
             ],
             [
              0.3333333333333333,
              "#9c179e"
             ],
             [
              0.4444444444444444,
              "#bd3786"
             ],
             [
              0.5555555555555556,
              "#d8576b"
             ],
             [
              0.6666666666666666,
              "#ed7953"
             ],
             [
              0.7777777777777778,
              "#fb9f3a"
             ],
             [
              0.8888888888888888,
              "#fdca26"
             ],
             [
              1,
              "#f0f921"
             ]
            ],
            "type": "heatmap"
           }
          ],
          "heatmapgl": [
           {
            "colorbar": {
             "outlinewidth": 0,
             "ticks": ""
            },
            "colorscale": [
             [
              0,
              "#0d0887"
             ],
             [
              0.1111111111111111,
              "#46039f"
             ],
             [
              0.2222222222222222,
              "#7201a8"
             ],
             [
              0.3333333333333333,
              "#9c179e"
             ],
             [
              0.4444444444444444,
              "#bd3786"
             ],
             [
              0.5555555555555556,
              "#d8576b"
             ],
             [
              0.6666666666666666,
              "#ed7953"
             ],
             [
              0.7777777777777778,
              "#fb9f3a"
             ],
             [
              0.8888888888888888,
              "#fdca26"
             ],
             [
              1,
              "#f0f921"
             ]
            ],
            "type": "heatmapgl"
           }
          ],
          "histogram": [
           {
            "marker": {
             "pattern": {
              "fillmode": "overlay",
              "size": 10,
              "solidity": 0.2
             }
            },
            "type": "histogram"
           }
          ],
          "histogram2d": [
           {
            "colorbar": {
             "outlinewidth": 0,
             "ticks": ""
            },
            "colorscale": [
             [
              0,
              "#0d0887"
             ],
             [
              0.1111111111111111,
              "#46039f"
             ],
             [
              0.2222222222222222,
              "#7201a8"
             ],
             [
              0.3333333333333333,
              "#9c179e"
             ],
             [
              0.4444444444444444,
              "#bd3786"
             ],
             [
              0.5555555555555556,
              "#d8576b"
             ],
             [
              0.6666666666666666,
              "#ed7953"
             ],
             [
              0.7777777777777778,
              "#fb9f3a"
             ],
             [
              0.8888888888888888,
              "#fdca26"
             ],
             [
              1,
              "#f0f921"
             ]
            ],
            "type": "histogram2d"
           }
          ],
          "histogram2dcontour": [
           {
            "colorbar": {
             "outlinewidth": 0,
             "ticks": ""
            },
            "colorscale": [
             [
              0,
              "#0d0887"
             ],
             [
              0.1111111111111111,
              "#46039f"
             ],
             [
              0.2222222222222222,
              "#7201a8"
             ],
             [
              0.3333333333333333,
              "#9c179e"
             ],
             [
              0.4444444444444444,
              "#bd3786"
             ],
             [
              0.5555555555555556,
              "#d8576b"
             ],
             [
              0.6666666666666666,
              "#ed7953"
             ],
             [
              0.7777777777777778,
              "#fb9f3a"
             ],
             [
              0.8888888888888888,
              "#fdca26"
             ],
             [
              1,
              "#f0f921"
             ]
            ],
            "type": "histogram2dcontour"
           }
          ],
          "mesh3d": [
           {
            "colorbar": {
             "outlinewidth": 0,
             "ticks": ""
            },
            "type": "mesh3d"
           }
          ],
          "parcoords": [
           {
            "line": {
             "colorbar": {
              "outlinewidth": 0,
              "ticks": ""
             }
            },
            "type": "parcoords"
           }
          ],
          "pie": [
           {
            "automargin": true,
            "type": "pie"
           }
          ],
          "scatter": [
           {
            "fillpattern": {
             "fillmode": "overlay",
             "size": 10,
             "solidity": 0.2
            },
            "type": "scatter"
           }
          ],
          "scatter3d": [
           {
            "line": {
             "colorbar": {
              "outlinewidth": 0,
              "ticks": ""
             }
            },
            "marker": {
             "colorbar": {
              "outlinewidth": 0,
              "ticks": ""
             }
            },
            "type": "scatter3d"
           }
          ],
          "scattercarpet": [
           {
            "marker": {
             "colorbar": {
              "outlinewidth": 0,
              "ticks": ""
             }
            },
            "type": "scattercarpet"
           }
          ],
          "scattergeo": [
           {
            "marker": {
             "colorbar": {
              "outlinewidth": 0,
              "ticks": ""
             }
            },
            "type": "scattergeo"
           }
          ],
          "scattergl": [
           {
            "marker": {
             "colorbar": {
              "outlinewidth": 0,
              "ticks": ""
             }
            },
            "type": "scattergl"
           }
          ],
          "scattermapbox": [
           {
            "marker": {
             "colorbar": {
              "outlinewidth": 0,
              "ticks": ""
             }
            },
            "type": "scattermapbox"
           }
          ],
          "scatterpolar": [
           {
            "marker": {
             "colorbar": {
              "outlinewidth": 0,
              "ticks": ""
             }
            },
            "type": "scatterpolar"
           }
          ],
          "scatterpolargl": [
           {
            "marker": {
             "colorbar": {
              "outlinewidth": 0,
              "ticks": ""
             }
            },
            "type": "scatterpolargl"
           }
          ],
          "scatterternary": [
           {
            "marker": {
             "colorbar": {
              "outlinewidth": 0,
              "ticks": ""
             }
            },
            "type": "scatterternary"
           }
          ],
          "surface": [
           {
            "colorbar": {
             "outlinewidth": 0,
             "ticks": ""
            },
            "colorscale": [
             [
              0,
              "#0d0887"
             ],
             [
              0.1111111111111111,
              "#46039f"
             ],
             [
              0.2222222222222222,
              "#7201a8"
             ],
             [
              0.3333333333333333,
              "#9c179e"
             ],
             [
              0.4444444444444444,
              "#bd3786"
             ],
             [
              0.5555555555555556,
              "#d8576b"
             ],
             [
              0.6666666666666666,
              "#ed7953"
             ],
             [
              0.7777777777777778,
              "#fb9f3a"
             ],
             [
              0.8888888888888888,
              "#fdca26"
             ],
             [
              1,
              "#f0f921"
             ]
            ],
            "type": "surface"
           }
          ],
          "table": [
           {
            "cells": {
             "fill": {
              "color": "#EBF0F8"
             },
             "line": {
              "color": "white"
             }
            },
            "header": {
             "fill": {
              "color": "#C8D4E3"
             },
             "line": {
              "color": "white"
             }
            },
            "type": "table"
           }
          ]
         },
         "layout": {
          "annotationdefaults": {
           "arrowcolor": "#2a3f5f",
           "arrowhead": 0,
           "arrowwidth": 1
          },
          "autotypenumbers": "strict",
          "coloraxis": {
           "colorbar": {
            "outlinewidth": 0,
            "ticks": ""
           }
          },
          "colorscale": {
           "diverging": [
            [
             0,
             "#8e0152"
            ],
            [
             0.1,
             "#c51b7d"
            ],
            [
             0.2,
             "#de77ae"
            ],
            [
             0.3,
             "#f1b6da"
            ],
            [
             0.4,
             "#fde0ef"
            ],
            [
             0.5,
             "#f7f7f7"
            ],
            [
             0.6,
             "#e6f5d0"
            ],
            [
             0.7,
             "#b8e186"
            ],
            [
             0.8,
             "#7fbc41"
            ],
            [
             0.9,
             "#4d9221"
            ],
            [
             1,
             "#276419"
            ]
           ],
           "sequential": [
            [
             0,
             "#0d0887"
            ],
            [
             0.1111111111111111,
             "#46039f"
            ],
            [
             0.2222222222222222,
             "#7201a8"
            ],
            [
             0.3333333333333333,
             "#9c179e"
            ],
            [
             0.4444444444444444,
             "#bd3786"
            ],
            [
             0.5555555555555556,
             "#d8576b"
            ],
            [
             0.6666666666666666,
             "#ed7953"
            ],
            [
             0.7777777777777778,
             "#fb9f3a"
            ],
            [
             0.8888888888888888,
             "#fdca26"
            ],
            [
             1,
             "#f0f921"
            ]
           ],
           "sequentialminus": [
            [
             0,
             "#0d0887"
            ],
            [
             0.1111111111111111,
             "#46039f"
            ],
            [
             0.2222222222222222,
             "#7201a8"
            ],
            [
             0.3333333333333333,
             "#9c179e"
            ],
            [
             0.4444444444444444,
             "#bd3786"
            ],
            [
             0.5555555555555556,
             "#d8576b"
            ],
            [
             0.6666666666666666,
             "#ed7953"
            ],
            [
             0.7777777777777778,
             "#fb9f3a"
            ],
            [
             0.8888888888888888,
             "#fdca26"
            ],
            [
             1,
             "#f0f921"
            ]
           ]
          },
          "colorway": [
           "#636efa",
           "#EF553B",
           "#00cc96",
           "#ab63fa",
           "#FFA15A",
           "#19d3f3",
           "#FF6692",
           "#B6E880",
           "#FF97FF",
           "#FECB52"
          ],
          "font": {
           "color": "#2a3f5f"
          },
          "geo": {
           "bgcolor": "white",
           "lakecolor": "white",
           "landcolor": "white",
           "showlakes": true,
           "showland": true,
           "subunitcolor": "#C8D4E3"
          },
          "hoverlabel": {
           "align": "left"
          },
          "hovermode": "closest",
          "mapbox": {
           "style": "light"
          },
          "paper_bgcolor": "white",
          "plot_bgcolor": "white",
          "polar": {
           "angularaxis": {
            "gridcolor": "#EBF0F8",
            "linecolor": "#EBF0F8",
            "ticks": ""
           },
           "bgcolor": "white",
           "radialaxis": {
            "gridcolor": "#EBF0F8",
            "linecolor": "#EBF0F8",
            "ticks": ""
           }
          },
          "scene": {
           "xaxis": {
            "backgroundcolor": "white",
            "gridcolor": "#DFE8F3",
            "gridwidth": 2,
            "linecolor": "#EBF0F8",
            "showbackground": true,
            "ticks": "",
            "zerolinecolor": "#EBF0F8"
           },
           "yaxis": {
            "backgroundcolor": "white",
            "gridcolor": "#DFE8F3",
            "gridwidth": 2,
            "linecolor": "#EBF0F8",
            "showbackground": true,
            "ticks": "",
            "zerolinecolor": "#EBF0F8"
           },
           "zaxis": {
            "backgroundcolor": "white",
            "gridcolor": "#DFE8F3",
            "gridwidth": 2,
            "linecolor": "#EBF0F8",
            "showbackground": true,
            "ticks": "",
            "zerolinecolor": "#EBF0F8"
           }
          },
          "shapedefaults": {
           "line": {
            "color": "#2a3f5f"
           }
          },
          "ternary": {
           "aaxis": {
            "gridcolor": "#DFE8F3",
            "linecolor": "#A2B1C6",
            "ticks": ""
           },
           "baxis": {
            "gridcolor": "#DFE8F3",
            "linecolor": "#A2B1C6",
            "ticks": ""
           },
           "bgcolor": "white",
           "caxis": {
            "gridcolor": "#DFE8F3",
            "linecolor": "#A2B1C6",
            "ticks": ""
           }
          },
          "title": {
           "x": 0.05
          },
          "xaxis": {
           "automargin": true,
           "gridcolor": "#EBF0F8",
           "linecolor": "#EBF0F8",
           "ticks": "",
           "title": {
            "standoff": 15
           },
           "zerolinecolor": "#EBF0F8",
           "zerolinewidth": 2
          },
          "yaxis": {
           "automargin": true,
           "gridcolor": "#EBF0F8",
           "linecolor": "#EBF0F8",
           "ticks": "",
           "title": {
            "standoff": 15
           },
           "zerolinecolor": "#EBF0F8",
           "zerolinewidth": 2
          }
         }
        },
        "title": {
         "font": {
          "size": 20
         },
         "text": "Top 10 Most Enrolled Courses",
         "x": 0.5
        },
        "width": 1500,
        "xaxis": {
         "anchor": "y",
         "domain": [
          0,
          1
         ],
         "title": {
          "text": "Number of Enrolled Students"
         }
        },
        "yaxis": {
         "anchor": "x",
         "autorange": "reversed",
         "domain": [
          0,
          1
         ],
         "title": {
          "text": ""
         }
        }
       }
      }
     },
     "metadata": {},
     "output_type": "display_data"
    }
   ],
   "source": [
    "\n",
    "top_10 = (\n",
    "    df.sort_values(by=\"course_students_enrolled\", ascending=False)\n",
    "      .head(10)\n",
    ")\n",
    "\n",
    "fig = px.bar(\n",
    "    top_10,\n",
    "    x=\"course_students_enrolled\",\n",
    "    y=\"course_title\",\n",
    "    orientation=\"h\",\n",
    "    title=\"Top 10 Most Enrolled Courses\",\n",
    "    color=\"course_students_enrolled\",                    # Color by enrollment\n",
    "    color_continuous_scale=px.colors.sequential.Viridis, # A vibrant scale without white highlights\n",
    "    text=\"course_students_enrolled\"                      # Numeric labels on bars\n",
    ")\n",
    "\n",
    "fig.update_layout(\n",
    "    template=\"plotly_white\",    \n",
    "    width=1500,                 \n",
    "    height=700,                \n",
    "    title_font=dict(size=20),\n",
    "    xaxis_title=\"Number of Enrolled Students\",\n",
    "    yaxis_title=\"\",\n",
    "    yaxis=dict(autorange=\"reversed\"),\n",
    "    coloraxis_showscale=False,   # Hide color legend if you prefer\n",
    "    margin=dict(l=150, r=50, t=80, b=50)  \n",
    ")\n",
    "\n",
    "fig.update_layout(title_x=0.5)\n",
    "\n",
    "fig.update_traces(\n",
    "    textposition=\"outside\",\n",
    "    texttemplate=\"%{x:,.0f}\"     # e.g. \"3,200,000\" with commas\n",
    ")\n",
    "\n",
    "fig.show()"
   ]
  },
  {
   "cell_type": "markdown",
   "metadata": {},
   "source": [
    "### Avarage Course Ratings compared across Difficulty"
   ]
  },
  {
   "cell_type": "code",
   "execution_count": null,
   "metadata": {},
   "outputs": [
    {
     "data": {
      "application/vnd.plotly.v1+json": {
       "config": {
        "plotlyServerURL": "https://plot.ly"
       },
       "data": [
        {
         "marker": {
          "color": "steelblue"
         },
         "name": "Avg Rating",
         "offsetgroup": "1",
         "type": "bar",
         "x": [
          "Advanced",
          "Beginner",
          "Intermediate",
          "Mixed"
         ],
         "y": [
          4.6000000000000005,
          4.6809034907597535,
          4.646464646464646,
          4.708556149732621
         ]
        },
        {
         "marker": {
          "color": "seagreen"
         },
         "name": "Number of Courses",
         "offsetgroup": "2",
         "type": "bar",
         "x": [
          "Advanced",
          "Beginner",
          "Intermediate",
          "Mixed"
         ],
         "y": [
          19,
          487,
          198,
          187
         ],
         "yaxis": "y2"
        }
       ],
       "layout": {
        "barmode": "group",
        "height": 600,
        "legend": {
         "orientation": "h",
         "x": 0.5,
         "xanchor": "center",
         "y": -0.2
        },
        "template": {
         "data": {
          "bar": [
           {
            "error_x": {
             "color": "#2a3f5f"
            },
            "error_y": {
             "color": "#2a3f5f"
            },
            "marker": {
             "line": {
              "color": "white",
              "width": 0.5
             },
             "pattern": {
              "fillmode": "overlay",
              "size": 10,
              "solidity": 0.2
             }
            },
            "type": "bar"
           }
          ],
          "barpolar": [
           {
            "marker": {
             "line": {
              "color": "white",
              "width": 0.5
             },
             "pattern": {
              "fillmode": "overlay",
              "size": 10,
              "solidity": 0.2
             }
            },
            "type": "barpolar"
           }
          ],
          "carpet": [
           {
            "aaxis": {
             "endlinecolor": "#2a3f5f",
             "gridcolor": "#C8D4E3",
             "linecolor": "#C8D4E3",
             "minorgridcolor": "#C8D4E3",
             "startlinecolor": "#2a3f5f"
            },
            "baxis": {
             "endlinecolor": "#2a3f5f",
             "gridcolor": "#C8D4E3",
             "linecolor": "#C8D4E3",
             "minorgridcolor": "#C8D4E3",
             "startlinecolor": "#2a3f5f"
            },
            "type": "carpet"
           }
          ],
          "choropleth": [
           {
            "colorbar": {
             "outlinewidth": 0,
             "ticks": ""
            },
            "type": "choropleth"
           }
          ],
          "contour": [
           {
            "colorbar": {
             "outlinewidth": 0,
             "ticks": ""
            },
            "colorscale": [
             [
              0,
              "#0d0887"
             ],
             [
              0.1111111111111111,
              "#46039f"
             ],
             [
              0.2222222222222222,
              "#7201a8"
             ],
             [
              0.3333333333333333,
              "#9c179e"
             ],
             [
              0.4444444444444444,
              "#bd3786"
             ],
             [
              0.5555555555555556,
              "#d8576b"
             ],
             [
              0.6666666666666666,
              "#ed7953"
             ],
             [
              0.7777777777777778,
              "#fb9f3a"
             ],
             [
              0.8888888888888888,
              "#fdca26"
             ],
             [
              1,
              "#f0f921"
             ]
            ],
            "type": "contour"
           }
          ],
          "contourcarpet": [
           {
            "colorbar": {
             "outlinewidth": 0,
             "ticks": ""
            },
            "type": "contourcarpet"
           }
          ],
          "heatmap": [
           {
            "colorbar": {
             "outlinewidth": 0,
             "ticks": ""
            },
            "colorscale": [
             [
              0,
              "#0d0887"
             ],
             [
              0.1111111111111111,
              "#46039f"
             ],
             [
              0.2222222222222222,
              "#7201a8"
             ],
             [
              0.3333333333333333,
              "#9c179e"
             ],
             [
              0.4444444444444444,
              "#bd3786"
             ],
             [
              0.5555555555555556,
              "#d8576b"
             ],
             [
              0.6666666666666666,
              "#ed7953"
             ],
             [
              0.7777777777777778,
              "#fb9f3a"
             ],
             [
              0.8888888888888888,
              "#fdca26"
             ],
             [
              1,
              "#f0f921"
             ]
            ],
            "type": "heatmap"
           }
          ],
          "heatmapgl": [
           {
            "colorbar": {
             "outlinewidth": 0,
             "ticks": ""
            },
            "colorscale": [
             [
              0,
              "#0d0887"
             ],
             [
              0.1111111111111111,
              "#46039f"
             ],
             [
              0.2222222222222222,
              "#7201a8"
             ],
             [
              0.3333333333333333,
              "#9c179e"
             ],
             [
              0.4444444444444444,
              "#bd3786"
             ],
             [
              0.5555555555555556,
              "#d8576b"
             ],
             [
              0.6666666666666666,
              "#ed7953"
             ],
             [
              0.7777777777777778,
              "#fb9f3a"
             ],
             [
              0.8888888888888888,
              "#fdca26"
             ],
             [
              1,
              "#f0f921"
             ]
            ],
            "type": "heatmapgl"
           }
          ],
          "histogram": [
           {
            "marker": {
             "pattern": {
              "fillmode": "overlay",
              "size": 10,
              "solidity": 0.2
             }
            },
            "type": "histogram"
           }
          ],
          "histogram2d": [
           {
            "colorbar": {
             "outlinewidth": 0,
             "ticks": ""
            },
            "colorscale": [
             [
              0,
              "#0d0887"
             ],
             [
              0.1111111111111111,
              "#46039f"
             ],
             [
              0.2222222222222222,
              "#7201a8"
             ],
             [
              0.3333333333333333,
              "#9c179e"
             ],
             [
              0.4444444444444444,
              "#bd3786"
             ],
             [
              0.5555555555555556,
              "#d8576b"
             ],
             [
              0.6666666666666666,
              "#ed7953"
             ],
             [
              0.7777777777777778,
              "#fb9f3a"
             ],
             [
              0.8888888888888888,
              "#fdca26"
             ],
             [
              1,
              "#f0f921"
             ]
            ],
            "type": "histogram2d"
           }
          ],
          "histogram2dcontour": [
           {
            "colorbar": {
             "outlinewidth": 0,
             "ticks": ""
            },
            "colorscale": [
             [
              0,
              "#0d0887"
             ],
             [
              0.1111111111111111,
              "#46039f"
             ],
             [
              0.2222222222222222,
              "#7201a8"
             ],
             [
              0.3333333333333333,
              "#9c179e"
             ],
             [
              0.4444444444444444,
              "#bd3786"
             ],
             [
              0.5555555555555556,
              "#d8576b"
             ],
             [
              0.6666666666666666,
              "#ed7953"
             ],
             [
              0.7777777777777778,
              "#fb9f3a"
             ],
             [
              0.8888888888888888,
              "#fdca26"
             ],
             [
              1,
              "#f0f921"
             ]
            ],
            "type": "histogram2dcontour"
           }
          ],
          "mesh3d": [
           {
            "colorbar": {
             "outlinewidth": 0,
             "ticks": ""
            },
            "type": "mesh3d"
           }
          ],
          "parcoords": [
           {
            "line": {
             "colorbar": {
              "outlinewidth": 0,
              "ticks": ""
             }
            },
            "type": "parcoords"
           }
          ],
          "pie": [
           {
            "automargin": true,
            "type": "pie"
           }
          ],
          "scatter": [
           {
            "fillpattern": {
             "fillmode": "overlay",
             "size": 10,
             "solidity": 0.2
            },
            "type": "scatter"
           }
          ],
          "scatter3d": [
           {
            "line": {
             "colorbar": {
              "outlinewidth": 0,
              "ticks": ""
             }
            },
            "marker": {
             "colorbar": {
              "outlinewidth": 0,
              "ticks": ""
             }
            },
            "type": "scatter3d"
           }
          ],
          "scattercarpet": [
           {
            "marker": {
             "colorbar": {
              "outlinewidth": 0,
              "ticks": ""
             }
            },
            "type": "scattercarpet"
           }
          ],
          "scattergeo": [
           {
            "marker": {
             "colorbar": {
              "outlinewidth": 0,
              "ticks": ""
             }
            },
            "type": "scattergeo"
           }
          ],
          "scattergl": [
           {
            "marker": {
             "colorbar": {
              "outlinewidth": 0,
              "ticks": ""
             }
            },
            "type": "scattergl"
           }
          ],
          "scattermapbox": [
           {
            "marker": {
             "colorbar": {
              "outlinewidth": 0,
              "ticks": ""
             }
            },
            "type": "scattermapbox"
           }
          ],
          "scatterpolar": [
           {
            "marker": {
             "colorbar": {
              "outlinewidth": 0,
              "ticks": ""
             }
            },
            "type": "scatterpolar"
           }
          ],
          "scatterpolargl": [
           {
            "marker": {
             "colorbar": {
              "outlinewidth": 0,
              "ticks": ""
             }
            },
            "type": "scatterpolargl"
           }
          ],
          "scatterternary": [
           {
            "marker": {
             "colorbar": {
              "outlinewidth": 0,
              "ticks": ""
             }
            },
            "type": "scatterternary"
           }
          ],
          "surface": [
           {
            "colorbar": {
             "outlinewidth": 0,
             "ticks": ""
            },
            "colorscale": [
             [
              0,
              "#0d0887"
             ],
             [
              0.1111111111111111,
              "#46039f"
             ],
             [
              0.2222222222222222,
              "#7201a8"
             ],
             [
              0.3333333333333333,
              "#9c179e"
             ],
             [
              0.4444444444444444,
              "#bd3786"
             ],
             [
              0.5555555555555556,
              "#d8576b"
             ],
             [
              0.6666666666666666,
              "#ed7953"
             ],
             [
              0.7777777777777778,
              "#fb9f3a"
             ],
             [
              0.8888888888888888,
              "#fdca26"
             ],
             [
              1,
              "#f0f921"
             ]
            ],
            "type": "surface"
           }
          ],
          "table": [
           {
            "cells": {
             "fill": {
              "color": "#EBF0F8"
             },
             "line": {
              "color": "white"
             }
            },
            "header": {
             "fill": {
              "color": "#C8D4E3"
             },
             "line": {
              "color": "white"
             }
            },
            "type": "table"
           }
          ]
         },
         "layout": {
          "annotationdefaults": {
           "arrowcolor": "#2a3f5f",
           "arrowhead": 0,
           "arrowwidth": 1
          },
          "autotypenumbers": "strict",
          "coloraxis": {
           "colorbar": {
            "outlinewidth": 0,
            "ticks": ""
           }
          },
          "colorscale": {
           "diverging": [
            [
             0,
             "#8e0152"
            ],
            [
             0.1,
             "#c51b7d"
            ],
            [
             0.2,
             "#de77ae"
            ],
            [
             0.3,
             "#f1b6da"
            ],
            [
             0.4,
             "#fde0ef"
            ],
            [
             0.5,
             "#f7f7f7"
            ],
            [
             0.6,
             "#e6f5d0"
            ],
            [
             0.7,
             "#b8e186"
            ],
            [
             0.8,
             "#7fbc41"
            ],
            [
             0.9,
             "#4d9221"
            ],
            [
             1,
             "#276419"
            ]
           ],
           "sequential": [
            [
             0,
             "#0d0887"
            ],
            [
             0.1111111111111111,
             "#46039f"
            ],
            [
             0.2222222222222222,
             "#7201a8"
            ],
            [
             0.3333333333333333,
             "#9c179e"
            ],
            [
             0.4444444444444444,
             "#bd3786"
            ],
            [
             0.5555555555555556,
             "#d8576b"
            ],
            [
             0.6666666666666666,
             "#ed7953"
            ],
            [
             0.7777777777777778,
             "#fb9f3a"
            ],
            [
             0.8888888888888888,
             "#fdca26"
            ],
            [
             1,
             "#f0f921"
            ]
           ],
           "sequentialminus": [
            [
             0,
             "#0d0887"
            ],
            [
             0.1111111111111111,
             "#46039f"
            ],
            [
             0.2222222222222222,
             "#7201a8"
            ],
            [
             0.3333333333333333,
             "#9c179e"
            ],
            [
             0.4444444444444444,
             "#bd3786"
            ],
            [
             0.5555555555555556,
             "#d8576b"
            ],
            [
             0.6666666666666666,
             "#ed7953"
            ],
            [
             0.7777777777777778,
             "#fb9f3a"
            ],
            [
             0.8888888888888888,
             "#fdca26"
            ],
            [
             1,
             "#f0f921"
            ]
           ]
          },
          "colorway": [
           "#636efa",
           "#EF553B",
           "#00cc96",
           "#ab63fa",
           "#FFA15A",
           "#19d3f3",
           "#FF6692",
           "#B6E880",
           "#FF97FF",
           "#FECB52"
          ],
          "font": {
           "color": "#2a3f5f"
          },
          "geo": {
           "bgcolor": "white",
           "lakecolor": "white",
           "landcolor": "white",
           "showlakes": true,
           "showland": true,
           "subunitcolor": "#C8D4E3"
          },
          "hoverlabel": {
           "align": "left"
          },
          "hovermode": "closest",
          "mapbox": {
           "style": "light"
          },
          "paper_bgcolor": "white",
          "plot_bgcolor": "white",
          "polar": {
           "angularaxis": {
            "gridcolor": "#EBF0F8",
            "linecolor": "#EBF0F8",
            "ticks": ""
           },
           "bgcolor": "white",
           "radialaxis": {
            "gridcolor": "#EBF0F8",
            "linecolor": "#EBF0F8",
            "ticks": ""
           }
          },
          "scene": {
           "xaxis": {
            "backgroundcolor": "white",
            "gridcolor": "#DFE8F3",
            "gridwidth": 2,
            "linecolor": "#EBF0F8",
            "showbackground": true,
            "ticks": "",
            "zerolinecolor": "#EBF0F8"
           },
           "yaxis": {
            "backgroundcolor": "white",
            "gridcolor": "#DFE8F3",
            "gridwidth": 2,
            "linecolor": "#EBF0F8",
            "showbackground": true,
            "ticks": "",
            "zerolinecolor": "#EBF0F8"
           },
           "zaxis": {
            "backgroundcolor": "white",
            "gridcolor": "#DFE8F3",
            "gridwidth": 2,
            "linecolor": "#EBF0F8",
            "showbackground": true,
            "ticks": "",
            "zerolinecolor": "#EBF0F8"
           }
          },
          "shapedefaults": {
           "line": {
            "color": "#2a3f5f"
           }
          },
          "ternary": {
           "aaxis": {
            "gridcolor": "#DFE8F3",
            "linecolor": "#A2B1C6",
            "ticks": ""
           },
           "baxis": {
            "gridcolor": "#DFE8F3",
            "linecolor": "#A2B1C6",
            "ticks": ""
           },
           "bgcolor": "white",
           "caxis": {
            "gridcolor": "#DFE8F3",
            "linecolor": "#A2B1C6",
            "ticks": ""
           }
          },
          "title": {
           "x": 0.05
          },
          "xaxis": {
           "automargin": true,
           "gridcolor": "#EBF0F8",
           "linecolor": "#EBF0F8",
           "ticks": "",
           "title": {
            "standoff": 15
           },
           "zerolinecolor": "#EBF0F8",
           "zerolinewidth": 2
          },
          "yaxis": {
           "automargin": true,
           "gridcolor": "#EBF0F8",
           "linecolor": "#EBF0F8",
           "ticks": "",
           "title": {
            "standoff": 15
           },
           "zerolinecolor": "#EBF0F8",
           "zerolinewidth": 2
          }
         }
        },
        "title": {
         "text": "Average Rating vs. Number of Courses by Difficulty"
        },
        "width": 950,
        "xaxis": {
         "domain": [
          0.15,
          0.85
         ],
         "title": {
          "text": "Difficulty"
         }
        },
        "yaxis": {
         "tickfont": {
          "color": "steelblue"
         },
         "title": {
          "font": {
           "color": "steelblue"
          },
          "text": "Average Rating"
         }
        },
        "yaxis2": {
         "anchor": "free",
         "overlaying": "y",
         "position": 0.85,
         "side": "right",
         "tickfont": {
          "color": "seagreen"
         },
         "title": {
          "font": {
           "color": "seagreen"
          },
          "text": "Number of Courses"
         }
        }
       }
      }
     },
     "metadata": {},
     "output_type": "display_data"
    }
   ],
   "source": [
    "grouped_rating = (\n",
    "    df.groupby(\"course_difficulty\")\n",
    "      .agg(\n",
    "          avg_rating=(\"course_rating\", \"mean\"),     # average course rating\n",
    "          num_courses=(\"course_title\", \"count\")     # how many courses\n",
    "      )\n",
    "      .reset_index()\n",
    ")\n",
    "\n",
    "fig_rating = go.Figure()\n",
    "\n",
    "fig_rating.add_trace(\n",
    "    go.Bar(\n",
    "        name='Avg Rating',\n",
    "        x=grouped_rating['course_difficulty'],\n",
    "        y=grouped_rating['avg_rating'],\n",
    "        offsetgroup=1,\n",
    "        marker_color='steelblue'\n",
    "    )\n",
    ")\n",
    "\n",
    "fig_rating.add_trace(\n",
    "    go.Bar(\n",
    "        name='Number of Courses',\n",
    "        x=grouped_rating['course_difficulty'],\n",
    "        y=grouped_rating['num_courses'],\n",
    "        offsetgroup=2,\n",
    "        yaxis='y2',\n",
    "        marker_color='seagreen'\n",
    "    )\n",
    ")\n",
    "\n",
    "fig_rating.update_layout(\n",
    "    template='plotly_white',\n",
    "    title='Average Rating vs. Number of Courses by Difficulty',\n",
    "    barmode='group',\n",
    "    width=950,\n",
    "    height=600,\n",
    "    xaxis=dict(\n",
    "        domain=[0.15, 0.85],\n",
    "        title='Difficulty'\n",
    "    ),\n",
    "    yaxis=dict(\n",
    "        title='Average Rating',\n",
    "        titlefont=dict(color='steelblue'),\n",
    "        tickfont=dict(color='steelblue')\n",
    "    ),\n",
    "    yaxis2=dict(\n",
    "        title='Number of Courses',\n",
    "        titlefont=dict(color='seagreen'),\n",
    "        tickfont=dict(color='seagreen'),\n",
    "        overlaying='y',\n",
    "        side='right',\n",
    "        anchor='free',\n",
    "        position=0.85\n",
    "    ),\n",
    "    legend=dict(\n",
    "        orientation='h',\n",
    "        y=-0.2,\n",
    "        x=0.5,\n",
    "        xanchor='center'\n",
    "    )\n",
    ")\n",
    "\n",
    "fig_rating.show()"
   ]
  },
  {
   "cell_type": "markdown",
   "metadata": {},
   "source": [
    "### Certificate Types compared by Difficulty"
   ]
  },
  {
   "cell_type": "code",
   "execution_count": null,
   "metadata": {},
   "outputs": [
    {
     "data": {
      "application/vnd.plotly.v1+json": {
       "config": {
        "plotlyServerURL": "https://plot.ly"
       },
       "data": [
        {
         "alignmentgroup": "True",
         "bingroup": "x",
         "hovertemplate": "course_Certificate_type=SPECIALIZATION<br>course_difficulty=%{x}<br>count=%{y}<extra></extra>",
         "legendgroup": "SPECIALIZATION",
         "marker": {
          "color": "#636efa",
          "pattern": {
           "shape": ""
          }
         },
         "name": "SPECIALIZATION",
         "offsetgroup": "SPECIALIZATION",
         "orientation": "v",
         "showlegend": true,
         "type": "histogram",
         "x": [
          "Beginner",
          "Beginner",
          "Intermediate",
          "Beginner",
          "Beginner",
          "Intermediate",
          "Beginner",
          "Intermediate",
          "Advanced",
          "Advanced",
          "Advanced",
          "Beginner",
          "Intermediate",
          "Intermediate",
          "Beginner",
          "Beginner",
          "Beginner",
          "Beginner",
          "Beginner",
          "Intermediate",
          "Beginner",
          "Intermediate",
          "Intermediate",
          "Beginner",
          "Intermediate",
          "Intermediate",
          "Beginner",
          "Intermediate",
          "Beginner",
          "Beginner",
          "Intermediate",
          "Beginner",
          "Beginner",
          "Beginner",
          "Beginner",
          "Intermediate",
          "Intermediate",
          "Beginner",
          "Beginner",
          "Beginner",
          "Beginner",
          "Beginner",
          "Beginner",
          "Beginner",
          "Beginner",
          "Beginner",
          "Beginner",
          "Beginner",
          "Intermediate",
          "Intermediate",
          "Beginner",
          "Intermediate",
          "Beginner",
          "Beginner",
          "Beginner",
          "Beginner",
          "Beginner",
          "Beginner",
          "Beginner",
          "Beginner",
          "Intermediate",
          "Beginner",
          "Beginner",
          "Beginner",
          "Intermediate",
          "Intermediate",
          "Intermediate",
          "Beginner",
          "Beginner",
          "Intermediate",
          "Beginner",
          "Advanced",
          "Intermediate",
          "Intermediate",
          "Intermediate",
          "Intermediate",
          "Intermediate",
          "Beginner",
          "Beginner",
          "Beginner",
          "Beginner",
          "Beginner",
          "Beginner",
          "Beginner",
          "Intermediate",
          "Beginner",
          "Beginner",
          "Intermediate",
          "Intermediate",
          "Beginner",
          "Beginner",
          "Beginner",
          "Beginner",
          "Beginner",
          "Intermediate",
          "Beginner",
          "Beginner",
          "Beginner",
          "Beginner",
          "Beginner",
          "Beginner",
          "Beginner",
          "Intermediate",
          "Beginner",
          "Intermediate",
          "Beginner",
          "Intermediate",
          "Beginner",
          "Beginner",
          "Beginner",
          "Beginner",
          "Intermediate",
          "Beginner",
          "Beginner",
          "Beginner",
          "Intermediate",
          "Intermediate",
          "Intermediate",
          "Beginner",
          "Beginner",
          "Intermediate",
          "Beginner",
          "Beginner",
          "Beginner",
          "Beginner",
          "Beginner",
          "Beginner",
          "Intermediate",
          "Intermediate",
          "Beginner",
          "Intermediate",
          "Beginner",
          "Beginner",
          "Beginner",
          "Beginner",
          "Intermediate",
          "Intermediate",
          "Beginner",
          "Beginner",
          "Beginner",
          "Beginner",
          "Beginner",
          "Beginner",
          "Advanced",
          "Beginner",
          "Beginner",
          "Beginner",
          "Beginner",
          "Beginner",
          "Intermediate",
          "Beginner",
          "Beginner",
          "Beginner",
          "Beginner",
          "Beginner",
          "Intermediate",
          "Beginner",
          "Intermediate",
          "Intermediate",
          "Intermediate",
          "Beginner",
          "Intermediate",
          "Beginner",
          "Beginner",
          "Beginner",
          "Beginner",
          "Beginner",
          "Beginner",
          "Beginner",
          "Beginner",
          "Beginner",
          "Beginner",
          "Beginner",
          "Beginner",
          "Beginner",
          "Beginner",
          "Intermediate",
          "Beginner",
          "Beginner",
          "Intermediate",
          "Advanced",
          "Intermediate",
          "Beginner",
          "Beginner",
          "Beginner",
          "Intermediate",
          "Intermediate",
          "Intermediate",
          "Intermediate",
          "Intermediate",
          "Beginner",
          "Beginner",
          "Beginner",
          "Beginner",
          "Beginner",
          "Beginner",
          "Intermediate",
          "Beginner",
          "Beginner",
          "Beginner",
          "Beginner",
          "Beginner",
          "Beginner",
          "Beginner",
          "Intermediate",
          "Beginner",
          "Beginner",
          "Beginner",
          "Intermediate",
          "Beginner",
          "Intermediate",
          "Beginner",
          "Beginner",
          "Advanced",
          "Intermediate",
          "Beginner",
          "Beginner",
          "Intermediate",
          "Beginner",
          "Beginner",
          "Beginner",
          "Intermediate",
          "Beginner",
          "Beginner",
          "Beginner",
          "Intermediate",
          "Beginner",
          "Beginner",
          "Beginner",
          "Intermediate",
          "Intermediate",
          "Beginner",
          "Beginner",
          "Beginner",
          "Beginner",
          "Beginner",
          "Beginner",
          "Beginner",
          "Intermediate",
          "Intermediate",
          "Advanced",
          "Intermediate",
          "Beginner",
          "Beginner",
          "Beginner",
          "Beginner",
          "Intermediate",
          "Beginner",
          "Advanced",
          "Beginner",
          "Beginner",
          "Beginner",
          "Advanced",
          "Beginner",
          "Beginner",
          "Intermediate",
          "Intermediate",
          "Intermediate",
          "Beginner",
          "Beginner",
          "Beginner",
          "Intermediate",
          "Beginner",
          "Beginner",
          "Intermediate",
          "Intermediate",
          "Beginner",
          "Beginner",
          "Beginner",
          "Beginner",
          "Beginner",
          "Beginner",
          "Beginner",
          "Beginner",
          "Intermediate",
          "Beginner",
          "Intermediate",
          "Intermediate",
          "Beginner",
          "Beginner",
          "Intermediate",
          "Intermediate",
          "Beginner",
          "Beginner",
          "Intermediate",
          "Beginner",
          "Intermediate",
          "Beginner",
          "Beginner",
          "Intermediate",
          "Beginner",
          "Intermediate",
          "Intermediate",
          "Intermediate",
          "Intermediate",
          "Intermediate",
          "Beginner"
         ],
         "xaxis": "x",
         "yaxis": "y"
        },
        {
         "alignmentgroup": "True",
         "bingroup": "x",
         "hovertemplate": "course_Certificate_type=COURSE<br>course_difficulty=%{x}<br>count=%{y}<extra></extra>",
         "legendgroup": "COURSE",
         "marker": {
          "color": "#EF553B",
          "pattern": {
           "shape": ""
          }
         },
         "name": "COURSE",
         "offsetgroup": "COURSE",
         "orientation": "v",
         "showlegend": true,
         "type": "histogram",
         "x": [
          "Intermediate",
          "Mixed",
          "Mixed",
          "Mixed",
          "Beginner",
          "Beginner",
          "Intermediate",
          "Intermediate",
          "Intermediate",
          "Beginner",
          "Beginner",
          "Beginner",
          "Intermediate",
          "Mixed",
          "Beginner",
          "Mixed",
          "Intermediate",
          "Mixed",
          "Beginner",
          "Advanced",
          "Mixed",
          "Beginner",
          "Beginner",
          "Beginner",
          "Beginner",
          "Intermediate",
          "Beginner",
          "Beginner",
          "Beginner",
          "Intermediate",
          "Beginner",
          "Mixed",
          "Mixed",
          "Advanced",
          "Beginner",
          "Intermediate",
          "Intermediate",
          "Intermediate",
          "Intermediate",
          "Mixed",
          "Beginner",
          "Mixed",
          "Mixed",
          "Mixed",
          "Mixed",
          "Beginner",
          "Mixed",
          "Intermediate",
          "Mixed",
          "Advanced",
          "Advanced",
          "Beginner",
          "Beginner",
          "Intermediate",
          "Intermediate",
          "Mixed",
          "Beginner",
          "Beginner",
          "Mixed",
          "Mixed",
          "Beginner",
          "Beginner",
          "Intermediate",
          "Beginner",
          "Beginner",
          "Beginner",
          "Mixed",
          "Beginner",
          "Mixed",
          "Intermediate",
          "Beginner",
          "Intermediate",
          "Intermediate",
          "Mixed",
          "Intermediate",
          "Mixed",
          "Beginner",
          "Beginner",
          "Beginner",
          "Beginner",
          "Beginner",
          "Mixed",
          "Beginner",
          "Mixed",
          "Beginner",
          "Beginner",
          "Mixed",
          "Beginner",
          "Beginner",
          "Mixed",
          "Beginner",
          "Beginner",
          "Beginner",
          "Beginner",
          "Beginner",
          "Beginner",
          "Beginner",
          "Beginner",
          "Beginner",
          "Beginner",
          "Beginner",
          "Beginner",
          "Mixed",
          "Intermediate",
          "Intermediate",
          "Intermediate",
          "Mixed",
          "Beginner",
          "Mixed",
          "Beginner",
          "Beginner",
          "Intermediate",
          "Beginner",
          "Mixed",
          "Mixed",
          "Intermediate",
          "Intermediate",
          "Beginner",
          "Beginner",
          "Beginner",
          "Beginner",
          "Mixed",
          "Beginner",
          "Beginner",
          "Intermediate",
          "Beginner",
          "Beginner",
          "Beginner",
          "Mixed",
          "Beginner",
          "Intermediate",
          "Beginner",
          "Beginner",
          "Beginner",
          "Beginner",
          "Mixed",
          "Beginner",
          "Beginner",
          "Beginner",
          "Beginner",
          "Beginner",
          "Mixed",
          "Mixed",
          "Intermediate",
          "Mixed",
          "Mixed",
          "Beginner",
          "Mixed",
          "Beginner",
          "Beginner",
          "Intermediate",
          "Beginner",
          "Intermediate",
          "Mixed",
          "Beginner",
          "Beginner",
          "Beginner",
          "Beginner",
          "Intermediate",
          "Mixed",
          "Mixed",
          "Intermediate",
          "Mixed",
          "Beginner",
          "Beginner",
          "Intermediate",
          "Beginner",
          "Beginner",
          "Beginner",
          "Beginner",
          "Beginner",
          "Mixed",
          "Mixed",
          "Beginner",
          "Beginner",
          "Mixed",
          "Mixed",
          "Beginner",
          "Beginner",
          "Mixed",
          "Mixed",
          "Mixed",
          "Mixed",
          "Beginner",
          "Beginner",
          "Intermediate",
          "Intermediate",
          "Intermediate",
          "Mixed",
          "Beginner",
          "Beginner",
          "Beginner",
          "Intermediate",
          "Beginner",
          "Intermediate",
          "Intermediate",
          "Beginner",
          "Beginner",
          "Beginner",
          "Beginner",
          "Beginner",
          "Beginner",
          "Beginner",
          "Intermediate",
          "Beginner",
          "Beginner",
          "Mixed",
          "Beginner",
          "Mixed",
          "Mixed",
          "Beginner",
          "Beginner",
          "Mixed",
          "Mixed",
          "Intermediate",
          "Beginner",
          "Mixed",
          "Beginner",
          "Intermediate",
          "Intermediate",
          "Intermediate",
          "Beginner",
          "Mixed",
          "Beginner",
          "Beginner",
          "Intermediate",
          "Beginner",
          "Beginner",
          "Mixed",
          "Intermediate",
          "Beginner",
          "Beginner",
          "Beginner",
          "Beginner",
          "Beginner",
          "Mixed",
          "Beginner",
          "Mixed",
          "Mixed",
          "Mixed",
          "Beginner",
          "Beginner",
          "Intermediate",
          "Intermediate",
          "Intermediate",
          "Beginner",
          "Beginner",
          "Mixed",
          "Beginner",
          "Beginner",
          "Intermediate",
          "Mixed",
          "Intermediate",
          "Mixed",
          "Intermediate",
          "Intermediate",
          "Mixed",
          "Mixed",
          "Beginner",
          "Mixed",
          "Mixed",
          "Mixed",
          "Mixed",
          "Intermediate",
          "Mixed",
          "Mixed",
          "Intermediate",
          "Mixed",
          "Beginner",
          "Beginner",
          "Beginner",
          "Beginner",
          "Beginner",
          "Mixed",
          "Beginner",
          "Intermediate",
          "Beginner",
          "Mixed",
          "Beginner",
          "Beginner",
          "Mixed",
          "Mixed",
          "Intermediate",
          "Beginner",
          "Mixed",
          "Beginner",
          "Mixed",
          "Mixed",
          "Mixed",
          "Beginner",
          "Beginner",
          "Beginner",
          "Beginner",
          "Beginner",
          "Mixed",
          "Beginner",
          "Beginner",
          "Mixed",
          "Mixed",
          "Beginner",
          "Mixed",
          "Beginner",
          "Mixed",
          "Intermediate",
          "Mixed",
          "Intermediate",
          "Beginner",
          "Mixed",
          "Beginner",
          "Beginner",
          "Mixed",
          "Beginner",
          "Beginner",
          "Mixed",
          "Intermediate",
          "Beginner",
          "Mixed",
          "Intermediate",
          "Mixed",
          "Mixed",
          "Mixed",
          "Mixed",
          "Mixed",
          "Mixed",
          "Mixed",
          "Mixed",
          "Beginner",
          "Beginner",
          "Mixed",
          "Mixed",
          "Intermediate",
          "Mixed",
          "Beginner",
          "Mixed",
          "Mixed",
          "Beginner",
          "Beginner",
          "Beginner",
          "Advanced",
          "Mixed",
          "Beginner",
          "Mixed",
          "Mixed",
          "Mixed",
          "Intermediate",
          "Beginner",
          "Intermediate",
          "Beginner",
          "Beginner",
          "Beginner",
          "Beginner",
          "Beginner",
          "Mixed",
          "Beginner",
          "Beginner",
          "Beginner",
          "Beginner",
          "Intermediate",
          "Beginner",
          "Mixed",
          "Beginner",
          "Intermediate",
          "Beginner",
          "Beginner",
          "Beginner",
          "Intermediate",
          "Beginner",
          "Mixed",
          "Beginner",
          "Mixed",
          "Mixed",
          "Beginner",
          "Intermediate",
          "Intermediate",
          "Beginner",
          "Beginner",
          "Mixed",
          "Beginner",
          "Mixed",
          "Beginner",
          "Beginner",
          "Beginner",
          "Intermediate",
          "Mixed",
          "Beginner",
          "Mixed",
          "Beginner",
          "Mixed",
          "Beginner",
          "Beginner",
          "Intermediate",
          "Advanced",
          "Beginner",
          "Mixed",
          "Beginner",
          "Beginner",
          "Mixed",
          "Mixed",
          "Beginner",
          "Intermediate",
          "Mixed",
          "Mixed",
          "Mixed",
          "Intermediate",
          "Mixed",
          "Mixed",
          "Intermediate",
          "Mixed",
          "Intermediate",
          "Intermediate",
          "Mixed",
          "Beginner",
          "Beginner",
          "Intermediate",
          "Intermediate",
          "Intermediate",
          "Mixed",
          "Beginner",
          "Mixed",
          "Beginner",
          "Mixed",
          "Beginner",
          "Mixed",
          "Intermediate",
          "Beginner",
          "Beginner",
          "Mixed",
          "Mixed",
          "Beginner",
          "Beginner",
          "Beginner",
          "Intermediate",
          "Beginner",
          "Mixed",
          "Mixed",
          "Mixed",
          "Advanced",
          "Beginner",
          "Intermediate",
          "Beginner",
          "Beginner",
          "Mixed",
          "Beginner",
          "Beginner",
          "Mixed",
          "Beginner",
          "Beginner",
          "Intermediate",
          "Mixed",
          "Beginner",
          "Intermediate",
          "Beginner",
          "Mixed",
          "Beginner",
          "Intermediate",
          "Beginner",
          "Mixed",
          "Beginner",
          "Beginner",
          "Mixed",
          "Mixed",
          "Mixed",
          "Intermediate",
          "Beginner",
          "Beginner",
          "Mixed",
          "Beginner",
          "Intermediate",
          "Mixed",
          "Beginner",
          "Mixed",
          "Beginner",
          "Intermediate",
          "Beginner",
          "Beginner",
          "Advanced",
          "Intermediate",
          "Beginner",
          "Beginner",
          "Beginner",
          "Beginner",
          "Advanced",
          "Mixed",
          "Beginner",
          "Beginner",
          "Beginner",
          "Mixed",
          "Intermediate",
          "Mixed",
          "Beginner",
          "Beginner",
          "Intermediate",
          "Beginner",
          "Mixed",
          "Beginner",
          "Beginner",
          "Beginner",
          "Mixed",
          "Beginner",
          "Beginner",
          "Beginner",
          "Beginner",
          "Mixed",
          "Mixed",
          "Beginner",
          "Beginner",
          "Mixed",
          "Mixed",
          "Intermediate",
          "Mixed",
          "Beginner",
          "Beginner",
          "Beginner",
          "Beginner",
          "Intermediate",
          "Beginner",
          "Beginner",
          "Intermediate",
          "Beginner",
          "Mixed",
          "Mixed",
          "Mixed",
          "Mixed",
          "Mixed",
          "Beginner",
          "Beginner",
          "Intermediate",
          "Mixed",
          "Mixed",
          "Mixed",
          "Intermediate",
          "Beginner",
          "Beginner",
          "Mixed",
          "Mixed",
          "Intermediate",
          "Beginner",
          "Beginner",
          "Mixed",
          "Beginner",
          "Beginner",
          "Beginner",
          "Mixed",
          "Beginner",
          "Intermediate",
          "Beginner",
          "Beginner",
          "Mixed",
          "Beginner",
          "Beginner",
          "Beginner",
          "Mixed",
          "Beginner",
          "Beginner",
          "Beginner",
          "Intermediate",
          "Mixed",
          "Mixed",
          "Beginner",
          "Mixed",
          "Mixed",
          "Mixed",
          "Beginner",
          "Beginner",
          "Mixed",
          "Mixed",
          "Beginner",
          "Mixed",
          "Beginner",
          "Intermediate",
          "Beginner",
          "Mixed",
          "Beginner",
          "Beginner",
          "Mixed",
          "Beginner",
          "Intermediate",
          "Beginner",
          "Beginner",
          "Intermediate",
          "Intermediate",
          "Mixed"
         ],
         "xaxis": "x",
         "yaxis": "y"
        },
        {
         "alignmentgroup": "True",
         "bingroup": "x",
         "hovertemplate": "course_Certificate_type=PROFESSIONAL CERTIFICATE<br>course_difficulty=%{x}<br>count=%{y}<extra></extra>",
         "legendgroup": "PROFESSIONAL CERTIFICATE",
         "marker": {
          "color": "#00cc96",
          "pattern": {
           "shape": ""
          }
         },
         "name": "PROFESSIONAL CERTIFICATE",
         "offsetgroup": "PROFESSIONAL CERTIFICATE",
         "orientation": "v",
         "showlegend": true,
         "type": "histogram",
         "x": [
          "Beginner",
          "Intermediate",
          "Intermediate",
          "Beginner",
          "Beginner",
          "Intermediate",
          "Beginner",
          "Beginner",
          "Beginner",
          "Beginner",
          "Beginner",
          "Beginner"
         ],
         "xaxis": "x",
         "yaxis": "y"
        }
       ],
       "layout": {
        "barmode": "stack",
        "height": 600,
        "legend": {
         "title": {
          "text": "course_Certificate_type"
         },
         "tracegroupgap": 0
        },
        "template": {
         "data": {
          "bar": [
           {
            "error_x": {
             "color": "#2a3f5f"
            },
            "error_y": {
             "color": "#2a3f5f"
            },
            "marker": {
             "line": {
              "color": "white",
              "width": 0.5
             },
             "pattern": {
              "fillmode": "overlay",
              "size": 10,
              "solidity": 0.2
             }
            },
            "type": "bar"
           }
          ],
          "barpolar": [
           {
            "marker": {
             "line": {
              "color": "white",
              "width": 0.5
             },
             "pattern": {
              "fillmode": "overlay",
              "size": 10,
              "solidity": 0.2
             }
            },
            "type": "barpolar"
           }
          ],
          "carpet": [
           {
            "aaxis": {
             "endlinecolor": "#2a3f5f",
             "gridcolor": "#C8D4E3",
             "linecolor": "#C8D4E3",
             "minorgridcolor": "#C8D4E3",
             "startlinecolor": "#2a3f5f"
            },
            "baxis": {
             "endlinecolor": "#2a3f5f",
             "gridcolor": "#C8D4E3",
             "linecolor": "#C8D4E3",
             "minorgridcolor": "#C8D4E3",
             "startlinecolor": "#2a3f5f"
            },
            "type": "carpet"
           }
          ],
          "choropleth": [
           {
            "colorbar": {
             "outlinewidth": 0,
             "ticks": ""
            },
            "type": "choropleth"
           }
          ],
          "contour": [
           {
            "colorbar": {
             "outlinewidth": 0,
             "ticks": ""
            },
            "colorscale": [
             [
              0,
              "#0d0887"
             ],
             [
              0.1111111111111111,
              "#46039f"
             ],
             [
              0.2222222222222222,
              "#7201a8"
             ],
             [
              0.3333333333333333,
              "#9c179e"
             ],
             [
              0.4444444444444444,
              "#bd3786"
             ],
             [
              0.5555555555555556,
              "#d8576b"
             ],
             [
              0.6666666666666666,
              "#ed7953"
             ],
             [
              0.7777777777777778,
              "#fb9f3a"
             ],
             [
              0.8888888888888888,
              "#fdca26"
             ],
             [
              1,
              "#f0f921"
             ]
            ],
            "type": "contour"
           }
          ],
          "contourcarpet": [
           {
            "colorbar": {
             "outlinewidth": 0,
             "ticks": ""
            },
            "type": "contourcarpet"
           }
          ],
          "heatmap": [
           {
            "colorbar": {
             "outlinewidth": 0,
             "ticks": ""
            },
            "colorscale": [
             [
              0,
              "#0d0887"
             ],
             [
              0.1111111111111111,
              "#46039f"
             ],
             [
              0.2222222222222222,
              "#7201a8"
             ],
             [
              0.3333333333333333,
              "#9c179e"
             ],
             [
              0.4444444444444444,
              "#bd3786"
             ],
             [
              0.5555555555555556,
              "#d8576b"
             ],
             [
              0.6666666666666666,
              "#ed7953"
             ],
             [
              0.7777777777777778,
              "#fb9f3a"
             ],
             [
              0.8888888888888888,
              "#fdca26"
             ],
             [
              1,
              "#f0f921"
             ]
            ],
            "type": "heatmap"
           }
          ],
          "heatmapgl": [
           {
            "colorbar": {
             "outlinewidth": 0,
             "ticks": ""
            },
            "colorscale": [
             [
              0,
              "#0d0887"
             ],
             [
              0.1111111111111111,
              "#46039f"
             ],
             [
              0.2222222222222222,
              "#7201a8"
             ],
             [
              0.3333333333333333,
              "#9c179e"
             ],
             [
              0.4444444444444444,
              "#bd3786"
             ],
             [
              0.5555555555555556,
              "#d8576b"
             ],
             [
              0.6666666666666666,
              "#ed7953"
             ],
             [
              0.7777777777777778,
              "#fb9f3a"
             ],
             [
              0.8888888888888888,
              "#fdca26"
             ],
             [
              1,
              "#f0f921"
             ]
            ],
            "type": "heatmapgl"
           }
          ],
          "histogram": [
           {
            "marker": {
             "pattern": {
              "fillmode": "overlay",
              "size": 10,
              "solidity": 0.2
             }
            },
            "type": "histogram"
           }
          ],
          "histogram2d": [
           {
            "colorbar": {
             "outlinewidth": 0,
             "ticks": ""
            },
            "colorscale": [
             [
              0,
              "#0d0887"
             ],
             [
              0.1111111111111111,
              "#46039f"
             ],
             [
              0.2222222222222222,
              "#7201a8"
             ],
             [
              0.3333333333333333,
              "#9c179e"
             ],
             [
              0.4444444444444444,
              "#bd3786"
             ],
             [
              0.5555555555555556,
              "#d8576b"
             ],
             [
              0.6666666666666666,
              "#ed7953"
             ],
             [
              0.7777777777777778,
              "#fb9f3a"
             ],
             [
              0.8888888888888888,
              "#fdca26"
             ],
             [
              1,
              "#f0f921"
             ]
            ],
            "type": "histogram2d"
           }
          ],
          "histogram2dcontour": [
           {
            "colorbar": {
             "outlinewidth": 0,
             "ticks": ""
            },
            "colorscale": [
             [
              0,
              "#0d0887"
             ],
             [
              0.1111111111111111,
              "#46039f"
             ],
             [
              0.2222222222222222,
              "#7201a8"
             ],
             [
              0.3333333333333333,
              "#9c179e"
             ],
             [
              0.4444444444444444,
              "#bd3786"
             ],
             [
              0.5555555555555556,
              "#d8576b"
             ],
             [
              0.6666666666666666,
              "#ed7953"
             ],
             [
              0.7777777777777778,
              "#fb9f3a"
             ],
             [
              0.8888888888888888,
              "#fdca26"
             ],
             [
              1,
              "#f0f921"
             ]
            ],
            "type": "histogram2dcontour"
           }
          ],
          "mesh3d": [
           {
            "colorbar": {
             "outlinewidth": 0,
             "ticks": ""
            },
            "type": "mesh3d"
           }
          ],
          "parcoords": [
           {
            "line": {
             "colorbar": {
              "outlinewidth": 0,
              "ticks": ""
             }
            },
            "type": "parcoords"
           }
          ],
          "pie": [
           {
            "automargin": true,
            "type": "pie"
           }
          ],
          "scatter": [
           {
            "fillpattern": {
             "fillmode": "overlay",
             "size": 10,
             "solidity": 0.2
            },
            "type": "scatter"
           }
          ],
          "scatter3d": [
           {
            "line": {
             "colorbar": {
              "outlinewidth": 0,
              "ticks": ""
             }
            },
            "marker": {
             "colorbar": {
              "outlinewidth": 0,
              "ticks": ""
             }
            },
            "type": "scatter3d"
           }
          ],
          "scattercarpet": [
           {
            "marker": {
             "colorbar": {
              "outlinewidth": 0,
              "ticks": ""
             }
            },
            "type": "scattercarpet"
           }
          ],
          "scattergeo": [
           {
            "marker": {
             "colorbar": {
              "outlinewidth": 0,
              "ticks": ""
             }
            },
            "type": "scattergeo"
           }
          ],
          "scattergl": [
           {
            "marker": {
             "colorbar": {
              "outlinewidth": 0,
              "ticks": ""
             }
            },
            "type": "scattergl"
           }
          ],
          "scattermapbox": [
           {
            "marker": {
             "colorbar": {
              "outlinewidth": 0,
              "ticks": ""
             }
            },
            "type": "scattermapbox"
           }
          ],
          "scatterpolar": [
           {
            "marker": {
             "colorbar": {
              "outlinewidth": 0,
              "ticks": ""
             }
            },
            "type": "scatterpolar"
           }
          ],
          "scatterpolargl": [
           {
            "marker": {
             "colorbar": {
              "outlinewidth": 0,
              "ticks": ""
             }
            },
            "type": "scatterpolargl"
           }
          ],
          "scatterternary": [
           {
            "marker": {
             "colorbar": {
              "outlinewidth": 0,
              "ticks": ""
             }
            },
            "type": "scatterternary"
           }
          ],
          "surface": [
           {
            "colorbar": {
             "outlinewidth": 0,
             "ticks": ""
            },
            "colorscale": [
             [
              0,
              "#0d0887"
             ],
             [
              0.1111111111111111,
              "#46039f"
             ],
             [
              0.2222222222222222,
              "#7201a8"
             ],
             [
              0.3333333333333333,
              "#9c179e"
             ],
             [
              0.4444444444444444,
              "#bd3786"
             ],
             [
              0.5555555555555556,
              "#d8576b"
             ],
             [
              0.6666666666666666,
              "#ed7953"
             ],
             [
              0.7777777777777778,
              "#fb9f3a"
             ],
             [
              0.8888888888888888,
              "#fdca26"
             ],
             [
              1,
              "#f0f921"
             ]
            ],
            "type": "surface"
           }
          ],
          "table": [
           {
            "cells": {
             "fill": {
              "color": "#EBF0F8"
             },
             "line": {
              "color": "white"
             }
            },
            "header": {
             "fill": {
              "color": "#C8D4E3"
             },
             "line": {
              "color": "white"
             }
            },
            "type": "table"
           }
          ]
         },
         "layout": {
          "annotationdefaults": {
           "arrowcolor": "#2a3f5f",
           "arrowhead": 0,
           "arrowwidth": 1
          },
          "autotypenumbers": "strict",
          "coloraxis": {
           "colorbar": {
            "outlinewidth": 0,
            "ticks": ""
           }
          },
          "colorscale": {
           "diverging": [
            [
             0,
             "#8e0152"
            ],
            [
             0.1,
             "#c51b7d"
            ],
            [
             0.2,
             "#de77ae"
            ],
            [
             0.3,
             "#f1b6da"
            ],
            [
             0.4,
             "#fde0ef"
            ],
            [
             0.5,
             "#f7f7f7"
            ],
            [
             0.6,
             "#e6f5d0"
            ],
            [
             0.7,
             "#b8e186"
            ],
            [
             0.8,
             "#7fbc41"
            ],
            [
             0.9,
             "#4d9221"
            ],
            [
             1,
             "#276419"
            ]
           ],
           "sequential": [
            [
             0,
             "#0d0887"
            ],
            [
             0.1111111111111111,
             "#46039f"
            ],
            [
             0.2222222222222222,
             "#7201a8"
            ],
            [
             0.3333333333333333,
             "#9c179e"
            ],
            [
             0.4444444444444444,
             "#bd3786"
            ],
            [
             0.5555555555555556,
             "#d8576b"
            ],
            [
             0.6666666666666666,
             "#ed7953"
            ],
            [
             0.7777777777777778,
             "#fb9f3a"
            ],
            [
             0.8888888888888888,
             "#fdca26"
            ],
            [
             1,
             "#f0f921"
            ]
           ],
           "sequentialminus": [
            [
             0,
             "#0d0887"
            ],
            [
             0.1111111111111111,
             "#46039f"
            ],
            [
             0.2222222222222222,
             "#7201a8"
            ],
            [
             0.3333333333333333,
             "#9c179e"
            ],
            [
             0.4444444444444444,
             "#bd3786"
            ],
            [
             0.5555555555555556,
             "#d8576b"
            ],
            [
             0.6666666666666666,
             "#ed7953"
            ],
            [
             0.7777777777777778,
             "#fb9f3a"
            ],
            [
             0.8888888888888888,
             "#fdca26"
            ],
            [
             1,
             "#f0f921"
            ]
           ]
          },
          "colorway": [
           "#636efa",
           "#EF553B",
           "#00cc96",
           "#ab63fa",
           "#FFA15A",
           "#19d3f3",
           "#FF6692",
           "#B6E880",
           "#FF97FF",
           "#FECB52"
          ],
          "font": {
           "color": "#2a3f5f"
          },
          "geo": {
           "bgcolor": "white",
           "lakecolor": "white",
           "landcolor": "white",
           "showlakes": true,
           "showland": true,
           "subunitcolor": "#C8D4E3"
          },
          "hoverlabel": {
           "align": "left"
          },
          "hovermode": "closest",
          "mapbox": {
           "style": "light"
          },
          "paper_bgcolor": "white",
          "plot_bgcolor": "white",
          "polar": {
           "angularaxis": {
            "gridcolor": "#EBF0F8",
            "linecolor": "#EBF0F8",
            "ticks": ""
           },
           "bgcolor": "white",
           "radialaxis": {
            "gridcolor": "#EBF0F8",
            "linecolor": "#EBF0F8",
            "ticks": ""
           }
          },
          "scene": {
           "xaxis": {
            "backgroundcolor": "white",
            "gridcolor": "#DFE8F3",
            "gridwidth": 2,
            "linecolor": "#EBF0F8",
            "showbackground": true,
            "ticks": "",
            "zerolinecolor": "#EBF0F8"
           },
           "yaxis": {
            "backgroundcolor": "white",
            "gridcolor": "#DFE8F3",
            "gridwidth": 2,
            "linecolor": "#EBF0F8",
            "showbackground": true,
            "ticks": "",
            "zerolinecolor": "#EBF0F8"
           },
           "zaxis": {
            "backgroundcolor": "white",
            "gridcolor": "#DFE8F3",
            "gridwidth": 2,
            "linecolor": "#EBF0F8",
            "showbackground": true,
            "ticks": "",
            "zerolinecolor": "#EBF0F8"
           }
          },
          "shapedefaults": {
           "line": {
            "color": "#2a3f5f"
           }
          },
          "ternary": {
           "aaxis": {
            "gridcolor": "#DFE8F3",
            "linecolor": "#A2B1C6",
            "ticks": ""
           },
           "baxis": {
            "gridcolor": "#DFE8F3",
            "linecolor": "#A2B1C6",
            "ticks": ""
           },
           "bgcolor": "white",
           "caxis": {
            "gridcolor": "#DFE8F3",
            "linecolor": "#A2B1C6",
            "ticks": ""
           }
          },
          "title": {
           "x": 0.05
          },
          "xaxis": {
           "automargin": true,
           "gridcolor": "#EBF0F8",
           "linecolor": "#EBF0F8",
           "ticks": "",
           "title": {
            "standoff": 15
           },
           "zerolinecolor": "#EBF0F8",
           "zerolinewidth": 2
          },
          "yaxis": {
           "automargin": true,
           "gridcolor": "#EBF0F8",
           "linecolor": "#EBF0F8",
           "ticks": "",
           "title": {
            "standoff": 15
           },
           "zerolinecolor": "#EBF0F8",
           "zerolinewidth": 2
          }
         }
        },
        "title": {
         "text": "Certificate Types Offered by Difficulty"
        },
        "width": 950,
        "xaxis": {
         "anchor": "y",
         "domain": [
          0,
          1
         ],
         "title": {
          "text": "Difficulty"
         }
        },
        "yaxis": {
         "anchor": "x",
         "domain": [
          0,
          1
         ],
         "title": {
          "text": "Number of Courses"
         }
        }
       }
      }
     },
     "metadata": {},
     "output_type": "display_data"
    }
   ],
   "source": [
    "fig_stack = px.histogram(\n",
    "    df,\n",
    "    x=\"course_difficulty\",\n",
    "    color=\"course_Certificate_type\",\n",
    "    barmode='stack',\n",
    "    template='plotly_white',\n",
    "    title='Certificate Types Offered by Difficulty',\n",
    "    width=950,\n",
    "    height=600\n",
    ")\n",
    "fig_stack.update_layout(xaxis_title='Difficulty', yaxis_title='Number of Courses')\n",
    "fig_stack.show()"
   ]
  },
  {
   "cell_type": "markdown",
   "metadata": {},
   "source": [
    "### Enrollments compared to Certificate Types"
   ]
  },
  {
   "cell_type": "code",
   "execution_count": null,
   "metadata": {},
   "outputs": [
    {
     "data": {
      "application/vnd.plotly.v1+json": {
       "config": {
        "plotlyServerURL": "https://plot.ly"
       },
       "data": [
        {
         "alignmentgroup": "True",
         "hovertemplate": "course_Certificate_type=%{x}<br>total_enrolled=%{text}<extra></extra>",
         "legendgroup": "COURSE",
         "marker": {
          "color": "#636efa",
          "pattern": {
           "shape": ""
          }
         },
         "name": "COURSE",
         "offsetgroup": "COURSE",
         "orientation": "v",
         "showlegend": true,
         "text": [
          51131300
         ],
         "textposition": "outside",
         "type": "bar",
         "x": [
          "COURSE"
         ],
         "xaxis": "x",
         "y": [
          51131300
         ],
         "yaxis": "y"
        },
        {
         "alignmentgroup": "True",
         "hovertemplate": "course_Certificate_type=%{x}<br>total_enrolled=%{text}<extra></extra>",
         "legendgroup": "SPECIALIZATION",
         "marker": {
          "color": "#EF553B",
          "pattern": {
           "shape": ""
          }
         },
         "name": "SPECIALIZATION",
         "offsetgroup": "SPECIALIZATION",
         "orientation": "v",
         "showlegend": true,
         "text": [
          27262200
         ],
         "textposition": "outside",
         "type": "bar",
         "x": [
          "SPECIALIZATION"
         ],
         "xaxis": "x",
         "y": [
          27262200
         ],
         "yaxis": "y"
        },
        {
         "alignmentgroup": "True",
         "hovertemplate": "course_Certificate_type=%{x}<br>total_enrolled=%{text}<extra></extra>",
         "legendgroup": "PROFESSIONAL CERTIFICATE",
         "marker": {
          "color": "#00cc96",
          "pattern": {
           "shape": ""
          }
         },
         "name": "PROFESSIONAL CERTIFICATE",
         "offsetgroup": "PROFESSIONAL CERTIFICATE",
         "orientation": "v",
         "showlegend": true,
         "text": [
          2288400
         ],
         "textposition": "outside",
         "type": "bar",
         "x": [
          "PROFESSIONAL CERTIFICATE"
         ],
         "xaxis": "x",
         "y": [
          2288400
         ],
         "yaxis": "y"
        }
       ],
       "layout": {
        "barmode": "stack",
        "height": 600,
        "legend": {
         "title": {
          "text": "course_Certificate_type"
         },
         "tracegroupgap": 0
        },
        "showlegend": true,
        "template": {
         "data": {
          "bar": [
           {
            "error_x": {
             "color": "#2a3f5f"
            },
            "error_y": {
             "color": "#2a3f5f"
            },
            "marker": {
             "line": {
              "color": "white",
              "width": 0.5
             },
             "pattern": {
              "fillmode": "overlay",
              "size": 10,
              "solidity": 0.2
             }
            },
            "type": "bar"
           }
          ],
          "barpolar": [
           {
            "marker": {
             "line": {
              "color": "white",
              "width": 0.5
             },
             "pattern": {
              "fillmode": "overlay",
              "size": 10,
              "solidity": 0.2
             }
            },
            "type": "barpolar"
           }
          ],
          "carpet": [
           {
            "aaxis": {
             "endlinecolor": "#2a3f5f",
             "gridcolor": "#C8D4E3",
             "linecolor": "#C8D4E3",
             "minorgridcolor": "#C8D4E3",
             "startlinecolor": "#2a3f5f"
            },
            "baxis": {
             "endlinecolor": "#2a3f5f",
             "gridcolor": "#C8D4E3",
             "linecolor": "#C8D4E3",
             "minorgridcolor": "#C8D4E3",
             "startlinecolor": "#2a3f5f"
            },
            "type": "carpet"
           }
          ],
          "choropleth": [
           {
            "colorbar": {
             "outlinewidth": 0,
             "ticks": ""
            },
            "type": "choropleth"
           }
          ],
          "contour": [
           {
            "colorbar": {
             "outlinewidth": 0,
             "ticks": ""
            },
            "colorscale": [
             [
              0,
              "#0d0887"
             ],
             [
              0.1111111111111111,
              "#46039f"
             ],
             [
              0.2222222222222222,
              "#7201a8"
             ],
             [
              0.3333333333333333,
              "#9c179e"
             ],
             [
              0.4444444444444444,
              "#bd3786"
             ],
             [
              0.5555555555555556,
              "#d8576b"
             ],
             [
              0.6666666666666666,
              "#ed7953"
             ],
             [
              0.7777777777777778,
              "#fb9f3a"
             ],
             [
              0.8888888888888888,
              "#fdca26"
             ],
             [
              1,
              "#f0f921"
             ]
            ],
            "type": "contour"
           }
          ],
          "contourcarpet": [
           {
            "colorbar": {
             "outlinewidth": 0,
             "ticks": ""
            },
            "type": "contourcarpet"
           }
          ],
          "heatmap": [
           {
            "colorbar": {
             "outlinewidth": 0,
             "ticks": ""
            },
            "colorscale": [
             [
              0,
              "#0d0887"
             ],
             [
              0.1111111111111111,
              "#46039f"
             ],
             [
              0.2222222222222222,
              "#7201a8"
             ],
             [
              0.3333333333333333,
              "#9c179e"
             ],
             [
              0.4444444444444444,
              "#bd3786"
             ],
             [
              0.5555555555555556,
              "#d8576b"
             ],
             [
              0.6666666666666666,
              "#ed7953"
             ],
             [
              0.7777777777777778,
              "#fb9f3a"
             ],
             [
              0.8888888888888888,
              "#fdca26"
             ],
             [
              1,
              "#f0f921"
             ]
            ],
            "type": "heatmap"
           }
          ],
          "heatmapgl": [
           {
            "colorbar": {
             "outlinewidth": 0,
             "ticks": ""
            },
            "colorscale": [
             [
              0,
              "#0d0887"
             ],
             [
              0.1111111111111111,
              "#46039f"
             ],
             [
              0.2222222222222222,
              "#7201a8"
             ],
             [
              0.3333333333333333,
              "#9c179e"
             ],
             [
              0.4444444444444444,
              "#bd3786"
             ],
             [
              0.5555555555555556,
              "#d8576b"
             ],
             [
              0.6666666666666666,
              "#ed7953"
             ],
             [
              0.7777777777777778,
              "#fb9f3a"
             ],
             [
              0.8888888888888888,
              "#fdca26"
             ],
             [
              1,
              "#f0f921"
             ]
            ],
            "type": "heatmapgl"
           }
          ],
          "histogram": [
           {
            "marker": {
             "pattern": {
              "fillmode": "overlay",
              "size": 10,
              "solidity": 0.2
             }
            },
            "type": "histogram"
           }
          ],
          "histogram2d": [
           {
            "colorbar": {
             "outlinewidth": 0,
             "ticks": ""
            },
            "colorscale": [
             [
              0,
              "#0d0887"
             ],
             [
              0.1111111111111111,
              "#46039f"
             ],
             [
              0.2222222222222222,
              "#7201a8"
             ],
             [
              0.3333333333333333,
              "#9c179e"
             ],
             [
              0.4444444444444444,
              "#bd3786"
             ],
             [
              0.5555555555555556,
              "#d8576b"
             ],
             [
              0.6666666666666666,
              "#ed7953"
             ],
             [
              0.7777777777777778,
              "#fb9f3a"
             ],
             [
              0.8888888888888888,
              "#fdca26"
             ],
             [
              1,
              "#f0f921"
             ]
            ],
            "type": "histogram2d"
           }
          ],
          "histogram2dcontour": [
           {
            "colorbar": {
             "outlinewidth": 0,
             "ticks": ""
            },
            "colorscale": [
             [
              0,
              "#0d0887"
             ],
             [
              0.1111111111111111,
              "#46039f"
             ],
             [
              0.2222222222222222,
              "#7201a8"
             ],
             [
              0.3333333333333333,
              "#9c179e"
             ],
             [
              0.4444444444444444,
              "#bd3786"
             ],
             [
              0.5555555555555556,
              "#d8576b"
             ],
             [
              0.6666666666666666,
              "#ed7953"
             ],
             [
              0.7777777777777778,
              "#fb9f3a"
             ],
             [
              0.8888888888888888,
              "#fdca26"
             ],
             [
              1,
              "#f0f921"
             ]
            ],
            "type": "histogram2dcontour"
           }
          ],
          "mesh3d": [
           {
            "colorbar": {
             "outlinewidth": 0,
             "ticks": ""
            },
            "type": "mesh3d"
           }
          ],
          "parcoords": [
           {
            "line": {
             "colorbar": {
              "outlinewidth": 0,
              "ticks": ""
             }
            },
            "type": "parcoords"
           }
          ],
          "pie": [
           {
            "automargin": true,
            "type": "pie"
           }
          ],
          "scatter": [
           {
            "fillpattern": {
             "fillmode": "overlay",
             "size": 10,
             "solidity": 0.2
            },
            "type": "scatter"
           }
          ],
          "scatter3d": [
           {
            "line": {
             "colorbar": {
              "outlinewidth": 0,
              "ticks": ""
             }
            },
            "marker": {
             "colorbar": {
              "outlinewidth": 0,
              "ticks": ""
             }
            },
            "type": "scatter3d"
           }
          ],
          "scattercarpet": [
           {
            "marker": {
             "colorbar": {
              "outlinewidth": 0,
              "ticks": ""
             }
            },
            "type": "scattercarpet"
           }
          ],
          "scattergeo": [
           {
            "marker": {
             "colorbar": {
              "outlinewidth": 0,
              "ticks": ""
             }
            },
            "type": "scattergeo"
           }
          ],
          "scattergl": [
           {
            "marker": {
             "colorbar": {
              "outlinewidth": 0,
              "ticks": ""
             }
            },
            "type": "scattergl"
           }
          ],
          "scattermapbox": [
           {
            "marker": {
             "colorbar": {
              "outlinewidth": 0,
              "ticks": ""
             }
            },
            "type": "scattermapbox"
           }
          ],
          "scatterpolar": [
           {
            "marker": {
             "colorbar": {
              "outlinewidth": 0,
              "ticks": ""
             }
            },
            "type": "scatterpolar"
           }
          ],
          "scatterpolargl": [
           {
            "marker": {
             "colorbar": {
              "outlinewidth": 0,
              "ticks": ""
             }
            },
            "type": "scatterpolargl"
           }
          ],
          "scatterternary": [
           {
            "marker": {
             "colorbar": {
              "outlinewidth": 0,
              "ticks": ""
             }
            },
            "type": "scatterternary"
           }
          ],
          "surface": [
           {
            "colorbar": {
             "outlinewidth": 0,
             "ticks": ""
            },
            "colorscale": [
             [
              0,
              "#0d0887"
             ],
             [
              0.1111111111111111,
              "#46039f"
             ],
             [
              0.2222222222222222,
              "#7201a8"
             ],
             [
              0.3333333333333333,
              "#9c179e"
             ],
             [
              0.4444444444444444,
              "#bd3786"
             ],
             [
              0.5555555555555556,
              "#d8576b"
             ],
             [
              0.6666666666666666,
              "#ed7953"
             ],
             [
              0.7777777777777778,
              "#fb9f3a"
             ],
             [
              0.8888888888888888,
              "#fdca26"
             ],
             [
              1,
              "#f0f921"
             ]
            ],
            "type": "surface"
           }
          ],
          "table": [
           {
            "cells": {
             "fill": {
              "color": "#EBF0F8"
             },
             "line": {
              "color": "white"
             }
            },
            "header": {
             "fill": {
              "color": "#C8D4E3"
             },
             "line": {
              "color": "white"
             }
            },
            "type": "table"
           }
          ]
         },
         "layout": {
          "annotationdefaults": {
           "arrowcolor": "#2a3f5f",
           "arrowhead": 0,
           "arrowwidth": 1
          },
          "autotypenumbers": "strict",
          "coloraxis": {
           "colorbar": {
            "outlinewidth": 0,
            "ticks": ""
           }
          },
          "colorscale": {
           "diverging": [
            [
             0,
             "#8e0152"
            ],
            [
             0.1,
             "#c51b7d"
            ],
            [
             0.2,
             "#de77ae"
            ],
            [
             0.3,
             "#f1b6da"
            ],
            [
             0.4,
             "#fde0ef"
            ],
            [
             0.5,
             "#f7f7f7"
            ],
            [
             0.6,
             "#e6f5d0"
            ],
            [
             0.7,
             "#b8e186"
            ],
            [
             0.8,
             "#7fbc41"
            ],
            [
             0.9,
             "#4d9221"
            ],
            [
             1,
             "#276419"
            ]
           ],
           "sequential": [
            [
             0,
             "#0d0887"
            ],
            [
             0.1111111111111111,
             "#46039f"
            ],
            [
             0.2222222222222222,
             "#7201a8"
            ],
            [
             0.3333333333333333,
             "#9c179e"
            ],
            [
             0.4444444444444444,
             "#bd3786"
            ],
            [
             0.5555555555555556,
             "#d8576b"
            ],
            [
             0.6666666666666666,
             "#ed7953"
            ],
            [
             0.7777777777777778,
             "#fb9f3a"
            ],
            [
             0.8888888888888888,
             "#fdca26"
            ],
            [
             1,
             "#f0f921"
            ]
           ],
           "sequentialminus": [
            [
             0,
             "#0d0887"
            ],
            [
             0.1111111111111111,
             "#46039f"
            ],
            [
             0.2222222222222222,
             "#7201a8"
            ],
            [
             0.3333333333333333,
             "#9c179e"
            ],
            [
             0.4444444444444444,
             "#bd3786"
            ],
            [
             0.5555555555555556,
             "#d8576b"
            ],
            [
             0.6666666666666666,
             "#ed7953"
            ],
            [
             0.7777777777777778,
             "#fb9f3a"
            ],
            [
             0.8888888888888888,
             "#fdca26"
            ],
            [
             1,
             "#f0f921"
            ]
           ]
          },
          "colorway": [
           "#636efa",
           "#EF553B",
           "#00cc96",
           "#ab63fa",
           "#FFA15A",
           "#19d3f3",
           "#FF6692",
           "#B6E880",
           "#FF97FF",
           "#FECB52"
          ],
          "font": {
           "color": "#2a3f5f"
          },
          "geo": {
           "bgcolor": "white",
           "lakecolor": "white",
           "landcolor": "white",
           "showlakes": true,
           "showland": true,
           "subunitcolor": "#C8D4E3"
          },
          "hoverlabel": {
           "align": "left"
          },
          "hovermode": "closest",
          "mapbox": {
           "style": "light"
          },
          "paper_bgcolor": "white",
          "plot_bgcolor": "white",
          "polar": {
           "angularaxis": {
            "gridcolor": "#EBF0F8",
            "linecolor": "#EBF0F8",
            "ticks": ""
           },
           "bgcolor": "white",
           "radialaxis": {
            "gridcolor": "#EBF0F8",
            "linecolor": "#EBF0F8",
            "ticks": ""
           }
          },
          "scene": {
           "xaxis": {
            "backgroundcolor": "white",
            "gridcolor": "#DFE8F3",
            "gridwidth": 2,
            "linecolor": "#EBF0F8",
            "showbackground": true,
            "ticks": "",
            "zerolinecolor": "#EBF0F8"
           },
           "yaxis": {
            "backgroundcolor": "white",
            "gridcolor": "#DFE8F3",
            "gridwidth": 2,
            "linecolor": "#EBF0F8",
            "showbackground": true,
            "ticks": "",
            "zerolinecolor": "#EBF0F8"
           },
           "zaxis": {
            "backgroundcolor": "white",
            "gridcolor": "#DFE8F3",
            "gridwidth": 2,
            "linecolor": "#EBF0F8",
            "showbackground": true,
            "ticks": "",
            "zerolinecolor": "#EBF0F8"
           }
          },
          "shapedefaults": {
           "line": {
            "color": "#2a3f5f"
           }
          },
          "ternary": {
           "aaxis": {
            "gridcolor": "#DFE8F3",
            "linecolor": "#A2B1C6",
            "ticks": ""
           },
           "baxis": {
            "gridcolor": "#DFE8F3",
            "linecolor": "#A2B1C6",
            "ticks": ""
           },
           "bgcolor": "white",
           "caxis": {
            "gridcolor": "#DFE8F3",
            "linecolor": "#A2B1C6",
            "ticks": ""
           }
          },
          "title": {
           "x": 0.05
          },
          "xaxis": {
           "automargin": true,
           "gridcolor": "#EBF0F8",
           "linecolor": "#EBF0F8",
           "ticks": "",
           "title": {
            "standoff": 15
           },
           "zerolinecolor": "#EBF0F8",
           "zerolinewidth": 2
          },
          "yaxis": {
           "automargin": true,
           "gridcolor": "#EBF0F8",
           "linecolor": "#EBF0F8",
           "ticks": "",
           "title": {
            "standoff": 15
           },
           "zerolinecolor": "#EBF0F8",
           "zerolinewidth": 2
          }
         }
        },
        "title": {
         "text": "Total Enrollment by Certificate Type"
        },
        "width": 950,
        "xaxis": {
         "anchor": "y",
         "categoryarray": [
          "COURSE",
          "SPECIALIZATION",
          "PROFESSIONAL CERTIFICATE"
         ],
         "categoryorder": "array",
         "domain": [
          0,
          1
         ],
         "title": {
          "text": "Certificate Type"
         }
        },
        "yaxis": {
         "anchor": "x",
         "domain": [
          0,
          1
         ],
         "title": {
          "text": "Number of Enrollments"
         }
        }
       }
      }
     },
     "metadata": {},
     "output_type": "display_data"
    }
   ],
   "source": [
    "cert_grouped = (\n",
    "    df.groupby(\"course_Certificate_type\")\n",
    "      .agg(total_enrolled=(\"course_students_enrolled\", \"sum\"))\n",
    "      .reset_index()\n",
    "      .sort_values(\"total_enrolled\", ascending=False)\n",
    ")\n",
    "fig = px.bar(\n",
    "    cert_grouped,\n",
    "    x=\"course_Certificate_type\",\n",
    "    y=\"total_enrolled\",\n",
    "    color=\"course_Certificate_type\",     # Assign a distinct color per certificate type\n",
    "    barmode='stack',                     # Same stacking mode as your histogram code\n",
    "    template='plotly_white',\n",
    "    title='Total Enrollment by Certificate Type',\n",
    "    width=950,\n",
    "    height=600,\n",
    "    text=\"total_enrolled\"               # Display enrollment numbers on each bar\n",
    ")\n",
    "\n",
    "fig.update_traces(textposition=\"outside\")\n",
    "fig.update_layout(\n",
    "    xaxis_title=\"Certificate Type\",\n",
    "    yaxis_title=\"Number of Enrollments\",\n",
    "    showlegend=True  # Keep legend so each color is identified\n",
    ")\n",
    "\n",
    "fig.show()\n"
   ]
  },
  {
   "cell_type": "markdown",
   "metadata": {},
   "source": [
    "### Correlation Heatmap (Numeric Columns)"
   ]
  },
  {
   "cell_type": "code",
   "execution_count": 16,
   "metadata": {},
   "outputs": [
    {
     "data": {
      "image/png": "[encoded data removed]",
      "text/plain": [
       "<Figure size 600x400 with 2 Axes>"
      ]
     },
     "metadata": {},
     "output_type": "display_data"
    }
   ],
   "source": [
    "plt.figure(figsize=(6,4))\n",
    "corr = df.corr(numeric_only=True)\n",
    "sns.heatmap(corr, annot=True, cmap='coolwarm')\n",
    "plt.title(\"Correlation Heatmap of Numeric Features\")\n",
    "plt.show()"
   ]
  },
  {
   "cell_type": "markdown",
   "metadata": {},
   "source": [
    "## Conclusions"
   ]
  },
  {
   "cell_type": "markdown",
   "metadata": {},
   "source": [
    "## Ideas for Improvements"
   ]
  }
 ],
 "metadata": {
  "kernelspec": {
   "display_name": "base",
   "language": "python",
   "name": "python3"
  },
  "language_info": {
   "codemirror_mode": {
    "name": "ipython",
    "version": 3
   },
   "file_extension": ".py",
   "mimetype": "text/x-python",
   "name": "python",
   "nbconvert_exporter": "python",
   "pygments_lexer": "ipython3",
   "version": "3.12.7"
  }
 },
 "nbformat": 4,
 "nbformat_minor": 2
}
